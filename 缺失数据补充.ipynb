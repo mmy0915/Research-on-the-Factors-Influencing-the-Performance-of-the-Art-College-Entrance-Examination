{
 "cells": [
  {
   "cell_type": "code",
   "execution_count": 3,
   "metadata": {},
   "outputs": [],
   "source": [
    "# Python ≥3.5 is required\n",
    "import sys\n",
    "assert sys.version_info >= (3, 5)\n",
    "\n",
    "# Scikit-Learn ≥0.20 is required\n",
    "import sklearn\n",
    "assert sklearn.__version__ >= \"0.20\"\n",
    "\n",
    "# Common imports\n",
    "import numpy as np\n",
    "import os\n",
    "\n",
    "# To plot pretty figures\n",
    "%matplotlib inline\n",
    "import matplotlib as mpl\n",
    "import matplotlib.pyplot as plt"
   ]
  },
  {
   "cell_type": "code",
   "execution_count": 4,
   "metadata": {},
   "outputs": [],
   "source": [
    "# import os\n",
    "import xlrd\n",
    "import xlsxwriter\n"
   ]
  },
  {
   "cell_type": "code",
   "execution_count": null,
   "metadata": {},
   "outputs": [],
   "source": [
    "\n",
    "# 在下方输入需要合并的文件所在文件夹位置\n",
    "path='/Users/ichigo34/Downloads/2.招生数据分析项目/回归分析/招生宣传分析用数据（分离）/录取数据'\n",
    "# 在下方输入合并后Excel的路径和文件名\n",
    "work=xlsxwriter.Workbook('录取汇总信息.xls')\n",
    "# 新建一个sheet\n",
    "sheet=work.add_worksheet('combine')\n",
    "\n",
    "file_list=os.listdir(path)\n",
    "file_list.sort()\n",
    "\n",
    "# Main\n",
    "file_name='';\n",
    "x1=1; x2=1;\n",
    "fileNum = len(file_list)\n",
    "print(\"在该目录下有%d个xls文件\"%fileNum)\n",
    "for file in file_list:\n",
    "    if '录取' in file:                       #此处需要修改！\n",
    "        file_name = os.path.join(path,file) \n",
    "    else:\n",
    "        continue\n",
    "\n",
    "    workbook=xlrd.open_workbook(file_name)\n",
    "    sheet_name=workbook.sheet_names()\n",
    "\n",
    "    for file_1 in sheet_name:\n",
    "        table=workbook.sheet_by_name(file_1)\n",
    "        rows=table.nrows\n",
    "        clos=table.ncols\n",
    "\n",
    "        for i in range(rows): \n",
    "            sheet.write_row('A'+str(x1),table.row_values(i))\n",
    "            x1+=1\n",
    "\n",
    "    print('正在合并第%d个文件 '%x2)\n",
    "    print('已完成 ' + file_name)\n",
    "    x2 += 1;\n",
    "    \n",
    "print(\"已将%d个文件合并完成\"%fileNum)\n",
    "work.close()"
   ]
  },
  {
   "cell_type": "code",
   "execution_count": 5,
   "metadata": {},
   "outputs": [],
   "source": [
    "import pandas as pd"
   ]
  },
  {
   "cell_type": "code",
   "execution_count": null,
   "metadata": {},
   "outputs": [],
   "source": [
    "file2 = \"/Users/ichigo34/Downloads/2.招生数据分析项目/回归分析/招生宣传分析用数据（分离）/录取数据/2016年本科层次、高职层次新生录取名单（分析用）.xls\""
   ]
  },
  {
   "cell_type": "code",
   "execution_count": null,
   "metadata": {},
   "outputs": [],
   "source": [
    "df2016_luqu = pd.read_excel(file2)"
   ]
  },
  {
   "cell_type": "code",
   "execution_count": null,
   "metadata": {},
   "outputs": [],
   "source": [
    "df2016_luqu.head()"
   ]
  },
  {
   "cell_type": "code",
   "execution_count": null,
   "metadata": {},
   "outputs": [],
   "source": [
    "file3 = \"/Users/ichigo34/Downloads/2.招生数据分析项目/回归分析/招生宣传分析用数据（分离）/录取数据/2018年本科新生录取信息（分析用）.xls\""
   ]
  },
  {
   "cell_type": "code",
   "execution_count": null,
   "metadata": {},
   "outputs": [],
   "source": [
    "df2018_luqu = pd.read_excel(file3)"
   ]
  },
  {
   "cell_type": "code",
   "execution_count": null,
   "metadata": {},
   "outputs": [],
   "source": [
    "file4 = \"/Users/ichigo34/Downloads/2.招生数据分析项目/高考分数相关/高考相关数据.xlsx\""
   ]
  },
  {
   "cell_type": "code",
   "execution_count": null,
   "metadata": {},
   "outputs": [],
   "source": [
    "score_line_2016 = pd.read_excel(file4,sheet_name='2016')"
   ]
  },
  {
   "cell_type": "code",
   "execution_count": null,
   "metadata": {},
   "outputs": [],
   "source": [
    "score_line_2016.head()"
   ]
  },
  {
   "cell_type": "code",
   "execution_count": null,
   "metadata": {},
   "outputs": [],
   "source": [
    "len(score_line_2016)"
   ]
  },
  {
   "cell_type": "code",
   "execution_count": null,
   "metadata": {},
   "outputs": [],
   "source": [
    "score_line_2017 = pd.read_excel(file4,sheet_name='2017')"
   ]
  },
  {
   "cell_type": "code",
   "execution_count": null,
   "metadata": {},
   "outputs": [],
   "source": [
    "score_line_2017.head()"
   ]
  },
  {
   "cell_type": "code",
   "execution_count": null,
   "metadata": {},
   "outputs": [],
   "source": [
    "score_line_2018 = pd.read_excel(file4,sheet_name='2018') # df.at['two','pop']"
   ]
  },
  {
   "cell_type": "code",
   "execution_count": null,
   "metadata": {},
   "outputs": [],
   "source": [
    "score_line_2018.head()"
   ]
  },
  {
   "cell_type": "code",
   "execution_count": null,
   "metadata": {},
   "outputs": [],
   "source": [
    "score_line_2018.tail()"
   ]
  },
  {
   "cell_type": "code",
   "execution_count": null,
   "metadata": {},
   "outputs": [],
   "source": [
    "df2016_luqu.iloc[5,7]"
   ]
  },
  {
   "cell_type": "code",
   "execution_count": null,
   "metadata": {},
   "outputs": [],
   "source": [
    "score_line_2016.iloc[5,0]"
   ]
  },
  {
   "cell_type": "code",
   "execution_count": null,
   "metadata": {},
   "outputs": [],
   "source": [
    "df2016_luqu.iloc[5,6]"
   ]
  },
  {
   "cell_type": "code",
   "execution_count": null,
   "metadata": {},
   "outputs": [],
   "source": [
    "df2016_luqu.iloc[5,26]"
   ]
  },
  {
   "cell_type": "code",
   "execution_count": null,
   "metadata": {},
   "outputs": [],
   "source": [
    "df2016_luqu.iloc[5,29]"
   ]
  },
  {
   "cell_type": "code",
   "execution_count": null,
   "metadata": {},
   "outputs": [],
   "source": [
    "score_line_2016.iloc[5,2]"
   ]
  },
  {
   "cell_type": "code",
   "execution_count": null,
   "metadata": {},
   "outputs": [],
   "source": [
    "score_line_2016.iloc[5,3]"
   ]
  },
  {
   "cell_type": "code",
   "execution_count": null,
   "metadata": {},
   "outputs": [],
   "source": [
    "for i in range(len(df2016_luqu)):\n",
    "    for j in range(len(score_line_2016)):\n",
    "        if df2016_luqu.iloc[i,7] == score_line_2016.iloc[j,0]:# 省份名称相同\n",
    "            if df2016_luqu.iloc[i,6] == '文科':\n",
    "                df2016_luqu.iloc[i,26] =  int(score_line_2016.iloc[j,2])  # 文科一批\n",
    "            else:\n",
    "                df2016_luqu.iloc[i,26] =  int(score_line_2016.iloc[j,3])  # 理科一批"
   ]
  },
  {
   "cell_type": "code",
   "execution_count": null,
   "metadata": {},
   "outputs": [],
   "source": [
    "df2016_luqu['各省一本线']"
   ]
  },
  {
   "cell_type": "code",
   "execution_count": null,
   "metadata": {},
   "outputs": [],
   "source": [
    "df2016_luqu['各省一本线'].describe()"
   ]
  },
  {
   "cell_type": "code",
   "execution_count": null,
   "metadata": {},
   "outputs": [],
   "source": [
    "#2016艺术类分数线\n",
    "for i in range(len(df2016_luqu)):\n",
    "    for j in range(len(score_line_2016)):\n",
    "        if df2016_luqu.iloc[i,7] == score_line_2016.iloc[j,0]:# 省份名称相同\n",
    "            if df2016_luqu.iloc[i,6] == '文科':\n",
    "                df2016_luqu.iloc[i,27] =  int(score_line_2016.iloc[j,8])  # 文科艺术\n",
    "            else:\n",
    "                df2016_luqu.iloc[i,27] =  int(score_line_2016.iloc[j,9])  # 理科艺术"
   ]
  },
  {
   "cell_type": "code",
   "execution_count": null,
   "metadata": {},
   "outputs": [],
   "source": [
    "df2016_luqu['各省艺术类本科线']"
   ]
  },
  {
   "cell_type": "code",
   "execution_count": null,
   "metadata": {},
   "outputs": [],
   "source": [
    "df2016_luqu['各省艺术类本科线'].describe()"
   ]
  },
  {
   "cell_type": "code",
   "execution_count": null,
   "metadata": {},
   "outputs": [],
   "source": [
    "df2016_luqu.to_excel(r'/Users/ichigo34/Downloads/2.招生数据分析项目/回归分析/招生宣传分析用数据（分离）/录取数据/2016年录取信息新.xls', index = False)"
   ]
  },
  {
   "cell_type": "code",
   "execution_count": null,
   "metadata": {},
   "outputs": [],
   "source": [
    "#2018一本线\n",
    "for i in range(len(df2018_luqu)):\n",
    "    for j in range(len(score_line_2018)):\n",
    "        if df2018_luqu.iloc[i,7] == score_line_2018.iloc[j,0]:# 省份名称相同\n",
    "            if df2018_luqu.iloc[i,6] == '文科':\n",
    "                df2018_luqu.iloc[i,26] =  int(score_line_2018.iloc[j,2])  # 文科一批\n",
    "            else:\n",
    "                df2018_luqu.iloc[i,26] =  int(score_line_2018.iloc[j,3])  # 理科一批"
   ]
  },
  {
   "cell_type": "code",
   "execution_count": null,
   "metadata": {},
   "outputs": [],
   "source": [
    "df2018_luqu['省一本线（文、理）']"
   ]
  },
  {
   "cell_type": "code",
   "execution_count": null,
   "metadata": {},
   "outputs": [],
   "source": [
    "#2018艺术类分数线\n",
    "for i in range(len(df2018_luqu)):\n",
    "    for j in range(len(score_line_2018)):\n",
    "        if df2018_luqu.iloc[i,7] == score_line_2018.iloc[j,0]:# 省份名称相同\n",
    "            if df2018_luqu.iloc[i,6] == '文科':\n",
    "                df2018_luqu.iloc[i,27] =  int(score_line_2018.iloc[j,8])  # 文科艺术\n",
    "            else:\n",
    "                df2018_luqu.iloc[i,27] =  int(score_line_2018.iloc[j,9])  # 理科艺术"
   ]
  },
  {
   "cell_type": "code",
   "execution_count": null,
   "metadata": {},
   "outputs": [],
   "source": [
    "df2018_luqu['省艺术类最低控制线（文、理）']"
   ]
  },
  {
   "cell_type": "code",
   "execution_count": null,
   "metadata": {},
   "outputs": [],
   "source": [
    "df2018_luqu.to_excel(r'/Users/ichigo34/Downloads/2.招生数据分析项目/回归分析/招生宣传分析用数据（分离）/录取数据/2018年录取信息新.xls', index = False)"
   ]
  },
  {
   "cell_type": "code",
   "execution_count": null,
   "metadata": {},
   "outputs": [],
   "source": [
    "file5 = \"/Users/ichigo34/Downloads/2.招生数据分析项目/回归分析/报名信息汇总.xls\"\n",
    "df_baoming = pd.read_excel(file5)"
   ]
  },
  {
   "cell_type": "code",
   "execution_count": null,
   "metadata": {},
   "outputs": [],
   "source": [
    "file6 = \"/Users/ichigo34/Downloads/2.招生数据分析项目/回归分析/合格汇总信息.xls\"\n",
    "df_hege = pd.read_excel(file6)"
   ]
  },
  {
   "cell_type": "code",
   "execution_count": null,
   "metadata": {},
   "outputs": [],
   "source": [
    "file7 = \"/Users/ichigo34/Downloads/2.招生数据分析项目/回归分析/录取汇总信息.xls\"\n",
    "df_luqu = pd.read_excel(file7)"
   ]
  },
  {
   "cell_type": "code",
   "execution_count": null,
   "metadata": {},
   "outputs": [],
   "source": [
    "df_baoming['毕业中学所在省']"
   ]
  },
  {
   "cell_type": "code",
   "execution_count": null,
   "metadata": {
    "scrolled": true
   },
   "outputs": [],
   "source": [
    "df_baoming.shape[1]"
   ]
  },
  {
   "cell_type": "code",
   "execution_count": 43,
   "metadata": {},
   "outputs": [],
   "source": [
    "file9 = \"/Users/ichigo34/Downloads/2.招生数据分析项目/回归分析/分年汇总/合格汇总信息2016.xls\"\n",
    "df_hege_2016 = pd.read_excel(file9)\n",
    "file10 = \"/Users/ichigo34/Downloads/2.招生数据分析项目/回归分析/分年汇总/录取汇总信息2016.xls\"\n",
    "df_luqu_2016 = pd.read_excel(file10)"
   ]
  },
  {
   "cell_type": "code",
   "execution_count": 55,
   "metadata": {},
   "outputs": [],
   "source": [
    "file8 = \"/Users/ichigo34/Downloads/2.招生数据分析项目/回归分析/分年汇总/报名信息汇总2016.xls\"\n",
    "df_baoming_2016 = pd.read_excel(file8)"
   ]
  },
  {
   "cell_type": "code",
   "execution_count": null,
   "metadata": {},
   "outputs": [],
   "source": [
    "for i in range(len(df_baoming_2016)):\n",
    "    for j in range(len(df_hege_2016)):\n",
    "        if df_baoming_2016.iloc[i,7] == df_hege_2016.iloc[j,9]: # 专业考试准考证号相同\n",
    "            df_baoming_2016.iloc[i,19] = df_hege_2016.iloc[j,5] # 毕业中学所在省\n",
    "            df_baoming_2016.iloc[i,20] = df_hege_2016.iloc[j,6] # 毕业中学类别\n",
    "            df_baoming_2016.iloc[i,26] = df_hege_2016.iloc[j,19] # 户籍所在市\n",
    "            df_baoming_2016.iloc[i,27] = df_hege_2016.iloc[j,20] # 户籍所在县\n",
    "            df_baoming_2016.iloc[i,28] = df_hege_2016.iloc[j,7] # 专业成绩\n",
    "            df_baoming_2016.iloc[i,29] = df_hege_2016.iloc[j,27] # 考试科目"
   ]
  },
  {
   "cell_type": "code",
   "execution_count": 20,
   "metadata": {},
   "outputs": [
    {
     "data": {
      "text/plain": [
       "16110101010002"
      ]
     },
     "execution_count": 20,
     "metadata": {},
     "output_type": "execute_result"
    }
   ],
   "source": [
    "df_baoming_2016.iloc[8159,7]"
   ]
  },
  {
   "cell_type": "code",
   "execution_count": 21,
   "metadata": {},
   "outputs": [
    {
     "name": "stdout",
     "output_type": "stream",
     "text": [
      "Time cost = 0.038851s\n"
     ]
    }
   ],
   "source": [
    "time_start = time.time()\n",
    "for j in range(len(df_luqu_2016)):\n",
    "    if df_luqu_2016.iloc[j,10] != 0: # 专业考试准考证号不为空或*\n",
    "        if df_baoming_2016.iloc[8159,7] == df_luqu_2016.iloc[j,10]: # 专业考试准考证号相同\n",
    "            df_baoming_2016.iloc[8159,30] = df_luqu_2016.iloc[j,12] # 原专业排名\n",
    "            df_baoming_2016.iloc[8159,31] = df_luqu_2016.iloc[j,13] # 现专业排名\n",
    "            df_baoming_2016.iloc[8159,32] = df_luqu_2016.iloc[j,14] # 原专业省内排名\n",
    "            df_baoming_2016.iloc[8159,33] = df_luqu_2016.iloc[j,15] # 现专业省内排名\n",
    "            df_baoming_2016.iloc[8159,34] = df_luqu_2016.iloc[j,16] # 语文\n",
    "            df_baoming_2016.iloc[8159,35] = df_luqu_2016.iloc[j,17] # 数学\n",
    "            df_baoming_2016.iloc[8159,36] = df_luqu_2016.iloc[j,18] # 英语\n",
    "            df_baoming_2016.iloc[8159,37] = df_luqu_2016.iloc[j,19] # 文综\n",
    "            df_baoming_2016.iloc[8159,38] = df_luqu_2016.iloc[j,20] # 理综\n",
    "            df_baoming_2016.iloc[8159,39] = df_luqu_2016.iloc[j,21] # 附加分\n",
    "            df_baoming_2016.iloc[8159,40] = df_luqu_2016.iloc[j,22] # 总成绩\n",
    "            df_baoming_2016.iloc[8159,41] = df_luqu_2016.iloc[j,23] # 文化课总成绩比值\n",
    "            df_baoming_2016.iloc[8159,42] = df_luqu_2016.iloc[j,24] # 各省一本线\n",
    "            df_baoming_2016.iloc[8159,43] = df_luqu_2016.iloc[j,25] # 各省艺术类本科线\n",
    "            df_baoming_2016.iloc[8159,44] = df_luqu_2016.iloc[j,26] # 志愿顺序\n",
    "    else:\n",
    "        if df_baoming_2016.iloc[8159,21] == df_luqu_2016.iloc[j,2]: # 高考报名号相同\n",
    "            df_baoming_2016.iloc[8159,30] = df_luqu_2016.iloc[j,12] # 原专业排名\n",
    "            df_baoming_2016.iloc[8159,31] = df_luqu_2016.iloc[j,13] # 现专业排名\n",
    "            df_baoming_2016.iloc[8159,32] = df_luqu_2016.iloc[j,14] # 原专业省内排名\n",
    "            df_baoming_2016.iloc[8159,33] = df_luqu_2016.iloc[j,15] # 现专业省内排名\n",
    "            df_baoming_2016.iloc[8159,34] = df_luqu_2016.iloc[j,16] # 语文\n",
    "            df_baoming_2016.iloc[8159,35] = df_luqu_2016.iloc[j,17] # 数学\n",
    "            df_baoming_2016.iloc[8159,36] = df_luqu_2016.iloc[j,18] # 英语\n",
    "            df_baoming_2016.iloc[8159,37] = df_luqu_2016.iloc[j,19] # 文综\n",
    "            df_baoming_2016.iloc[8159,38] = df_luqu_2016.iloc[j,20] # 理综\n",
    "            df_baoming_2016.iloc[8159,39] = df_luqu_2016.iloc[j,21] # 附加分\n",
    "            df_baoming_2016.iloc[8159,40] = df_luqu_2016.iloc[j,22] # 总成绩\n",
    "            df_baoming_2016.iloc[8159,41] = df_luqu_2016.iloc[j,23] # 文化课总成绩比值\n",
    "            df_baoming_2016.iloc[8159,42] = df_luqu_2016.iloc[j,24] # 各省一本线\n",
    "            df_baoming_2016.iloc[8159,43] = df_luqu_2016.iloc[j,25] # 各省艺术类本科线\n",
    "            df_baoming_2016.iloc[8159,44] = df_luqu_2016.iloc[j,26] # 志愿顺序\n",
    "                \n",
    "time_end = time.time()\n",
    "print('Time cost = %fs' % (time_end - time_start))\n"
   ]
  },
  {
   "cell_type": "code",
   "execution_count": 22,
   "metadata": {},
   "outputs": [
    {
     "name": "stdout",
     "output_type": "stream",
     "text": [
      "      招生年度  报名类型 性别   院系      专业          专业方向  考点            准考证号 是否往报  \\\n",
      "8159  2016  全国统招  女  文学系  戏剧影视文学  戏剧影视文学（创意策划）  北京  16110101010002    是   \n",
      "\n",
      "            出生日期  ...    数学     英语     文综  理综  附加分    总成绩 文化课总成绩比值（含附加分）  \\\n",
      "8159  1998-02-23  ...  71.0  108.0  207.0 NaN  0.0  493.0       0.930189   \n",
      "\n",
      "      各省一本线 各省艺术类本科线  志愿顺序  \n",
      "8159  530.0    309.0   1.0  \n",
      "\n",
      "[1 rows x 45 columns]\n"
     ]
    }
   ],
   "source": [
    "print(df_baoming_2016.iloc[[8159]])"
   ]
  },
  {
   "cell_type": "code",
   "execution_count": 49,
   "metadata": {},
   "outputs": [
    {
     "data": {
      "text/plain": [
       "'16110102110419'"
      ]
     },
     "execution_count": 49,
     "metadata": {},
     "output_type": "execute_result"
    }
   ],
   "source": [
    "df_baoming_2016.iloc[577,21]"
   ]
  },
  {
   "cell_type": "code",
   "execution_count": 39,
   "metadata": {},
   "outputs": [],
   "source": [
    "import cmath"
   ]
  },
  {
   "cell_type": "code",
   "execution_count": 44,
   "metadata": {},
   "outputs": [
    {
     "name": "stdout",
     "output_type": "stream",
     "text": [
      "True\n"
     ]
    }
   ],
   "source": [
    "print(df_luqu_2016.iloc[266,10] == 0)"
   ]
  },
  {
   "cell_type": "code",
   "execution_count": 50,
   "metadata": {},
   "outputs": [
    {
     "name": "stdout",
     "output_type": "stream",
     "text": [
      "Time cost = 0.028240s\n"
     ]
    }
   ],
   "source": [
    "time_start = time.time()\n",
    "for j in range(len(df_luqu_2016)):\n",
    "    if df_luqu_2016.iloc[j,10] != 0: # 专业考试准考证号不为空\n",
    "        if df_baoming_2016.iloc[577,7] == int(df_luqu_2016.iloc[j,10]): # 专业考试准考证号相同\n",
    "            df_baoming_2016.iloc[577,30] = df_luqu_2016.iloc[j,12] # 原专业排名\n",
    "            df_baoming_2016.iloc[577,31] = df_luqu_2016.iloc[j,13] # 现专业排名\n",
    "            df_baoming_2016.iloc[577,32] = df_luqu_2016.iloc[j,14] # 原专业省内排名\n",
    "            df_baoming_2016.iloc[577,33] = df_luqu_2016.iloc[j,15] # 现专业省内排名\n",
    "            df_baoming_2016.iloc[577,34] = df_luqu_2016.iloc[j,16] # 语文\n",
    "            df_baoming_2016.iloc[577,35] = df_luqu_2016.iloc[j,17] # 数学\n",
    "            df_baoming_2016.iloc[577,36] = df_luqu_2016.iloc[j,18] # 英语\n",
    "            df_baoming_2016.iloc[577,37] = df_luqu_2016.iloc[j,19] # 文综\n",
    "            df_baoming_2016.iloc[577,38] = df_luqu_2016.iloc[j,20] # 理综\n",
    "            df_baoming_2016.iloc[577,39] = df_luqu_2016.iloc[j,21] # 附加分\n",
    "            df_baoming_2016.iloc[577,40] = df_luqu_2016.iloc[j,22] # 总成绩\n",
    "            df_baoming_2016.iloc[577,41] = df_luqu_2016.iloc[j,23] # 文化课总成绩比值\n",
    "            df_baoming_2016.iloc[577,42] = df_luqu_2016.iloc[j,24] # 各省一本线\n",
    "            df_baoming_2016.iloc[577,43] = df_luqu_2016.iloc[j,25] # 各省艺术类本科线\n",
    "            df_baoming_2016.iloc[577,44] = df_luqu_2016.iloc[j,26] # 志愿顺序\n",
    "    else:\n",
    "        if float(df_baoming_2016.iloc[577,21]) == df_luqu_2016.iloc[j,2]: # 高考报名号相同\n",
    "            df_baoming_2016.iloc[577,30] = df_luqu_2016.iloc[j,12] # 原专业排名\n",
    "            df_baoming_2016.iloc[577,31] = df_luqu_2016.iloc[j,13] # 现专业排名\n",
    "            df_baoming_2016.iloc[577,32] = df_luqu_2016.iloc[j,14] # 原专业省内排名\n",
    "            df_baoming_2016.iloc[577,33] = df_luqu_2016.iloc[j,15] # 现专业省内排名\n",
    "            df_baoming_2016.iloc[577,34] = df_luqu_2016.iloc[j,16] # 语文\n",
    "            df_baoming_2016.iloc[577,35] = df_luqu_2016.iloc[j,17] # 数学\n",
    "            df_baoming_2016.iloc[577,36] = df_luqu_2016.iloc[j,18] # 英语\n",
    "            df_baoming_2016.iloc[577,37] = df_luqu_2016.iloc[j,19] # 文综\n",
    "            df_baoming_2016.iloc[577,38] = df_luqu_2016.iloc[j,20] # 理综\n",
    "            df_baoming_2016.iloc[577,39] = df_luqu_2016.iloc[j,21] # 附加分\n",
    "            df_baoming_2016.iloc[577,40] = df_luqu_2016.iloc[j,22] # 总成绩\n",
    "            df_baoming_2016.iloc[577,41] = df_luqu_2016.iloc[j,23] # 文化课总成绩比值\n",
    "            df_baoming_2016.iloc[577,42] = df_luqu_2016.iloc[j,24] # 各省一本线\n",
    "            df_baoming_2016.iloc[577,43] = df_luqu_2016.iloc[j,25] # 各省艺术类本科线\n",
    "            df_baoming_2016.iloc[577,44] = df_luqu_2016.iloc[j,26] # 志愿顺序\n",
    "                \n",
    "time_end = time.time()\n",
    "print('Time cost = %fs' % (time_end - time_start))"
   ]
  },
  {
   "cell_type": "code",
   "execution_count": 51,
   "metadata": {},
   "outputs": [
    {
     "name": "stdout",
     "output_type": "stream",
     "text": [
      "     招生年度  报名类型 性别   院系      专业          专业方向  考点            准考证号 是否往报  \\\n",
      "577  2016  全国统招  女  文学系  戏剧影视文学  戏剧影视文学（创意策划）  北京  16110101010099    是   \n",
      "\n",
      "           出生日期  ...     数学     英语     文综   理综  附加分    总成绩 文化课总成绩比值（含附加分）  \\\n",
      "577  1998-01-19  ...  140.0  131.0  229.0  0.0  0.0  632.0       1.084048   \n",
      "\n",
      "     各省一本线 各省艺术类本科线  志愿顺序  \n",
      "577  583.0    346.0   1.0  \n",
      "\n",
      "[1 rows x 45 columns]\n"
     ]
    }
   ],
   "source": [
    "print(df_baoming_2016.iloc[[577]])"
   ]
  },
  {
   "cell_type": "code",
   "execution_count": 6,
   "metadata": {},
   "outputs": [],
   "source": [
    "import time"
   ]
  },
  {
   "cell_type": "code",
   "execution_count": 56,
   "metadata": {},
   "outputs": [
    {
     "name": "stdout",
     "output_type": "stream",
     "text": [
      "Time cost = 346.284290s\n"
     ]
    }
   ],
   "source": [
    "time_start = time.time()\n",
    "for i in range(len(df_baoming_2016)):\n",
    "    for j in range(len(df_luqu_2016)):\n",
    "        if df_luqu_2016.iloc[j,10] != 0: # 专业考试准考证号不为0\n",
    "            if df_baoming_2016.iloc[i,7] == int(df_luqu_2016.iloc[j,10]): # 专业考试准考证号相同\n",
    "                df_baoming_2016.iloc[i,30] = df_luqu_2016.iloc[j,12] # 原专业排名\n",
    "                df_baoming_2016.iloc[i,31] = df_luqu_2016.iloc[j,13] # 现专业排名\n",
    "                df_baoming_2016.iloc[i,32] = df_luqu_2016.iloc[j,14] # 原专业省内排名\n",
    "                df_baoming_2016.iloc[i,33] = df_luqu_2016.iloc[j,15] # 现专业省内排名\n",
    "                df_baoming_2016.iloc[i,34] = df_luqu_2016.iloc[j,16] # 语文\n",
    "                df_baoming_2016.iloc[i,35] = df_luqu_2016.iloc[j,17] # 数学\n",
    "                df_baoming_2016.iloc[i,36] = df_luqu_2016.iloc[j,18] # 英语\n",
    "                df_baoming_2016.iloc[i,37] = df_luqu_2016.iloc[j,19] # 文综\n",
    "                df_baoming_2016.iloc[i,38] = df_luqu_2016.iloc[j,20] # 理综\n",
    "                df_baoming_2016.iloc[i,39] = df_luqu_2016.iloc[j,21] # 附加分\n",
    "                df_baoming_2016.iloc[i,40] = df_luqu_2016.iloc[j,22] # 总成绩\n",
    "                df_baoming_2016.iloc[i,41] = df_luqu_2016.iloc[j,23] # 文化课总成绩比值\n",
    "                df_baoming_2016.iloc[i,42] = df_luqu_2016.iloc[j,24] # 各省一本线\n",
    "                df_baoming_2016.iloc[i,43] = df_luqu_2016.iloc[j,25] # 各省艺术类本科线\n",
    "                df_baoming_2016.iloc[i,44] = df_luqu_2016.iloc[j,26] # 志愿顺序\n",
    "        else:\n",
    "            if float(df_baoming_2016.iloc[i,21]) == df_luqu_2016.iloc[j,2]: # 高考报名号相同\n",
    "                df_baoming_2016.iloc[i,30] = df_luqu_2016.iloc[j,12] # 原专业排名\n",
    "                df_baoming_2016.iloc[i,31] = df_luqu_2016.iloc[j,13] # 现专业排名\n",
    "                df_baoming_2016.iloc[i,32] = df_luqu_2016.iloc[j,14] # 原专业省内排名\n",
    "                df_baoming_2016.iloc[i,33] = df_luqu_2016.iloc[j,15] # 现专业省内排名\n",
    "                df_baoming_2016.iloc[i,34] = df_luqu_2016.iloc[j,16] # 语文\n",
    "                df_baoming_2016.iloc[i,35] = df_luqu_2016.iloc[j,17] # 数学\n",
    "                df_baoming_2016.iloc[i,36] = df_luqu_2016.iloc[j,18] # 英语\n",
    "                df_baoming_2016.iloc[i,37] = df_luqu_2016.iloc[j,19] # 文综\n",
    "                df_baoming_2016.iloc[i,38] = df_luqu_2016.iloc[j,20] # 理综\n",
    "                df_baoming_2016.iloc[i,39] = df_luqu_2016.iloc[j,21] # 附加分\n",
    "                df_baoming_2016.iloc[i,40] = df_luqu_2016.iloc[j,22] # 总成绩\n",
    "                df_baoming_2016.iloc[i,41] = df_luqu_2016.iloc[j,23] # 文化课总成绩比值\n",
    "                df_baoming_2016.iloc[i,42] = df_luqu_2016.iloc[j,24] # 各省一本线\n",
    "                df_baoming_2016.iloc[i,43] = df_luqu_2016.iloc[j,25] # 各省艺术类本科线\n",
    "                df_baoming_2016.iloc[i,44] = df_luqu_2016.iloc[j,26] # 志愿顺序\n",
    "                \n",
    "time_end = time.time()\n",
    "print('Time cost = %fs' % (time_end - time_start))"
   ]
  },
  {
   "cell_type": "code",
   "execution_count": 57,
   "metadata": {},
   "outputs": [],
   "source": [
    "df_baoming_2016.to_excel(r'/Users/ichigo34/Downloads/2.招生数据分析项目/回归分析/招生宣传分析用数据（分离）/录取数据/2016录取_修改版.xls', index = False)"
   ]
  },
  {
   "cell_type": "code",
   "execution_count": 58,
   "metadata": {},
   "outputs": [],
   "source": [
    "file11 = \"/Users/ichigo34/Downloads/2.招生数据分析项目/回归分析/分年汇总/报名信息汇总2017.xls\"\n",
    "df_baoming_2017 = pd.read_excel(file11)\n",
    "file12 = \"/Users/ichigo34/Downloads/2.招生数据分析项目/回归分析/分年汇总/合格汇总信息2017.xls\"\n",
    "df_hege_2017 = pd.read_excel(file12)\n",
    "file13 = \"/Users/ichigo34/Downloads/2.招生数据分析项目/回归分析/分年汇总/录取汇总信息2017.xls\"\n",
    "df_luqu_2017 = pd.read_excel(file13)"
   ]
  },
  {
   "cell_type": "code",
   "execution_count": 8,
   "metadata": {},
   "outputs": [
    {
     "name": "stdout",
     "output_type": "stream",
     "text": [
      "Time cost = 2289.341644s\n"
     ]
    }
   ],
   "source": [
    "time_start = time.time()\n",
    "for i in range(len(df_baoming_2017)):\n",
    "    for j in range(len(df_hege_2017)):\n",
    "        if df_baoming_2017.iloc[i,7] == df_hege_2017.iloc[j,9]: # 专业考试准考证号相同\n",
    "            df_baoming_2017.iloc[i,19] = df_hege_2017.iloc[j,5] # 毕业中学所在省\n",
    "            df_baoming_2017.iloc[i,20] = df_hege_2017.iloc[j,6] # 毕业中学类别\n",
    "            df_baoming_2017.iloc[i,26] = df_hege_2017.iloc[j,19] # 户籍所在市\n",
    "            df_baoming_2017.iloc[i,27] = df_hege_2017.iloc[j,20] # 户籍所在县\n",
    "            df_baoming_2017.iloc[i,28] = df_hege_2017.iloc[j,7] # 专业成绩\n",
    "            df_baoming_2017.iloc[i,29] = df_hege_2017.iloc[j,27] # 考试科目\n",
    "time_end = time.time()\n",
    "print('Time cost = %fs' % (time_end - time_start))"
   ]
  },
  {
   "cell_type": "code",
   "execution_count": 10,
   "metadata": {
    "scrolled": true
   },
   "outputs": [
    {
     "data": {
      "text/plain": [
       "招生年度                                                       int64\n",
       "报名类型                                                      object\n",
       "性别                                                        object\n",
       "院系                                                        object\n",
       "专业                                                        object\n",
       "专业方向                                                      object\n",
       "考点                                                        object\n",
       "准考证号                                                       int64\n",
       "是否往报                                                      object\n",
       "出生日期                                                      object\n",
       "政治面貌名称                                                    object\n",
       "民族名称                                                      object\n",
       "考生类别名称                                                    object\n",
       "考生性质名称                                                    object\n",
       "高考类别                                                       int64\n",
       "高考类别名称                                                    object\n",
       "文化程度名称                                                    object\n",
       "身高                                                         int64\n",
       "毕业中学名称                                                    object\n",
       "毕业中学所在省                                                   object\n",
       "毕业中学类别                                                    object\n",
       "高考报名号                                                     object\n",
       "高考所在省                                                     object\n",
       "高考所在市                                                     object\n",
       "高考所在县                                                     object\n",
       "户口所在地                                                     object\n",
       "户籍所在市                                                     object\n",
       "户籍所在县                                                     object\n",
       "专业成绩                                                     float64\n",
       "考试科目                                                      object\n",
       "原专业排名（在所有已经发放合格证考生范围内的专业排名）                              float64\n",
       "现专业排名（在所有已经录取考生范围内的专业排名）                                 float64\n",
       "原专业省内排名（高职学院的戏剧影视表演专业需要显示省内排名，在所有已经发放合格证考生范围内的专业省内排名）    float64\n",
       "现专业省内排名（高职学院的戏剧影视表演专业需要显示省内排名，在所有已经录取考生范围内的专业省内排名）       float64\n",
       "语文                                                       float64\n",
       "数学                                                       float64\n",
       "英语                                                       float64\n",
       "文综                                                       float64\n",
       "理综                                                       float64\n",
       "附加分                                                      float64\n",
       "总成绩                                                      float64\n",
       "文化课总成绩比值（含附加分）                                           float64\n",
       "各省一本线                                                    float64\n",
       "各省艺术类本科线                                                 float64\n",
       "志愿顺序                                                     float64\n",
       "dtype: object"
      ]
     },
     "execution_count": 10,
     "metadata": {},
     "output_type": "execute_result"
    }
   ],
   "source": [
    "df_baoming_2017.dtypes"
   ]
  },
  {
   "cell_type": "code",
   "execution_count": 11,
   "metadata": {
    "scrolled": true
   },
   "outputs": [
    {
     "data": {
      "text/plain": [
       "招生年度                                                       int64\n",
       "招生类型                                                      object\n",
       "高考考生号                                                    float64\n",
       "性别                                                        object\n",
       "出生日期                                                      object\n",
       "高考类别                                                      object\n",
       "高考所在省                                                     object\n",
       "院系名称                                                      object\n",
       "专业名称                                                      object\n",
       "专业名称（招考方向）                                                object\n",
       "专业考试准考证号                                                  object\n",
       "专业成绩                                                      object\n",
       "原专业排名（在所有已经发放合格证考生范围内的专业排名）                              float64\n",
       "现专业排名（在所有已经录取考生范围内的专业排名）                                  object\n",
       "原专业省内排名（高职学院的戏剧影视表演专业需要显示省内排名，在所有已经发放合格证考生范围内的专业省内排名）    float64\n",
       "现专业省内排名（高职学院的戏剧影视表演专业需要显示省内排名，在所有已经录取考生范围内的专业省内排名）       float64\n",
       "语文                                                       float64\n",
       "数学                                                       float64\n",
       "英语                                                       float64\n",
       "文综                                                       float64\n",
       "理综                                                       float64\n",
       "附加分                                                      float64\n",
       "总成绩                                                      float64\n",
       "文化课总成绩比值（含附加分）                                           float64\n",
       "各省一本线                                                    float64\n",
       "各省艺术类本科线                                                 float64\n",
       "志愿顺序                                                      object\n",
       "政治面貌                                                      object\n",
       "民族                                                        object\n",
       "考生性质                                                      object\n",
       "考生类别                                                      object\n",
       "文化程度                                                      object\n",
       "户口所在省                                                     object\n",
       "毕业中学名称                                                    object\n",
       "毕业中学类别                                                    object\n",
       "毕业中学所在省                                                   object\n",
       "dtype: object"
      ]
     },
     "execution_count": 11,
     "metadata": {},
     "output_type": "execute_result"
    }
   ],
   "source": [
    "df_luqu_2017.dtypes"
   ]
  },
  {
   "cell_type": "code",
   "execution_count": 61,
   "metadata": {},
   "outputs": [
    {
     "name": "stdout",
     "output_type": "stream",
     "text": [
      "Time cost = 459.587638s\n"
     ]
    }
   ],
   "source": [
    "time_start = time.time()\n",
    "for i in range(len(df_baoming_2017)):\n",
    "    for j in range(len(df_luqu_2017)):\n",
    "        if df_luqu_2017.iloc[j,10] != 0: # 专业考试准考证号不为0\n",
    "            if df_baoming_2017.iloc[i,7] == int(df_luqu_2017.iloc[j,10]): # 专业考试准考证号相同\n",
    "                df_baoming_2017.iloc[i,30] = df_luqu_2017.iloc[j,12] # 原专业排名\n",
    "                df_baoming_2017.iloc[i,31] = df_luqu_2017.iloc[j,13] # 现专业排名\n",
    "                df_baoming_2017.iloc[i,32] = df_luqu_2017.iloc[j,14] # 原专业省内排名\n",
    "                df_baoming_2017.iloc[i,33] = df_luqu_2017.iloc[j,15] # 现专业省内排名\n",
    "                df_baoming_2017.iloc[i,34] = df_luqu_2017.iloc[j,16] # 语文\n",
    "                df_baoming_2017.iloc[i,35] = df_luqu_2017.iloc[j,17] # 数学\n",
    "                df_baoming_2017.iloc[i,36] = df_luqu_2017.iloc[j,18] # 英语\n",
    "                df_baoming_2017.iloc[i,37] = df_luqu_2017.iloc[j,19] # 文综\n",
    "                df_baoming_2017.iloc[i,38] = df_luqu_2017.iloc[j,20] # 理综\n",
    "                df_baoming_2017.iloc[i,39] = df_luqu_2017.iloc[j,21] # 附加分\n",
    "                df_baoming_2017.iloc[i,40] = df_luqu_2017.iloc[j,22] # 总成绩\n",
    "                df_baoming_2017.iloc[i,41] = df_luqu_2017.iloc[j,23] # 文化课总成绩比值\n",
    "                df_baoming_2017.iloc[i,42] = df_luqu_2017.iloc[j,24] # 各省一本线\n",
    "                df_baoming_2017.iloc[i,43] = df_luqu_2017.iloc[j,25] # 各省艺术类本科线\n",
    "                df_baoming_2017.iloc[i,44] = df_luqu_2017.iloc[j,26] # 志愿顺序\n",
    "        else:\n",
    "            if float(df_baoming_2017.iloc[i,21]) == df_luqu_2017.iloc[j,2]: # 高考报名号相同\n",
    "                df_baoming_2017.iloc[i,30] = df_luqu_2017.iloc[j,12] # 原专业排名\n",
    "                df_baoming_2017.iloc[i,31] = df_luqu_2017.iloc[j,13] # 现专业排名\n",
    "                df_baoming_2017.iloc[i,32] = df_luqu_2017.iloc[j,14] # 原专业省内排名\n",
    "                df_baoming_2017.iloc[i,33] = df_luqu_2017.iloc[j,15] # 现专业省内排名\n",
    "                df_baoming_2017.iloc[i,34] = df_luqu_2017.iloc[j,16] # 语文\n",
    "                df_baoming_2017.iloc[i,35] = df_luqu_2017.iloc[j,17] # 数学\n",
    "                df_baoming_2017.iloc[i,36] = df_luqu_2017.iloc[j,18] # 英语\n",
    "                df_baoming_2017.iloc[i,37] = df_luqu_2017.iloc[j,19] # 文综\n",
    "                df_baoming_2017.iloc[i,38] = df_luqu_2017.iloc[j,20] # 理综\n",
    "                df_baoming_2017.iloc[i,39] = df_luqu_2017.iloc[j,21] # 附加分\n",
    "                df_baoming_2017.iloc[i,40] = df_luqu_2017.iloc[j,22] # 总成绩\n",
    "                df_baoming_2017.iloc[i,41] = df_luqu_2017.iloc[j,23] # 文化课总成绩比值\n",
    "                df_baoming_2017.iloc[i,42] = df_luqu_2017.iloc[j,24] # 各省一本线\n",
    "                df_baoming_2017.iloc[i,43] = df_luqu_2017.iloc[j,25] # 各省艺术类本科线\n",
    "                df_baoming_2017.iloc[i,44] = df_luqu_2017.iloc[j,26] # 志愿顺序\n",
    "                \n",
    "time_end = time.time()\n",
    "print('Time cost = %fs' % (time_end - time_start))"
   ]
  },
  {
   "cell_type": "code",
   "execution_count": 62,
   "metadata": {},
   "outputs": [],
   "source": [
    "df_baoming_2017.to_excel(r'/Users/ichigo34/Downloads/2.招生数据分析项目/回归分析/招生宣传分析用数据（分离）/录取数据/2017录取_修改版.xls', index = False)"
   ]
  },
  {
   "cell_type": "code",
   "execution_count": 63,
   "metadata": {},
   "outputs": [],
   "source": [
    "file14 = \"/Users/ichigo34/Downloads/2.招生数据分析项目/回归分析/分年汇总/报名信息汇总2018.xls\"\n",
    "df_baoming_2018 = pd.read_excel(file14)\n",
    "file15 = \"/Users/ichigo34/Downloads/2.招生数据分析项目/回归分析/分年汇总/合格汇总信息2018.xls\"\n",
    "df_hege_2018 = pd.read_excel(file15)\n",
    "file16 = \"/Users/ichigo34/Downloads/2.招生数据分析项目/回归分析/分年汇总/录取汇总信息2018.xls\"\n",
    "df_luqu_2018 = pd.read_excel(file16)"
   ]
  },
  {
   "cell_type": "code",
   "execution_count": null,
   "metadata": {},
   "outputs": [],
   "source": [
    "time_start = time.time()\n",
    "for i in range(len(df_baoming_2018)):\n",
    "    for j in range(len(df_hege_2018)):\n",
    "        if df_baoming_2018.iloc[i,7] == df_hege_2018.iloc[j,9]: # 专业考试准考证号相同\n",
    "            df_baoming_2018.iloc[i,19] = df_hege_2018.iloc[j,5] # 毕业中学所在省\n",
    "            df_baoming_2018.iloc[i,20] = df_hege_2018.iloc[j,6] # 毕业中学类别\n",
    "            df_baoming_2018.iloc[i,26] = df_hege_2018.iloc[j,19] # 户籍所在市\n",
    "            df_baoming_2018.iloc[i,27] = df_hege_2018.iloc[j,20] # 户籍所在县\n",
    "            df_baoming_2018.iloc[i,28] = df_hege_2018.iloc[j,7] # 专业成绩\n",
    "            df_baoming_2018.iloc[i,29] = df_hege_2018.iloc[j,27] # 考试科目\n",
    "\n",
    "time_end = time.time()\n",
    "print('Time cost = %fs' % (time_end - time_start))"
   ]
  },
  {
   "cell_type": "code",
   "execution_count": 64,
   "metadata": {},
   "outputs": [
    {
     "name": "stdout",
     "output_type": "stream",
     "text": [
      "Time cost = 646.794035s\n"
     ]
    }
   ],
   "source": [
    "time_start = time.time()\n",
    "for i in range(len(df_baoming_2018)):\n",
    "    for j in range(len(df_luqu_2018)):\n",
    "        if df_luqu_2018.iloc[j,10] != 0: # 专业考试准考证号不为0\n",
    "            if df_baoming_2018.iloc[i,7] == int(df_luqu_2018.iloc[j,10]): # 专业考试准考证号相同\n",
    "                df_baoming_2018.iloc[i,30] = df_luqu_2018.iloc[j,12] # 原专业排名\n",
    "                df_baoming_2018.iloc[i,31] = df_luqu_2018.iloc[j,13] # 现专业排名\n",
    "                df_baoming_2018.iloc[i,32] = df_luqu_2018.iloc[j,14] # 原专业省内排名\n",
    "                df_baoming_2018.iloc[i,33] = df_luqu_2018.iloc[j,15] # 现专业省内排名\n",
    "                df_baoming_2018.iloc[i,34] = df_luqu_2018.iloc[j,16] # 语文\n",
    "                df_baoming_2018.iloc[i,35] = df_luqu_2018.iloc[j,17] # 数学\n",
    "                df_baoming_2018.iloc[i,36] = df_luqu_2018.iloc[j,18] # 英语\n",
    "                df_baoming_2018.iloc[i,37] = df_luqu_2018.iloc[j,19] # 文综\n",
    "                df_baoming_2018.iloc[i,38] = df_luqu_2018.iloc[j,20] # 理综\n",
    "                df_baoming_2018.iloc[i,39] = df_luqu_2018.iloc[j,21] # 附加分\n",
    "                df_baoming_2018.iloc[i,40] = df_luqu_2018.iloc[j,22] # 总成绩\n",
    "                df_baoming_2018.iloc[i,41] = df_luqu_2018.iloc[j,23] # 文化课总成绩比值\n",
    "                df_baoming_2018.iloc[i,42] = df_luqu_2018.iloc[j,24] # 各省一本线\n",
    "                df_baoming_2018.iloc[i,43] = df_luqu_2018.iloc[j,25] # 各省艺术类本科线\n",
    "                df_baoming_2018.iloc[i,44] = df_luqu_2018.iloc[j,26] # 志愿顺序\n",
    "        else:\n",
    "            if float(df_baoming_2018.iloc[i,21]) == df_luqu_2018.iloc[j,2]: # 高考报名号相同\n",
    "                df_baoming_2018.iloc[i,30] = df_luqu_2018.iloc[j,12] # 原专业排名\n",
    "                df_baoming_2018.iloc[i,31] = df_luqu_2018.iloc[j,13] # 现专业排名\n",
    "                df_baoming_2018.iloc[i,32] = df_luqu_2018.iloc[j,14] # 原专业省内排名\n",
    "                df_baoming_2018.iloc[i,33] = df_luqu_2018.iloc[j,15] # 现专业省内排名\n",
    "                df_baoming_2018.iloc[i,34] = df_luqu_2018.iloc[j,16] # 语文\n",
    "                df_baoming_2018.iloc[i,35] = df_luqu_2018.iloc[j,17] # 数学\n",
    "                df_baoming_2018.iloc[i,36] = df_luqu_2018.iloc[j,18] # 英语\n",
    "                df_baoming_2018.iloc[i,37] = df_luqu_2018.iloc[j,19] # 文综\n",
    "                df_baoming_2018.iloc[i,38] = df_luqu_2018.iloc[j,20] # 理综\n",
    "                df_baoming_2018.iloc[i,39] = df_luqu_2018.iloc[j,21] # 附加分\n",
    "                df_baoming_2018.iloc[i,40] = df_luqu_2018.iloc[j,22] # 总成绩\n",
    "                df_baoming_2018.iloc[i,41] = df_luqu_2018.iloc[j,23] # 文化课总成绩比值\n",
    "                df_baoming_2018.iloc[i,42] = df_luqu_2018.iloc[j,24] # 各省一本线\n",
    "                df_baoming_2018.iloc[i,43] = df_luqu_2018.iloc[j,25] # 各省艺术类本科线\n",
    "                df_baoming_2018.iloc[i,44] = df_luqu_2018.iloc[j,26] # 志愿顺序\n",
    "                \n",
    "time_end = time.time()\n",
    "print('Time cost = %fs' % (time_end - time_start))"
   ]
  },
  {
   "cell_type": "code",
   "execution_count": 65,
   "metadata": {},
   "outputs": [],
   "source": [
    "df_baoming_2018.to_excel(r'/Users/ichigo34/Downloads/2.招生数据分析项目/回归分析/招生宣传分析用数据（分离）/录取数据/2018录取_修改版.xls', index = False)"
   ]
  },
  {
   "cell_type": "code",
   "execution_count": null,
   "metadata": {},
   "outputs": [],
   "source": [
    "df_baoming_2018['专业成绩']"
   ]
  },
  {
   "cell_type": "code",
   "execution_count": null,
   "metadata": {},
   "outputs": [],
   "source": [
    "df_baoming_2018['专业成绩'].count()"
   ]
  },
  {
   "cell_type": "code",
   "execution_count": null,
   "metadata": {},
   "outputs": [],
   "source": [
    "df_baoming_2018['专业成绩'].value_counts()"
   ]
  },
  {
   "cell_type": "code",
   "execution_count": 73,
   "metadata": {},
   "outputs": [],
   "source": [
    "file17 = \"/Users/ichigo34/Downloads/2.招生数据分析项目/回归分析/综合信息汇总（填充数据后）.xls\"\n",
    "combine = pd.read_excel(file17)"
   ]
  },
  {
   "cell_type": "code",
   "execution_count": 68,
   "metadata": {},
   "outputs": [],
   "source": [
    "file18 = \"/Users/ichigo34/Downloads/2.招生数据分析项目/回归分析/中学名称、所在省及学校类别.xlsx\"\n",
    "middle_school = pd.read_excel(file18)"
   ]
  },
  {
   "cell_type": "code",
   "execution_count": 74,
   "metadata": {},
   "outputs": [
    {
     "data": {
      "text/plain": [
       "(113681, 45)"
      ]
     },
     "execution_count": 74,
     "metadata": {},
     "output_type": "execute_result"
    }
   ],
   "source": [
    "combine.shape"
   ]
  },
  {
   "cell_type": "code",
   "execution_count": 99,
   "metadata": {},
   "outputs": [
    {
     "data": {
      "text/plain": [
       "0"
      ]
     },
     "execution_count": 99,
     "metadata": {},
     "output_type": "execute_result"
    }
   ],
   "source": [
    "combine.iloc[5,19]"
   ]
  },
  {
   "cell_type": "code",
   "execution_count": 87,
   "metadata": {},
   "outputs": [],
   "source": [
    "combine['毕业中学所在省'].fillna(0, inplace=True)"
   ]
  },
  {
   "cell_type": "code",
   "execution_count": 98,
   "metadata": {},
   "outputs": [],
   "source": [
    "combine['毕业中学类别'].fillna(0, inplace=True)"
   ]
  },
  {
   "cell_type": "code",
   "execution_count": 100,
   "metadata": {},
   "outputs": [
    {
     "name": "stdout",
     "output_type": "stream",
     "text": [
      "Time cost = 20778.316627s\n"
     ]
    }
   ],
   "source": [
    "time_start = time.time()\n",
    "for i in range(len(combine)):\n",
    "    for j in range(len(middle_school)):\n",
    "        if combine.iloc[j,19] == 0: # 毕业中学所在省份为0\n",
    "            if combine.iloc[i,18] == middle_school.iloc[j,0]: # 毕业学校名称相同\n",
    "                combine.iloc[i,19] = middle_school.iloc[j,1] # 毕业学校所在省份\n",
    "                combine.iloc[i,20] = middle_school.iloc[j,2] # 毕业学校类型\n",
    "                \n",
    "time_end = time.time()\n",
    "print('Time cost = %fs' % (time_end - time_start))"
   ]
  },
  {
   "cell_type": "code",
   "execution_count": 101,
   "metadata": {},
   "outputs": [
    {
     "data": {
      "text/plain": [
       "0         北京市\n",
       "1         北京市\n",
       "2           0\n",
       "3           0\n",
       "4           0\n",
       "         ... \n",
       "113676      0\n",
       "113677      0\n",
       "113678      0\n",
       "113679      0\n",
       "113680      0\n",
       "Name: 毕业中学所在省, Length: 113681, dtype: object"
      ]
     },
     "execution_count": 101,
     "metadata": {},
     "output_type": "execute_result"
    }
   ],
   "source": [
    "combine['毕业中学所在省']"
   ]
  },
  {
   "cell_type": "code",
   "execution_count": 105,
   "metadata": {},
   "outputs": [],
   "source": [
    "combine.to_excel(r'/Users/ichigo34/Downloads/2.招生数据分析项目/回归分析/中学修改版.xlsx', index = False)"
   ]
  },
  {
   "cell_type": "code",
   "execution_count": 104,
   "metadata": {},
   "outputs": [],
   "source": [
    "import openpyxl"
   ]
  },
  {
   "cell_type": "code",
   "execution_count": 127,
   "metadata": {},
   "outputs": [],
   "source": [
    "file19 = \"/Users/ichigo34/Downloads/2.招生数据分析项目/回归分析/分年汇总/汇总版/合格汇总信息.xls\"\n",
    "hege_total = pd.read_excel(file19)"
   ]
  },
  {
   "cell_type": "code",
   "execution_count": 110,
   "metadata": {},
   "outputs": [
    {
     "data": {
      "text/plain": [
       "Index(['招生年度', '报名类型', '考生号', '性别', '毕业中学名称', '毕业中学所在省', '毕业中学类别', '专业成绩',\n",
       "       '专业名次', '准考证号', '分省排名', '高考所在省', '高考所在市', '高考所在县', '院系名称', '专业名称',\n",
       "       '专业方向名称', '出生日期', '户籍所在省', '户籍所在市', '户籍所在县', '高考类别', '考生类别', '政治面貌',\n",
       "       '民族', '考生性质', '文化程度', '考试科目'],\n",
       "      dtype='object')"
      ]
     },
     "execution_count": 110,
     "metadata": {},
     "output_type": "execute_result"
    }
   ],
   "source": [
    "hege_total.columns"
   ]
  },
  {
   "cell_type": "code",
   "execution_count": 136,
   "metadata": {},
   "outputs": [],
   "source": [
    "hege_total['分省排名'] = hege_total.groupby(['招生年度','专业方向名称','高考所在省'])['专业成绩'].rank(ascending=False,method='dense')"
   ]
  },
  {
   "cell_type": "code",
   "execution_count": 134,
   "metadata": {},
   "outputs": [],
   "source": [
    "hege_total['专业名次'] = hege_total.groupby(['招生年度','专业方向名称'])['专业成绩'].rank(ascending=False,method='dense')"
   ]
  },
  {
   "cell_type": "code",
   "execution_count": 135,
   "metadata": {},
   "outputs": [
    {
     "data": {
      "text/plain": [
       "0        1.0\n",
       "1        2.0\n",
       "2        3.0\n",
       "3        4.0\n",
       "4        5.0\n",
       "        ... \n",
       "3935    31.0\n",
       "3936    32.0\n",
       "3937    32.0\n",
       "3938    33.0\n",
       "3939    33.0\n",
       "Name: 专业名次, Length: 3940, dtype: float64"
      ]
     },
     "execution_count": 135,
     "metadata": {},
     "output_type": "execute_result"
    }
   ],
   "source": [
    "hege_total['专业名次']"
   ]
  },
  {
   "cell_type": "code",
   "execution_count": 137,
   "metadata": {},
   "outputs": [
    {
     "data": {
      "text/plain": [
       "0       1.0\n",
       "1       2.0\n",
       "2       1.0\n",
       "3       3.0\n",
       "4       1.0\n",
       "       ... \n",
       "3935    4.0\n",
       "3936    4.0\n",
       "3937    6.0\n",
       "3938    2.0\n",
       "3939    6.0\n",
       "Name: 分省排名, Length: 3940, dtype: float64"
      ]
     },
     "execution_count": 137,
     "metadata": {},
     "output_type": "execute_result"
    }
   ],
   "source": [
    "hege_total['分省排名']"
   ]
  },
  {
   "cell_type": "code",
   "execution_count": 138,
   "metadata": {},
   "outputs": [],
   "source": [
    "hege_total.to_excel(r'/Users/ichigo34/Downloads/2.招生数据分析项目/回归分析/合格修改版.xlsx', index = False)"
   ]
  },
  {
   "cell_type": "code",
   "execution_count": 142,
   "metadata": {},
   "outputs": [],
   "source": [
    "file20 = \"/Users/ichigo34/Downloads/2.招生数据分析项目/回归分析/分年汇总/汇总版/合格汇总信息.xls\"\n",
    "hege_total = pd.read_excel(file20)"
   ]
  },
  {
   "cell_type": "code",
   "execution_count": 141,
   "metadata": {},
   "outputs": [],
   "source": [
    "file21 = \"/Users/ichigo34/Downloads/2.招生数据分析项目/回归分析/无合格排名的数据.xlsx\"\n",
    "no_rank = pd.read_excel(file21)"
   ]
  },
  {
   "cell_type": "code",
   "execution_count": 143,
   "metadata": {
    "scrolled": true
   },
   "outputs": [
    {
     "data": {
      "text/plain": [
       "<bound method NDFrame.head of       招生年度  报名类型             考生号 性别          毕业中学名称 毕业中学所在省 毕业中学类别   专业成绩  \\\n",
       "0     2016  全国统招  16110102112985  女      北京师范大学附属中学     北京市   示范高中  90.41   \n",
       "1     2016  全国统招  16110108113215  女  北京舞蹈学院附属中等舞蹈学校     北京市   附属中学  76.89   \n",
       "2     2016  全国统招  16339916183075  女         宁波市外事学校     浙江省   职业高中  75.62   \n",
       "3     2016  全国统招  16110108113044  男  北京舞蹈学院附属中等舞蹈学校     北京市   附属中学  73.67   \n",
       "4     2016  全国统招  16420281170096  男         大冶市大冶一中     湖北省   普通高中  73.59   \n",
       "...    ...   ...             ... ..             ...     ...    ...    ...   \n",
       "3935  2018  全国统招  18500105131812  女       重庆市育才成功学校     重庆市   普通高中  71.60   \n",
       "3936  2018  全国统招  18339303130135  女            东沙中学     浙江省   普通高中  71.30   \n",
       "3937  2018  全国统招  18510101170047  女        成都市盐道街中学     四川省   示范高中  71.30   \n",
       "3938  2018  全国统招       304590080  女         红岭中学高中部     广东省   示范高中  71.00   \n",
       "3939  2018  全国统招  18411419159089  女         河南省淮阳中学     河南省   普通高中  71.00   \n",
       "\n",
       "      专业名次             准考证号  ...  户籍所在省 户籍所在市 户籍所在县  高考类别  考生类别         政治面貌  \\\n",
       "0        1   16110103040570  ...    北京市   市辖区   丰台区    文科  城市应届  中国共产主义青年团团员   \n",
       "1        2   16110103042798  ...    北京市   市辖区   海淀区    文科  城市应届  中国共产主义青年团团员   \n",
       "2        3   16110103042242  ...    浙江省   宁波市   鄞州区    文科  城市应届    中国共产党预备党员   \n",
       "3        4   16110103045420  ...    北京市   市辖区   海淀区    文科  城市应届  中国共产主义青年团团员   \n",
       "4        5   16110103042559  ...    湖北省   黄石市   大冶市    理科  城市往届  中国共产主义青年团团员   \n",
       "...    ...              ...  ...    ...   ...   ...   ...   ...          ...   \n",
       "3935    31  181101142300626  ...    重庆市   市辖区   渝北区    文科  城市应届  中国共产主义青年团团员   \n",
       "3936    32  181102142300026  ...    浙江省   舟山市   岱山县  不分文理  城市应届  中国共产主义青年团团员   \n",
       "3937    32  181104142300080  ...    四川省   成都市   青羊区    理科  城市应届  中国共产主义青年团团员   \n",
       "3938    33  181101142300029  ...    江西省   上饶市   信州区    理科  城市应届  中国共产主义青年团团员   \n",
       "3939    33  181101142300723  ...    河南省   周口市   淮阳县    理科  城市应届  中国共产主义青年团团员   \n",
       "\n",
       "        民族 考生性质 文化程度                    考试科目  \n",
       "0       满族   学生   高中  朗诵；朗诵与才艺展示；声乐、形体、台词与表演  \n",
       "1       汉族   学生   中专  朗诵；朗诵与才艺展示；声乐、形体、台词与表演  \n",
       "2     达斡尔族   学生   高中  朗诵；朗诵与才艺展示；声乐、形体、台词与表演  \n",
       "3       汉族   学生   高中  朗诵；朗诵与才艺展示；声乐、形体、台词与表演  \n",
       "4       汉族   学生   高中  朗诵；朗诵与才艺展示；声乐、形体、台词与表演  \n",
       "...    ...  ...  ...                     ...  \n",
       "3935    汉族   学生   高中                 初试:命题创作  \n",
       "3936    汉族   学生   高中                 初试:命题创作  \n",
       "3937    汉族   学生   高中                 初试:命题创作  \n",
       "3938    汉族   学生   高中                 初试:命题创作  \n",
       "3939    汉族   学生   高中                 初试:命题创作  \n",
       "\n",
       "[3940 rows x 28 columns]>"
      ]
     },
     "execution_count": 143,
     "metadata": {},
     "output_type": "execute_result"
    }
   ],
   "source": [
    "hege_total.head"
   ]
  },
  {
   "cell_type": "code",
   "execution_count": 144,
   "metadata": {
    "scrolled": true
   },
   "outputs": [
    {
     "data": {
      "text/plain": [
       "<bound method NDFrame.head of       招生年度  报名类型 性别      院系       专业             专业方向  考点             准考证号  \\\n",
       "0     2016  全国统招  男   影视技术系  影视摄影与制作  影视摄影与制作（数字电影技术）  北京   16110111220088   \n",
       "1     2016  全国统招  男     文学系   戏剧影视文学       戏剧影视文学（剧作）  北京   16110101020025   \n",
       "2     2016  全国统招  男   影视技术系  影视摄影与制作  影视摄影与制作（数字电影技术）  北京   16110111220517   \n",
       "3     2016  全国统招  女    动画学院       动画               动画  杭州   16110209190064   \n",
       "4     2016  全国统招  女    动画学院       动画               动画  北京   16110109190080   \n",
       "...    ...   ... ..     ...      ...              ...  ..              ...   \n",
       "3935  2018  全国统招  女    动画学院       漫画               漫画  北京  181101091700776   \n",
       "3936  2018  全国统招  女    管理学院      电影学       电影学（制片与市场）  北京  181101071400926   \n",
       "3937  2018  全国统招  女    摄影学院       摄影               摄影  北京  181101081501013   \n",
       "3938  2018  全国统招  女    表演学院       表演               表演  北京  181101030403221   \n",
       "3939  2018  全国统招  男  视听传媒学院   广播电视编导           广播电视编导  北京  181101132200754   \n",
       "\n",
       "     是否往报        出生日期  ...     数学     英语     文综     理综  附加分    总成绩  \\\n",
       "0       是  1998-03-18  ...    NaN    NaN    NaN    NaN  NaN    NaN   \n",
       "1       是  1997-02-14  ...   68.0   80.0  213.0    NaN  0.0  457.0   \n",
       "2       是  1997-05-11  ...    NaN    NaN    NaN    NaN  NaN    NaN   \n",
       "3       是  1998-03-21  ...   46.0  112.0  176.0    NaN  0.0  429.0   \n",
       "4       是  1997-10-10  ...    NaN    NaN    NaN    NaN  NaN    NaN   \n",
       "...   ...         ...  ...    ...    ...    ...    ...  ...    ...   \n",
       "3935    是  1999-11-13  ...    NaN    NaN    NaN    NaN  NaN    NaN   \n",
       "3936    是  1999-11-14  ...  137.0  128.0  231.0    NaN  0.0  608.0   \n",
       "3937    是  1999-02-04  ...  106.0  109.0    NaN  139.0  0.0  461.0   \n",
       "3938    是  1999-03-19  ...    NaN    NaN    NaN    NaN  NaN    NaN   \n",
       "3939    是  2000-10-13  ...    NaN    NaN    NaN    NaN  NaN    NaN   \n",
       "\n",
       "     文化课总成绩比值（含附加分）  各省一本线 各省艺术类本科线 志愿顺序  \n",
       "0               NaN    NaN      NaN  NaN  \n",
       "1          0.877159  521.0    338.0    1  \n",
       "2               NaN    NaN      NaN  NaN  \n",
       "3          0.834630  514.0    280.0    1  \n",
       "4               NaN    NaN      NaN  NaN  \n",
       "...             ...    ...      ...  ...  \n",
       "3935            NaN    NaN      NaN  NaN  \n",
       "3936       1.055556  576.0    340.0    1  \n",
       "3937       0.891683  517.0    239.0    1  \n",
       "3938            NaN    NaN      NaN  NaN  \n",
       "3939            NaN    NaN      NaN  NaN  \n",
       "\n",
       "[3940 rows x 45 columns]>"
      ]
     },
     "execution_count": 144,
     "metadata": {},
     "output_type": "execute_result"
    }
   ],
   "source": [
    "no_rank.head"
   ]
  },
  {
   "cell_type": "code",
   "execution_count": 145,
   "metadata": {},
   "outputs": [
    {
     "name": "stdout",
     "output_type": "stream",
     "text": [
      "Time cost = 334.486022s\n"
     ]
    }
   ],
   "source": [
    "time_start = time.time()\n",
    "for i in range(len(no_rank)):\n",
    "    for j in range(len(hege_total)):\n",
    "        if hege_total.iloc[j,0] == no_rank.iloc[i,0] and hege_total.iloc[j,9] == no_rank.iloc[i,7] and hege_total.iloc[j,16] == no_rank.iloc[i,5]: # 年份、准考号、报考方向一致\n",
    "            no_rank.iloc[i,30] = hege_total.iloc[j,8] # 原专业排名\n",
    "            no_rank.iloc[i,32] = hege_total.iloc[j,10] # 原专业省内排名\n",
    "                \n",
    "time_end = time.time()\n",
    "print('Time cost = %fs' % (time_end - time_start))"
   ]
  },
  {
   "cell_type": "code",
   "execution_count": 146,
   "metadata": {},
   "outputs": [],
   "source": [
    "no_rank.to_excel(r'/Users/ichigo34/Downloads/2.招生数据分析项目/回归分析/最终数据修改版.xlsx', index = False)"
   ]
  },
  {
   "cell_type": "code",
   "execution_count": null,
   "metadata": {},
   "outputs": [],
   "source": []
  }
 ],
 "metadata": {
  "kernelspec": {
   "display_name": "Python 3",
   "language": "python",
   "name": "python3"
  },
  "language_info": {
   "codemirror_mode": {
    "name": "ipython",
    "version": 3
   },
   "file_extension": ".py",
   "mimetype": "text/x-python",
   "name": "python",
   "nbconvert_exporter": "python",
   "pygments_lexer": "ipython3",
   "version": "3.7.1"
  }
 },
 "nbformat": 4,
 "nbformat_minor": 4
}
