{
 "cells": [
  {
   "cell_type": "code",
   "execution_count": 1,
   "metadata": {},
   "outputs": [],
   "source": [
    "# Python ≥3.5 is required\n",
    "import sys\n",
    "assert sys.version_info >= (3, 5)\n",
    "\n",
    "# Scikit-Learn ≥0.20 is required\n",
    "import sklearn\n",
    "assert sklearn.__version__ >= \"0.20\"\n",
    "\n",
    "# Common imports\n",
    "import numpy as np\n",
    "import os\n",
    "\n",
    "# To plot pretty figures\n",
    "%matplotlib inline\n",
    "import matplotlib as mpl\n",
    "import matplotlib.pyplot as plt"
   ]
  },
  {
   "cell_type": "code",
   "execution_count": 2,
   "metadata": {},
   "outputs": [],
   "source": [
    "# import os\n",
    "import xlrd\n",
    "import xlsxwriter\n"
   ]
  },
  {
   "cell_type": "code",
   "execution_count": null,
   "metadata": {},
   "outputs": [],
   "source": [
    "\n",
    "# 在下方输入需要合并的文件所在文件夹位置\n",
    "path='/Users/ichigo34/Downloads/2.招生数据分析项目/回归分析/招生宣传分析用数据（分离）/录取数据'\n",
    "# 在下方输入合并后Excel的路径和文件名\n",
    "work=xlsxwriter.Workbook('录取汇总信息.xls')\n",
    "# 新建一个sheet\n",
    "sheet=work.add_worksheet('combine')\n",
    "\n",
    "file_list=os.listdir(path)\n",
    "file_list.sort()\n",
    "\n",
    "# Main\n",
    "file_name='';\n",
    "x1=1; x2=1;\n",
    "fileNum = len(file_list)\n",
    "print(\"在该目录下有%d个xls文件\"%fileNum)\n",
    "for file in file_list:\n",
    "    if '录取' in file:                       #此处需要修改！\n",
    "        file_name = os.path.join(path,file) \n",
    "    else:\n",
    "        continue\n",
    "\n",
    "    workbook=xlrd.open_workbook(file_name)\n",
    "    sheet_name=workbook.sheet_names()\n",
    "\n",
    "    for file_1 in sheet_name:\n",
    "        table=workbook.sheet_by_name(file_1)\n",
    "        rows=table.nrows\n",
    "        clos=table.ncols\n",
    "\n",
    "        for i in range(rows): \n",
    "            sheet.write_row('A'+str(x1),table.row_values(i))\n",
    "            x1+=1\n",
    "\n",
    "    print('正在合并第%d个文件 '%x2)\n",
    "    print('已完成 ' + file_name)\n",
    "    x2 += 1;\n",
    "    \n",
    "print(\"已将%d个文件合并完成\"%fileNum)\n",
    "work.close()"
   ]
  },
  {
   "cell_type": "code",
   "execution_count": 3,
   "metadata": {},
   "outputs": [],
   "source": [
    "import pandas as pd"
   ]
  },
  {
   "cell_type": "code",
   "execution_count": null,
   "metadata": {},
   "outputs": [],
   "source": [
    "file2 = \"/Users/ichigo34/Downloads/2.招生数据分析项目/回归分析/招生宣传分析用数据（分离）/录取数据/2016年本科层次、高职层次新生录取名单（分析用）.xls\""
   ]
  },
  {
   "cell_type": "code",
   "execution_count": null,
   "metadata": {},
   "outputs": [],
   "source": [
    "df2016_luqu = pd.read_excel(file2)"
   ]
  },
  {
   "cell_type": "code",
   "execution_count": null,
   "metadata": {},
   "outputs": [],
   "source": [
    "df2016_luqu.head()"
   ]
  },
  {
   "cell_type": "code",
   "execution_count": null,
   "metadata": {},
   "outputs": [],
   "source": [
    "file3 = \"/Users/ichigo34/Downloads/2.招生数据分析项目/回归分析/招生宣传分析用数据（分离）/录取数据/2018年本科新生录取信息（分析用）.xls\""
   ]
  },
  {
   "cell_type": "code",
   "execution_count": null,
   "metadata": {},
   "outputs": [],
   "source": [
    "df2018_luqu = pd.read_excel(file3)"
   ]
  },
  {
   "cell_type": "code",
   "execution_count": null,
   "metadata": {},
   "outputs": [],
   "source": [
    "file4 = \"/Users/ichigo34/Downloads/2.招生数据分析项目/高考分数相关/高考相关数据.xlsx\""
   ]
  },
  {
   "cell_type": "code",
   "execution_count": null,
   "metadata": {},
   "outputs": [],
   "source": [
    "score_line_2016 = pd.read_excel(file4,sheet_name='2016')"
   ]
  },
  {
   "cell_type": "code",
   "execution_count": null,
   "metadata": {},
   "outputs": [],
   "source": [
    "score_line_2016.head()"
   ]
  },
  {
   "cell_type": "code",
   "execution_count": null,
   "metadata": {},
   "outputs": [],
   "source": [
    "len(score_line_2016)"
   ]
  },
  {
   "cell_type": "code",
   "execution_count": null,
   "metadata": {},
   "outputs": [],
   "source": [
    "score_line_2017 = pd.read_excel(file4,sheet_name='2017')"
   ]
  },
  {
   "cell_type": "code",
   "execution_count": null,
   "metadata": {},
   "outputs": [],
   "source": [
    "score_line_2017.head()"
   ]
  },
  {
   "cell_type": "code",
   "execution_count": null,
   "metadata": {},
   "outputs": [],
   "source": [
    "score_line_2018 = pd.read_excel(file4,sheet_name='2018') # df.at['two','pop']"
   ]
  },
  {
   "cell_type": "code",
   "execution_count": null,
   "metadata": {},
   "outputs": [],
   "source": [
    "score_line_2018.head()"
   ]
  },
  {
   "cell_type": "code",
   "execution_count": null,
   "metadata": {},
   "outputs": [],
   "source": [
    "score_line_2018.tail()"
   ]
  },
  {
   "cell_type": "code",
   "execution_count": null,
   "metadata": {},
   "outputs": [],
   "source": [
    "df2016_luqu.iloc[5,7]"
   ]
  },
  {
   "cell_type": "code",
   "execution_count": null,
   "metadata": {},
   "outputs": [],
   "source": [
    "score_line_2016.iloc[5,0]"
   ]
  },
  {
   "cell_type": "code",
   "execution_count": null,
   "metadata": {},
   "outputs": [],
   "source": [
    "df2016_luqu.iloc[5,6]"
   ]
  },
  {
   "cell_type": "code",
   "execution_count": null,
   "metadata": {},
   "outputs": [],
   "source": [
    "df2016_luqu.iloc[5,26]"
   ]
  },
  {
   "cell_type": "code",
   "execution_count": null,
   "metadata": {},
   "outputs": [],
   "source": [
    "df2016_luqu.iloc[5,29]"
   ]
  },
  {
   "cell_type": "code",
   "execution_count": null,
   "metadata": {},
   "outputs": [],
   "source": [
    "score_line_2016.iloc[5,2]"
   ]
  },
  {
   "cell_type": "code",
   "execution_count": null,
   "metadata": {},
   "outputs": [],
   "source": [
    "score_line_2016.iloc[5,3]"
   ]
  },
  {
   "cell_type": "code",
   "execution_count": null,
   "metadata": {},
   "outputs": [],
   "source": [
    "for i in range(len(df2016_luqu)):\n",
    "    for j in range(len(score_line_2016)):\n",
    "        if df2016_luqu.iloc[i,7] == score_line_2016.iloc[j,0]:# 省份名称相同\n",
    "            if df2016_luqu.iloc[i,6] == '文科':\n",
    "                df2016_luqu.iloc[i,26] =  int(score_line_2016.iloc[j,2])  # 文科一批\n",
    "            else:\n",
    "                df2016_luqu.iloc[i,26] =  int(score_line_2016.iloc[j,3])  # 理科一批"
   ]
  },
  {
   "cell_type": "code",
   "execution_count": null,
   "metadata": {},
   "outputs": [],
   "source": [
    "df2016_luqu['各省一本线']"
   ]
  },
  {
   "cell_type": "code",
   "execution_count": null,
   "metadata": {},
   "outputs": [],
   "source": [
    "df2016_luqu['各省一本线'].describe()"
   ]
  },
  {
   "cell_type": "code",
   "execution_count": null,
   "metadata": {},
   "outputs": [],
   "source": [
    "#2016艺术类分数线\n",
    "for i in range(len(df2016_luqu)):\n",
    "    for j in range(len(score_line_2016)):\n",
    "        if df2016_luqu.iloc[i,7] == score_line_2016.iloc[j,0]:# 省份名称相同\n",
    "            if df2016_luqu.iloc[i,6] == '文科':\n",
    "                df2016_luqu.iloc[i,27] =  int(score_line_2016.iloc[j,8])  # 文科艺术\n",
    "            else:\n",
    "                df2016_luqu.iloc[i,27] =  int(score_line_2016.iloc[j,9])  # 理科艺术"
   ]
  },
  {
   "cell_type": "code",
   "execution_count": null,
   "metadata": {},
   "outputs": [],
   "source": [
    "df2016_luqu['各省艺术类本科线']"
   ]
  },
  {
   "cell_type": "code",
   "execution_count": null,
   "metadata": {},
   "outputs": [],
   "source": [
    "df2016_luqu['各省艺术类本科线'].describe()"
   ]
  },
  {
   "cell_type": "code",
   "execution_count": null,
   "metadata": {},
   "outputs": [],
   "source": [
    "df2016_luqu.to_excel(r'/Users/ichigo34/Downloads/2.招生数据分析项目/回归分析/招生宣传分析用数据（分离）/录取数据/2016年录取信息新.xls', index = False)"
   ]
  },
  {
   "cell_type": "code",
   "execution_count": null,
   "metadata": {},
   "outputs": [],
   "source": [
    "#2018一本线\n",
    "for i in range(len(df2018_luqu)):\n",
    "    for j in range(len(score_line_2018)):\n",
    "        if df2018_luqu.iloc[i,7] == score_line_2018.iloc[j,0]:# 省份名称相同\n",
    "            if df2018_luqu.iloc[i,6] == '文科':\n",
    "                df2018_luqu.iloc[i,26] =  int(score_line_2018.iloc[j,2])  # 文科一批\n",
    "            else:\n",
    "                df2018_luqu.iloc[i,26] =  int(score_line_2018.iloc[j,3])  # 理科一批"
   ]
  },
  {
   "cell_type": "code",
   "execution_count": null,
   "metadata": {},
   "outputs": [],
   "source": [
    "df2018_luqu['省一本线（文、理）']"
   ]
  },
  {
   "cell_type": "code",
   "execution_count": null,
   "metadata": {},
   "outputs": [],
   "source": [
    "#2018艺术类分数线\n",
    "for i in range(len(df2018_luqu)):\n",
    "    for j in range(len(score_line_2018)):\n",
    "        if df2018_luqu.iloc[i,7] == score_line_2018.iloc[j,0]:# 省份名称相同\n",
    "            if df2018_luqu.iloc[i,6] == '文科':\n",
    "                df2018_luqu.iloc[i,27] =  int(score_line_2018.iloc[j,8])  # 文科艺术\n",
    "            else:\n",
    "                df2018_luqu.iloc[i,27] =  int(score_line_2018.iloc[j,9])  # 理科艺术"
   ]
  },
  {
   "cell_type": "code",
   "execution_count": null,
   "metadata": {},
   "outputs": [],
   "source": [
    "df2018_luqu['省艺术类最低控制线（文、理）']"
   ]
  },
  {
   "cell_type": "code",
   "execution_count": null,
   "metadata": {},
   "outputs": [],
   "source": [
    "df2018_luqu.to_excel(r'/Users/ichigo34/Downloads/2.招生数据分析项目/回归分析/招生宣传分析用数据（分离）/录取数据/2018年录取信息新.xls', index = False)"
   ]
  },
  {
   "cell_type": "code",
   "execution_count": null,
   "metadata": {},
   "outputs": [],
   "source": [
    "file5 = \"/Users/ichigo34/Downloads/2.招生数据分析项目/回归分析/报名信息汇总.xls\"\n",
    "df_baoming = pd.read_excel(file5)"
   ]
  },
  {
   "cell_type": "code",
   "execution_count": null,
   "metadata": {},
   "outputs": [],
   "source": [
    "file6 = \"/Users/ichigo34/Downloads/2.招生数据分析项目/回归分析/合格汇总信息.xls\"\n",
    "df_hege = pd.read_excel(file6)"
   ]
  },
  {
   "cell_type": "code",
   "execution_count": null,
   "metadata": {},
   "outputs": [],
   "source": [
    "file7 = \"/Users/ichigo34/Downloads/2.招生数据分析项目/回归分析/录取汇总信息.xls\"\n",
    "df_luqu = pd.read_excel(file7)"
   ]
  },
  {
   "cell_type": "code",
   "execution_count": null,
   "metadata": {},
   "outputs": [],
   "source": [
    "df_baoming['毕业中学所在省']"
   ]
  },
  {
   "cell_type": "code",
   "execution_count": null,
   "metadata": {
    "scrolled": true
   },
   "outputs": [],
   "source": [
    "df_baoming.shape[1]"
   ]
  },
  {
   "cell_type": "code",
   "execution_count": 43,
   "metadata": {},
   "outputs": [],
   "source": [
    "file9 = \"/Users/ichigo34/Downloads/2.招生数据分析项目/回归分析/分年汇总/合格汇总信息2016.xls\"\n",
    "df_hege_2016 = pd.read_excel(file9)\n",
    "file10 = \"/Users/ichigo34/Downloads/2.招生数据分析项目/回归分析/分年汇总/录取汇总信息2016.xls\"\n",
    "df_luqu_2016 = pd.read_excel(file10)"
   ]
  },
  {
   "cell_type": "code",
   "execution_count": 55,
   "metadata": {},
   "outputs": [],
   "source": [
    "file8 = \"/Users/ichigo34/Downloads/2.招生数据分析项目/回归分析/分年汇总/报名信息汇总2016.xls\"\n",
    "df_baoming_2016 = pd.read_excel(file8)"
   ]
  },
  {
   "cell_type": "code",
   "execution_count": null,
   "metadata": {},
   "outputs": [],
   "source": [
    "for i in range(len(df_baoming_2016)):\n",
    "    for j in range(len(df_hege_2016)):\n",
    "        if df_baoming_2016.iloc[i,7] == df_hege_2016.iloc[j,9]: # 专业考试准考证号相同\n",
    "            df_baoming_2016.iloc[i,19] = df_hege_2016.iloc[j,5] # 毕业中学所在省\n",
    "            df_baoming_2016.iloc[i,20] = df_hege_2016.iloc[j,6] # 毕业中学类别\n",
    "            df_baoming_2016.iloc[i,26] = df_hege_2016.iloc[j,19] # 户籍所在市\n",
    "            df_baoming_2016.iloc[i,27] = df_hege_2016.iloc[j,20] # 户籍所在县\n",
    "            df_baoming_2016.iloc[i,28] = df_hege_2016.iloc[j,7] # 专业成绩\n",
    "            df_baoming_2016.iloc[i,29] = df_hege_2016.iloc[j,27] # 考试科目"
   ]
  },
  {
   "cell_type": "code",
   "execution_count": 20,
   "metadata": {},
   "outputs": [
    {
     "data": {
      "text/plain": [
       "16110101010002"
      ]
     },
     "execution_count": 20,
     "metadata": {},
     "output_type": "execute_result"
    }
   ],
   "source": [
    "df_baoming_2016.iloc[8159,7]"
   ]
  },
  {
   "cell_type": "code",
   "execution_count": 21,
   "metadata": {},
   "outputs": [
    {
     "name": "stdout",
     "output_type": "stream",
     "text": [
      "Time cost = 0.038851s\n"
     ]
    }
   ],
   "source": [
    "time_start = time.time()\n",
    "for j in range(len(df_luqu_2016)):\n",
    "    if df_luqu_2016.iloc[j,10] != 0: # 专业考试准考证号不为空或*\n",
    "        if df_baoming_2016.iloc[8159,7] == df_luqu_2016.iloc[j,10]: # 专业考试准考证号相同\n",
    "            df_baoming_2016.iloc[8159,30] = df_luqu_2016.iloc[j,12] # 原专业排名\n",
    "            df_baoming_2016.iloc[8159,31] = df_luqu_2016.iloc[j,13] # 现专业排名\n",
    "            df_baoming_2016.iloc[8159,32] = df_luqu_2016.iloc[j,14] # 原专业省内排名\n",
    "            df_baoming_2016.iloc[8159,33] = df_luqu_2016.iloc[j,15] # 现专业省内排名\n",
    "            df_baoming_2016.iloc[8159,34] = df_luqu_2016.iloc[j,16] # 语文\n",
    "            df_baoming_2016.iloc[8159,35] = df_luqu_2016.iloc[j,17] # 数学\n",
    "            df_baoming_2016.iloc[8159,36] = df_luqu_2016.iloc[j,18] # 英语\n",
    "            df_baoming_2016.iloc[8159,37] = df_luqu_2016.iloc[j,19] # 文综\n",
    "            df_baoming_2016.iloc[8159,38] = df_luqu_2016.iloc[j,20] # 理综\n",
    "            df_baoming_2016.iloc[8159,39] = df_luqu_2016.iloc[j,21] # 附加分\n",
    "            df_baoming_2016.iloc[8159,40] = df_luqu_2016.iloc[j,22] # 总成绩\n",
    "            df_baoming_2016.iloc[8159,41] = df_luqu_2016.iloc[j,23] # 文化课总成绩比值\n",
    "            df_baoming_2016.iloc[8159,42] = df_luqu_2016.iloc[j,24] # 各省一本线\n",
    "            df_baoming_2016.iloc[8159,43] = df_luqu_2016.iloc[j,25] # 各省艺术类本科线\n",
    "            df_baoming_2016.iloc[8159,44] = df_luqu_2016.iloc[j,26] # 志愿顺序\n",
    "    else:\n",
    "        if df_baoming_2016.iloc[8159,21] == df_luqu_2016.iloc[j,2]: # 高考报名号相同\n",
    "            df_baoming_2016.iloc[8159,30] = df_luqu_2016.iloc[j,12] # 原专业排名\n",
    "            df_baoming_2016.iloc[8159,31] = df_luqu_2016.iloc[j,13] # 现专业排名\n",
    "            df_baoming_2016.iloc[8159,32] = df_luqu_2016.iloc[j,14] # 原专业省内排名\n",
    "            df_baoming_2016.iloc[8159,33] = df_luqu_2016.iloc[j,15] # 现专业省内排名\n",
    "            df_baoming_2016.iloc[8159,34] = df_luqu_2016.iloc[j,16] # 语文\n",
    "            df_baoming_2016.iloc[8159,35] = df_luqu_2016.iloc[j,17] # 数学\n",
    "            df_baoming_2016.iloc[8159,36] = df_luqu_2016.iloc[j,18] # 英语\n",
    "            df_baoming_2016.iloc[8159,37] = df_luqu_2016.iloc[j,19] # 文综\n",
    "            df_baoming_2016.iloc[8159,38] = df_luqu_2016.iloc[j,20] # 理综\n",
    "            df_baoming_2016.iloc[8159,39] = df_luqu_2016.iloc[j,21] # 附加分\n",
    "            df_baoming_2016.iloc[8159,40] = df_luqu_2016.iloc[j,22] # 总成绩\n",
    "            df_baoming_2016.iloc[8159,41] = df_luqu_2016.iloc[j,23] # 文化课总成绩比值\n",
    "            df_baoming_2016.iloc[8159,42] = df_luqu_2016.iloc[j,24] # 各省一本线\n",
    "            df_baoming_2016.iloc[8159,43] = df_luqu_2016.iloc[j,25] # 各省艺术类本科线\n",
    "            df_baoming_2016.iloc[8159,44] = df_luqu_2016.iloc[j,26] # 志愿顺序\n",
    "                \n",
    "time_end = time.time()\n",
    "print('Time cost = %fs' % (time_end - time_start))\n"
   ]
  },
  {
   "cell_type": "code",
   "execution_count": 22,
   "metadata": {},
   "outputs": [
    {
     "name": "stdout",
     "output_type": "stream",
     "text": [
      "      招生年度  报名类型 性别   院系      专业          专业方向  考点            准考证号 是否往报  \\\n",
      "8159  2016  全国统招  女  文学系  戏剧影视文学  戏剧影视文学（创意策划）  北京  16110101010002    是   \n",
      "\n",
      "            出生日期  ...    数学     英语     文综  理综  附加分    总成绩 文化课总成绩比值（含附加分）  \\\n",
      "8159  1998-02-23  ...  71.0  108.0  207.0 NaN  0.0  493.0       0.930189   \n",
      "\n",
      "      各省一本线 各省艺术类本科线  志愿顺序  \n",
      "8159  530.0    309.0   1.0  \n",
      "\n",
      "[1 rows x 45 columns]\n"
     ]
    }
   ],
   "source": [
    "print(df_baoming_2016.iloc[[8159]])"
   ]
  },
  {
   "cell_type": "code",
   "execution_count": 49,
   "metadata": {},
   "outputs": [
    {
     "data": {
      "text/plain": [
       "'16110102110419'"
      ]
     },
     "execution_count": 49,
     "metadata": {},
     "output_type": "execute_result"
    }
   ],
   "source": [
    "df_baoming_2016.iloc[577,21]"
   ]
  },
  {
   "cell_type": "code",
   "execution_count": 39,
   "metadata": {},
   "outputs": [],
   "source": [
    "import cmath"
   ]
  },
  {
   "cell_type": "code",
   "execution_count": 44,
   "metadata": {},
   "outputs": [
    {
     "name": "stdout",
     "output_type": "stream",
     "text": [
      "True\n"
     ]
    }
   ],
   "source": [
    "print(df_luqu_2016.iloc[266,10] == 0)"
   ]
  },
  {
   "cell_type": "code",
   "execution_count": 50,
   "metadata": {},
   "outputs": [
    {
     "name": "stdout",
     "output_type": "stream",
     "text": [
      "Time cost = 0.028240s\n"
     ]
    }
   ],
   "source": [
    "time_start = time.time()\n",
    "for j in range(len(df_luqu_2016)):\n",
    "    if df_luqu_2016.iloc[j,10] != 0: # 专业考试准考证号不为空\n",
    "        if df_baoming_2016.iloc[577,7] == int(df_luqu_2016.iloc[j,10]): # 专业考试准考证号相同\n",
    "            df_baoming_2016.iloc[577,30] = df_luqu_2016.iloc[j,12] # 原专业排名\n",
    "            df_baoming_2016.iloc[577,31] = df_luqu_2016.iloc[j,13] # 现专业排名\n",
    "            df_baoming_2016.iloc[577,32] = df_luqu_2016.iloc[j,14] # 原专业省内排名\n",
    "            df_baoming_2016.iloc[577,33] = df_luqu_2016.iloc[j,15] # 现专业省内排名\n",
    "            df_baoming_2016.iloc[577,34] = df_luqu_2016.iloc[j,16] # 语文\n",
    "            df_baoming_2016.iloc[577,35] = df_luqu_2016.iloc[j,17] # 数学\n",
    "            df_baoming_2016.iloc[577,36] = df_luqu_2016.iloc[j,18] # 英语\n",
    "            df_baoming_2016.iloc[577,37] = df_luqu_2016.iloc[j,19] # 文综\n",
    "            df_baoming_2016.iloc[577,38] = df_luqu_2016.iloc[j,20] # 理综\n",
    "            df_baoming_2016.iloc[577,39] = df_luqu_2016.iloc[j,21] # 附加分\n",
    "            df_baoming_2016.iloc[577,40] = df_luqu_2016.iloc[j,22] # 总成绩\n",
    "            df_baoming_2016.iloc[577,41] = df_luqu_2016.iloc[j,23] # 文化课总成绩比值\n",
    "            df_baoming_2016.iloc[577,42] = df_luqu_2016.iloc[j,24] # 各省一本线\n",
    "            df_baoming_2016.iloc[577,43] = df_luqu_2016.iloc[j,25] # 各省艺术类本科线\n",
    "            df_baoming_2016.iloc[577,44] = df_luqu_2016.iloc[j,26] # 志愿顺序\n",
    "    else:\n",
    "        if float(df_baoming_2016.iloc[577,21]) == df_luqu_2016.iloc[j,2]: # 高考报名号相同\n",
    "            df_baoming_2016.iloc[577,30] = df_luqu_2016.iloc[j,12] # 原专业排名\n",
    "            df_baoming_2016.iloc[577,31] = df_luqu_2016.iloc[j,13] # 现专业排名\n",
    "            df_baoming_2016.iloc[577,32] = df_luqu_2016.iloc[j,14] # 原专业省内排名\n",
    "            df_baoming_2016.iloc[577,33] = df_luqu_2016.iloc[j,15] # 现专业省内排名\n",
    "            df_baoming_2016.iloc[577,34] = df_luqu_2016.iloc[j,16] # 语文\n",
    "            df_baoming_2016.iloc[577,35] = df_luqu_2016.iloc[j,17] # 数学\n",
    "            df_baoming_2016.iloc[577,36] = df_luqu_2016.iloc[j,18] # 英语\n",
    "            df_baoming_2016.iloc[577,37] = df_luqu_2016.iloc[j,19] # 文综\n",
    "            df_baoming_2016.iloc[577,38] = df_luqu_2016.iloc[j,20] # 理综\n",
    "            df_baoming_2016.iloc[577,39] = df_luqu_2016.iloc[j,21] # 附加分\n",
    "            df_baoming_2016.iloc[577,40] = df_luqu_2016.iloc[j,22] # 总成绩\n",
    "            df_baoming_2016.iloc[577,41] = df_luqu_2016.iloc[j,23] # 文化课总成绩比值\n",
    "            df_baoming_2016.iloc[577,42] = df_luqu_2016.iloc[j,24] # 各省一本线\n",
    "            df_baoming_2016.iloc[577,43] = df_luqu_2016.iloc[j,25] # 各省艺术类本科线\n",
    "            df_baoming_2016.iloc[577,44] = df_luqu_2016.iloc[j,26] # 志愿顺序\n",
    "                \n",
    "time_end = time.time()\n",
    "print('Time cost = %fs' % (time_end - time_start))"
   ]
  },
  {
   "cell_type": "code",
   "execution_count": 51,
   "metadata": {},
   "outputs": [
    {
     "name": "stdout",
     "output_type": "stream",
     "text": [
      "     招生年度  报名类型 性别   院系      专业          专业方向  考点            准考证号 是否往报  \\\n",
      "577  2016  全国统招  女  文学系  戏剧影视文学  戏剧影视文学（创意策划）  北京  16110101010099    是   \n",
      "\n",
      "           出生日期  ...     数学     英语     文综   理综  附加分    总成绩 文化课总成绩比值（含附加分）  \\\n",
      "577  1998-01-19  ...  140.0  131.0  229.0  0.0  0.0  632.0       1.084048   \n",
      "\n",
      "     各省一本线 各省艺术类本科线  志愿顺序  \n",
      "577  583.0    346.0   1.0  \n",
      "\n",
      "[1 rows x 45 columns]\n"
     ]
    }
   ],
   "source": [
    "print(df_baoming_2016.iloc[[577]])"
   ]
  },
  {
   "cell_type": "code",
   "execution_count": 6,
   "metadata": {},
   "outputs": [],
   "source": [
    "import time"
   ]
  },
  {
   "cell_type": "code",
   "execution_count": 56,
   "metadata": {},
   "outputs": [
    {
     "name": "stdout",
     "output_type": "stream",
     "text": [
      "Time cost = 346.284290s\n"
     ]
    }
   ],
   "source": [
    "time_start = time.time()\n",
    "for i in range(len(df_baoming_2016)):\n",
    "    for j in range(len(df_luqu_2016)):\n",
    "        if df_luqu_2016.iloc[j,10] != 0: # 专业考试准考证号不为0\n",
    "            if df_baoming_2016.iloc[i,7] == int(df_luqu_2016.iloc[j,10]): # 专业考试准考证号相同\n",
    "                df_baoming_2016.iloc[i,30] = df_luqu_2016.iloc[j,12] # 原专业排名\n",
    "                df_baoming_2016.iloc[i,31] = df_luqu_2016.iloc[j,13] # 现专业排名\n",
    "                df_baoming_2016.iloc[i,32] = df_luqu_2016.iloc[j,14] # 原专业省内排名\n",
    "                df_baoming_2016.iloc[i,33] = df_luqu_2016.iloc[j,15] # 现专业省内排名\n",
    "                df_baoming_2016.iloc[i,34] = df_luqu_2016.iloc[j,16] # 语文\n",
    "                df_baoming_2016.iloc[i,35] = df_luqu_2016.iloc[j,17] # 数学\n",
    "                df_baoming_2016.iloc[i,36] = df_luqu_2016.iloc[j,18] # 英语\n",
    "                df_baoming_2016.iloc[i,37] = df_luqu_2016.iloc[j,19] # 文综\n",
    "                df_baoming_2016.iloc[i,38] = df_luqu_2016.iloc[j,20] # 理综\n",
    "                df_baoming_2016.iloc[i,39] = df_luqu_2016.iloc[j,21] # 附加分\n",
    "                df_baoming_2016.iloc[i,40] = df_luqu_2016.iloc[j,22] # 总成绩\n",
    "                df_baoming_2016.iloc[i,41] = df_luqu_2016.iloc[j,23] # 文化课总成绩比值\n",
    "                df_baoming_2016.iloc[i,42] = df_luqu_2016.iloc[j,24] # 各省一本线\n",
    "                df_baoming_2016.iloc[i,43] = df_luqu_2016.iloc[j,25] # 各省艺术类本科线\n",
    "                df_baoming_2016.iloc[i,44] = df_luqu_2016.iloc[j,26] # 志愿顺序\n",
    "        else:\n",
    "            if float(df_baoming_2016.iloc[i,21]) == df_luqu_2016.iloc[j,2]: # 高考报名号相同\n",
    "                df_baoming_2016.iloc[i,30] = df_luqu_2016.iloc[j,12] # 原专业排名\n",
    "                df_baoming_2016.iloc[i,31] = df_luqu_2016.iloc[j,13] # 现专业排名\n",
    "                df_baoming_2016.iloc[i,32] = df_luqu_2016.iloc[j,14] # 原专业省内排名\n",
    "                df_baoming_2016.iloc[i,33] = df_luqu_2016.iloc[j,15] # 现专业省内排名\n",
    "                df_baoming_2016.iloc[i,34] = df_luqu_2016.iloc[j,16] # 语文\n",
    "                df_baoming_2016.iloc[i,35] = df_luqu_2016.iloc[j,17] # 数学\n",
    "                df_baoming_2016.iloc[i,36] = df_luqu_2016.iloc[j,18] # 英语\n",
    "                df_baoming_2016.iloc[i,37] = df_luqu_2016.iloc[j,19] # 文综\n",
    "                df_baoming_2016.iloc[i,38] = df_luqu_2016.iloc[j,20] # 理综\n",
    "                df_baoming_2016.iloc[i,39] = df_luqu_2016.iloc[j,21] # 附加分\n",
    "                df_baoming_2016.iloc[i,40] = df_luqu_2016.iloc[j,22] # 总成绩\n",
    "                df_baoming_2016.iloc[i,41] = df_luqu_2016.iloc[j,23] # 文化课总成绩比值\n",
    "                df_baoming_2016.iloc[i,42] = df_luqu_2016.iloc[j,24] # 各省一本线\n",
    "                df_baoming_2016.iloc[i,43] = df_luqu_2016.iloc[j,25] # 各省艺术类本科线\n",
    "                df_baoming_2016.iloc[i,44] = df_luqu_2016.iloc[j,26] # 志愿顺序\n",
    "                \n",
    "time_end = time.time()\n",
    "print('Time cost = %fs' % (time_end - time_start))"
   ]
  },
  {
   "cell_type": "code",
   "execution_count": 57,
   "metadata": {},
   "outputs": [],
   "source": [
    "df_baoming_2016.to_excel(r'/Users/ichigo34/Downloads/2.招生数据分析项目/回归分析/招生宣传分析用数据（分离）/录取数据/2016录取_修改版.xls', index = False)"
   ]
  },
  {
   "cell_type": "code",
   "execution_count": 58,
   "metadata": {},
   "outputs": [],
   "source": [
    "file11 = \"/Users/ichigo34/Downloads/2.招生数据分析项目/回归分析/分年汇总/报名信息汇总2017.xls\"\n",
    "df_baoming_2017 = pd.read_excel(file11)\n",
    "file12 = \"/Users/ichigo34/Downloads/2.招生数据分析项目/回归分析/分年汇总/合格汇总信息2017.xls\"\n",
    "df_hege_2017 = pd.read_excel(file12)\n",
    "file13 = \"/Users/ichigo34/Downloads/2.招生数据分析项目/回归分析/分年汇总/录取汇总信息2017.xls\"\n",
    "df_luqu_2017 = pd.read_excel(file13)"
   ]
  },
  {
   "cell_type": "code",
   "execution_count": 8,
   "metadata": {},
   "outputs": [
    {
     "name": "stdout",
     "output_type": "stream",
     "text": [
      "Time cost = 2289.341644s\n"
     ]
    }
   ],
   "source": [
    "time_start = time.time()\n",
    "for i in range(len(df_baoming_2017)):\n",
    "    for j in range(len(df_hege_2017)):\n",
    "        if df_baoming_2017.iloc[i,7] == df_hege_2017.iloc[j,9]: # 专业考试准考证号相同\n",
    "            df_baoming_2017.iloc[i,19] = df_hege_2017.iloc[j,5] # 毕业中学所在省\n",
    "            df_baoming_2017.iloc[i,20] = df_hege_2017.iloc[j,6] # 毕业中学类别\n",
    "            df_baoming_2017.iloc[i,26] = df_hege_2017.iloc[j,19] # 户籍所在市\n",
    "            df_baoming_2017.iloc[i,27] = df_hege_2017.iloc[j,20] # 户籍所在县\n",
    "            df_baoming_2017.iloc[i,28] = df_hege_2017.iloc[j,7] # 专业成绩\n",
    "            df_baoming_2017.iloc[i,29] = df_hege_2017.iloc[j,27] # 考试科目\n",
    "time_end = time.time()\n",
    "print('Time cost = %fs' % (time_end - time_start))"
   ]
  },
  {
   "cell_type": "code",
   "execution_count": 10,
   "metadata": {
    "scrolled": true
   },
   "outputs": [
    {
     "data": {
      "text/plain": [
       "招生年度                                                       int64\n",
       "报名类型                                                      object\n",
       "性别                                                        object\n",
       "院系                                                        object\n",
       "专业                                                        object\n",
       "专业方向                                                      object\n",
       "考点                                                        object\n",
       "准考证号                                                       int64\n",
       "是否往报                                                      object\n",
       "出生日期                                                      object\n",
       "政治面貌名称                                                    object\n",
       "民族名称                                                      object\n",
       "考生类别名称                                                    object\n",
       "考生性质名称                                                    object\n",
       "高考类别                                                       int64\n",
       "高考类别名称                                                    object\n",
       "文化程度名称                                                    object\n",
       "身高                                                         int64\n",
       "毕业中学名称                                                    object\n",
       "毕业中学所在省                                                   object\n",
       "毕业中学类别                                                    object\n",
       "高考报名号                                                     object\n",
       "高考所在省                                                     object\n",
       "高考所在市                                                     object\n",
       "高考所在县                                                     object\n",
       "户口所在地                                                     object\n",
       "户籍所在市                                                     object\n",
       "户籍所在县                                                     object\n",
       "专业成绩                                                     float64\n",
       "考试科目                                                      object\n",
       "原专业排名（在所有已经发放合格证考生范围内的专业排名）                              float64\n",
       "现专业排名（在所有已经录取考生范围内的专业排名）                                 float64\n",
       "原专业省内排名（高职学院的戏剧影视表演专业需要显示省内排名，在所有已经发放合格证考生范围内的专业省内排名）    float64\n",
       "现专业省内排名（高职学院的戏剧影视表演专业需要显示省内排名，在所有已经录取考生范围内的专业省内排名）       float64\n",
       "语文                                                       float64\n",
       "数学                                                       float64\n",
       "英语                                                       float64\n",
       "文综                                                       float64\n",
       "理综                                                       float64\n",
       "附加分                                                      float64\n",
       "总成绩                                                      float64\n",
       "文化课总成绩比值（含附加分）                                           float64\n",
       "各省一本线                                                    float64\n",
       "各省艺术类本科线                                                 float64\n",
       "志愿顺序                                                     float64\n",
       "dtype: object"
      ]
     },
     "execution_count": 10,
     "metadata": {},
     "output_type": "execute_result"
    }
   ],
   "source": [
    "df_baoming_2017.dtypes"
   ]
  },
  {
   "cell_type": "code",
   "execution_count": 11,
   "metadata": {
    "scrolled": true
   },
   "outputs": [
    {
     "data": {
      "text/plain": [
       "招生年度                                                       int64\n",
       "招生类型                                                      object\n",
       "高考考生号                                                    float64\n",
       "性别                                                        object\n",
       "出生日期                                                      object\n",
       "高考类别                                                      object\n",
       "高考所在省                                                     object\n",
       "院系名称                                                      object\n",
       "专业名称                                                      object\n",
       "专业名称（招考方向）                                                object\n",
       "专业考试准考证号                                                  object\n",
       "专业成绩                                                      object\n",
       "原专业排名（在所有已经发放合格证考生范围内的专业排名）                              float64\n",
       "现专业排名（在所有已经录取考生范围内的专业排名）                                  object\n",
       "原专业省内排名（高职学院的戏剧影视表演专业需要显示省内排名，在所有已经发放合格证考生范围内的专业省内排名）    float64\n",
       "现专业省内排名（高职学院的戏剧影视表演专业需要显示省内排名，在所有已经录取考生范围内的专业省内排名）       float64\n",
       "语文                                                       float64\n",
       "数学                                                       float64\n",
       "英语                                                       float64\n",
       "文综                                                       float64\n",
       "理综                                                       float64\n",
       "附加分                                                      float64\n",
       "总成绩                                                      float64\n",
       "文化课总成绩比值（含附加分）                                           float64\n",
       "各省一本线                                                    float64\n",
       "各省艺术类本科线                                                 float64\n",
       "志愿顺序                                                      object\n",
       "政治面貌                                                      object\n",
       "民族                                                        object\n",
       "考生性质                                                      object\n",
       "考生类别                                                      object\n",
       "文化程度                                                      object\n",
       "户口所在省                                                     object\n",
       "毕业中学名称                                                    object\n",
       "毕业中学类别                                                    object\n",
       "毕业中学所在省                                                   object\n",
       "dtype: object"
      ]
     },
     "execution_count": 11,
     "metadata": {},
     "output_type": "execute_result"
    }
   ],
   "source": [
    "df_luqu_2017.dtypes"
   ]
  },
  {
   "cell_type": "code",
   "execution_count": 61,
   "metadata": {},
   "outputs": [
    {
     "name": "stdout",
     "output_type": "stream",
     "text": [
      "Time cost = 459.587638s\n"
     ]
    }
   ],
   "source": [
    "time_start = time.time()\n",
    "for i in range(len(df_baoming_2017)):\n",
    "    for j in range(len(df_luqu_2017)):\n",
    "        if df_luqu_2017.iloc[j,10] != 0: # 专业考试准考证号不为0\n",
    "            if df_baoming_2017.iloc[i,7] == int(df_luqu_2017.iloc[j,10]): # 专业考试准考证号相同\n",
    "                df_baoming_2017.iloc[i,30] = df_luqu_2017.iloc[j,12] # 原专业排名\n",
    "                df_baoming_2017.iloc[i,31] = df_luqu_2017.iloc[j,13] # 现专业排名\n",
    "                df_baoming_2017.iloc[i,32] = df_luqu_2017.iloc[j,14] # 原专业省内排名\n",
    "                df_baoming_2017.iloc[i,33] = df_luqu_2017.iloc[j,15] # 现专业省内排名\n",
    "                df_baoming_2017.iloc[i,34] = df_luqu_2017.iloc[j,16] # 语文\n",
    "                df_baoming_2017.iloc[i,35] = df_luqu_2017.iloc[j,17] # 数学\n",
    "                df_baoming_2017.iloc[i,36] = df_luqu_2017.iloc[j,18] # 英语\n",
    "                df_baoming_2017.iloc[i,37] = df_luqu_2017.iloc[j,19] # 文综\n",
    "                df_baoming_2017.iloc[i,38] = df_luqu_2017.iloc[j,20] # 理综\n",
    "                df_baoming_2017.iloc[i,39] = df_luqu_2017.iloc[j,21] # 附加分\n",
    "                df_baoming_2017.iloc[i,40] = df_luqu_2017.iloc[j,22] # 总成绩\n",
    "                df_baoming_2017.iloc[i,41] = df_luqu_2017.iloc[j,23] # 文化课总成绩比值\n",
    "                df_baoming_2017.iloc[i,42] = df_luqu_2017.iloc[j,24] # 各省一本线\n",
    "                df_baoming_2017.iloc[i,43] = df_luqu_2017.iloc[j,25] # 各省艺术类本科线\n",
    "                df_baoming_2017.iloc[i,44] = df_luqu_2017.iloc[j,26] # 志愿顺序\n",
    "        else:\n",
    "            if float(df_baoming_2017.iloc[i,21]) == df_luqu_2017.iloc[j,2]: # 高考报名号相同\n",
    "                df_baoming_2017.iloc[i,30] = df_luqu_2017.iloc[j,12] # 原专业排名\n",
    "                df_baoming_2017.iloc[i,31] = df_luqu_2017.iloc[j,13] # 现专业排名\n",
    "                df_baoming_2017.iloc[i,32] = df_luqu_2017.iloc[j,14] # 原专业省内排名\n",
    "                df_baoming_2017.iloc[i,33] = df_luqu_2017.iloc[j,15] # 现专业省内排名\n",
    "                df_baoming_2017.iloc[i,34] = df_luqu_2017.iloc[j,16] # 语文\n",
    "                df_baoming_2017.iloc[i,35] = df_luqu_2017.iloc[j,17] # 数学\n",
    "                df_baoming_2017.iloc[i,36] = df_luqu_2017.iloc[j,18] # 英语\n",
    "                df_baoming_2017.iloc[i,37] = df_luqu_2017.iloc[j,19] # 文综\n",
    "                df_baoming_2017.iloc[i,38] = df_luqu_2017.iloc[j,20] # 理综\n",
    "                df_baoming_2017.iloc[i,39] = df_luqu_2017.iloc[j,21] # 附加分\n",
    "                df_baoming_2017.iloc[i,40] = df_luqu_2017.iloc[j,22] # 总成绩\n",
    "                df_baoming_2017.iloc[i,41] = df_luqu_2017.iloc[j,23] # 文化课总成绩比值\n",
    "                df_baoming_2017.iloc[i,42] = df_luqu_2017.iloc[j,24] # 各省一本线\n",
    "                df_baoming_2017.iloc[i,43] = df_luqu_2017.iloc[j,25] # 各省艺术类本科线\n",
    "                df_baoming_2017.iloc[i,44] = df_luqu_2017.iloc[j,26] # 志愿顺序\n",
    "                \n",
    "time_end = time.time()\n",
    "print('Time cost = %fs' % (time_end - time_start))"
   ]
  },
  {
   "cell_type": "code",
   "execution_count": 62,
   "metadata": {},
   "outputs": [],
   "source": [
    "df_baoming_2017.to_excel(r'/Users/ichigo34/Downloads/2.招生数据分析项目/回归分析/招生宣传分析用数据（分离）/录取数据/2017录取_修改版.xls', index = False)"
   ]
  },
  {
   "cell_type": "code",
   "execution_count": 63,
   "metadata": {},
   "outputs": [],
   "source": [
    "file14 = \"/Users/ichigo34/Downloads/2.招生数据分析项目/回归分析/分年汇总/报名信息汇总2018.xls\"\n",
    "df_baoming_2018 = pd.read_excel(file14)\n",
    "file15 = \"/Users/ichigo34/Downloads/2.招生数据分析项目/回归分析/分年汇总/合格汇总信息2018.xls\"\n",
    "df_hege_2018 = pd.read_excel(file15)\n",
    "file16 = \"/Users/ichigo34/Downloads/2.招生数据分析项目/回归分析/分年汇总/录取汇总信息2018.xls\"\n",
    "df_luqu_2018 = pd.read_excel(file16)"
   ]
  },
  {
   "cell_type": "code",
   "execution_count": null,
   "metadata": {},
   "outputs": [],
   "source": [
    "time_start = time.time()\n",
    "for i in range(len(df_baoming_2018)):\n",
    "    for j in range(len(df_hege_2018)):\n",
    "        if df_baoming_2018.iloc[i,7] == df_hege_2018.iloc[j,9]: # 专业考试准考证号相同\n",
    "            df_baoming_2018.iloc[i,19] = df_hege_2018.iloc[j,5] # 毕业中学所在省\n",
    "            df_baoming_2018.iloc[i,20] = df_hege_2018.iloc[j,6] # 毕业中学类别\n",
    "            df_baoming_2018.iloc[i,26] = df_hege_2018.iloc[j,19] # 户籍所在市\n",
    "            df_baoming_2018.iloc[i,27] = df_hege_2018.iloc[j,20] # 户籍所在县\n",
    "            df_baoming_2018.iloc[i,28] = df_hege_2018.iloc[j,7] # 专业成绩\n",
    "            df_baoming_2018.iloc[i,29] = df_hege_2018.iloc[j,27] # 考试科目\n",
    "\n",
    "time_end = time.time()\n",
    "print('Time cost = %fs' % (time_end - time_start))"
   ]
  },
  {
   "cell_type": "code",
   "execution_count": 64,
   "metadata": {},
   "outputs": [
    {
     "name": "stdout",
     "output_type": "stream",
     "text": [
      "Time cost = 646.794035s\n"
     ]
    }
   ],
   "source": [
    "time_start = time.time()\n",
    "for i in range(len(df_baoming_2018)):\n",
    "    for j in range(len(df_luqu_2018)):\n",
    "        if df_luqu_2018.iloc[j,10] != 0: # 专业考试准考证号不为0\n",
    "            if df_baoming_2018.iloc[i,7] == int(df_luqu_2018.iloc[j,10]): # 专业考试准考证号相同\n",
    "                df_baoming_2018.iloc[i,30] = df_luqu_2018.iloc[j,12] # 原专业排名\n",
    "                df_baoming_2018.iloc[i,31] = df_luqu_2018.iloc[j,13] # 现专业排名\n",
    "                df_baoming_2018.iloc[i,32] = df_luqu_2018.iloc[j,14] # 原专业省内排名\n",
    "                df_baoming_2018.iloc[i,33] = df_luqu_2018.iloc[j,15] # 现专业省内排名\n",
    "                df_baoming_2018.iloc[i,34] = df_luqu_2018.iloc[j,16] # 语文\n",
    "                df_baoming_2018.iloc[i,35] = df_luqu_2018.iloc[j,17] # 数学\n",
    "                df_baoming_2018.iloc[i,36] = df_luqu_2018.iloc[j,18] # 英语\n",
    "                df_baoming_2018.iloc[i,37] = df_luqu_2018.iloc[j,19] # 文综\n",
    "                df_baoming_2018.iloc[i,38] = df_luqu_2018.iloc[j,20] # 理综\n",
    "                df_baoming_2018.iloc[i,39] = df_luqu_2018.iloc[j,21] # 附加分\n",
    "                df_baoming_2018.iloc[i,40] = df_luqu_2018.iloc[j,22] # 总成绩\n",
    "                df_baoming_2018.iloc[i,41] = df_luqu_2018.iloc[j,23] # 文化课总成绩比值\n",
    "                df_baoming_2018.iloc[i,42] = df_luqu_2018.iloc[j,24] # 各省一本线\n",
    "                df_baoming_2018.iloc[i,43] = df_luqu_2018.iloc[j,25] # 各省艺术类本科线\n",
    "                df_baoming_2018.iloc[i,44] = df_luqu_2018.iloc[j,26] # 志愿顺序\n",
    "        else:\n",
    "            if float(df_baoming_2018.iloc[i,21]) == df_luqu_2018.iloc[j,2]: # 高考报名号相同\n",
    "                df_baoming_2018.iloc[i,30] = df_luqu_2018.iloc[j,12] # 原专业排名\n",
    "                df_baoming_2018.iloc[i,31] = df_luqu_2018.iloc[j,13] # 现专业排名\n",
    "                df_baoming_2018.iloc[i,32] = df_luqu_2018.iloc[j,14] # 原专业省内排名\n",
    "                df_baoming_2018.iloc[i,33] = df_luqu_2018.iloc[j,15] # 现专业省内排名\n",
    "                df_baoming_2018.iloc[i,34] = df_luqu_2018.iloc[j,16] # 语文\n",
    "                df_baoming_2018.iloc[i,35] = df_luqu_2018.iloc[j,17] # 数学\n",
    "                df_baoming_2018.iloc[i,36] = df_luqu_2018.iloc[j,18] # 英语\n",
    "                df_baoming_2018.iloc[i,37] = df_luqu_2018.iloc[j,19] # 文综\n",
    "                df_baoming_2018.iloc[i,38] = df_luqu_2018.iloc[j,20] # 理综\n",
    "                df_baoming_2018.iloc[i,39] = df_luqu_2018.iloc[j,21] # 附加分\n",
    "                df_baoming_2018.iloc[i,40] = df_luqu_2018.iloc[j,22] # 总成绩\n",
    "                df_baoming_2018.iloc[i,41] = df_luqu_2018.iloc[j,23] # 文化课总成绩比值\n",
    "                df_baoming_2018.iloc[i,42] = df_luqu_2018.iloc[j,24] # 各省一本线\n",
    "                df_baoming_2018.iloc[i,43] = df_luqu_2018.iloc[j,25] # 各省艺术类本科线\n",
    "                df_baoming_2018.iloc[i,44] = df_luqu_2018.iloc[j,26] # 志愿顺序\n",
    "                \n",
    "time_end = time.time()\n",
    "print('Time cost = %fs' % (time_end - time_start))"
   ]
  },
  {
   "cell_type": "code",
   "execution_count": 65,
   "metadata": {},
   "outputs": [],
   "source": [
    "df_baoming_2018.to_excel(r'/Users/ichigo34/Downloads/2.招生数据分析项目/回归分析/招生宣传分析用数据（分离）/录取数据/2018录取_修改版.xls', index = False)"
   ]
  },
  {
   "cell_type": "code",
   "execution_count": null,
   "metadata": {},
   "outputs": [],
   "source": [
    "df_baoming_2018['专业成绩']"
   ]
  },
  {
   "cell_type": "code",
   "execution_count": null,
   "metadata": {},
   "outputs": [],
   "source": [
    "df_baoming_2018['专业成绩'].count()"
   ]
  },
  {
   "cell_type": "code",
   "execution_count": null,
   "metadata": {},
   "outputs": [],
   "source": [
    "df_baoming_2018['专业成绩'].value_counts()"
   ]
  },
  {
   "cell_type": "code",
   "execution_count": 73,
   "metadata": {},
   "outputs": [],
   "source": [
    "file17 = \"/Users/ichigo34/Downloads/2.招生数据分析项目/回归分析/综合信息汇总（填充数据后）.xls\"\n",
    "combine = pd.read_excel(file17)"
   ]
  },
  {
   "cell_type": "code",
   "execution_count": 68,
   "metadata": {},
   "outputs": [],
   "source": [
    "file18 = \"/Users/ichigo34/Downloads/2.招生数据分析项目/回归分析/中学名称、所在省及学校类别.xlsx\"\n",
    "middle_school = pd.read_excel(file18)"
   ]
  },
  {
   "cell_type": "code",
   "execution_count": 74,
   "metadata": {},
   "outputs": [
    {
     "data": {
      "text/plain": [
       "(113681, 45)"
      ]
     },
     "execution_count": 74,
     "metadata": {},
     "output_type": "execute_result"
    }
   ],
   "source": [
    "combine.shape"
   ]
  },
  {
   "cell_type": "code",
   "execution_count": 99,
   "metadata": {},
   "outputs": [
    {
     "data": {
      "text/plain": [
       "0"
      ]
     },
     "execution_count": 99,
     "metadata": {},
     "output_type": "execute_result"
    }
   ],
   "source": [
    "combine.iloc[5,19]"
   ]
  },
  {
   "cell_type": "code",
   "execution_count": 87,
   "metadata": {},
   "outputs": [],
   "source": [
    "combine['毕业中学所在省'].fillna(0, inplace=True)"
   ]
  },
  {
   "cell_type": "code",
   "execution_count": 98,
   "metadata": {},
   "outputs": [],
   "source": [
    "combine['毕业中学类别'].fillna(0, inplace=True)"
   ]
  },
  {
   "cell_type": "code",
   "execution_count": 100,
   "metadata": {},
   "outputs": [
    {
     "name": "stdout",
     "output_type": "stream",
     "text": [
      "Time cost = 20778.316627s\n"
     ]
    }
   ],
   "source": [
    "time_start = time.time()\n",
    "for i in range(len(combine)):\n",
    "    for j in range(len(middle_school)):\n",
    "        if combine.iloc[j,19] == 0: # 毕业中学所在省份为0\n",
    "            if combine.iloc[i,18] == middle_school.iloc[j,0]: # 毕业学校名称相同\n",
    "                combine.iloc[i,19] = middle_school.iloc[j,1] # 毕业学校所在省份\n",
    "                combine.iloc[i,20] = middle_school.iloc[j,2] # 毕业学校类型\n",
    "                \n",
    "time_end = time.time()\n",
    "print('Time cost = %fs' % (time_end - time_start))"
   ]
  },
  {
   "cell_type": "code",
   "execution_count": 101,
   "metadata": {},
   "outputs": [
    {
     "data": {
      "text/plain": [
       "0         北京市\n",
       "1         北京市\n",
       "2           0\n",
       "3           0\n",
       "4           0\n",
       "         ... \n",
       "113676      0\n",
       "113677      0\n",
       "113678      0\n",
       "113679      0\n",
       "113680      0\n",
       "Name: 毕业中学所在省, Length: 113681, dtype: object"
      ]
     },
     "execution_count": 101,
     "metadata": {},
     "output_type": "execute_result"
    }
   ],
   "source": [
    "combine['毕业中学所在省']"
   ]
  },
  {
   "cell_type": "code",
   "execution_count": 105,
   "metadata": {},
   "outputs": [],
   "source": [
    "combine.to_excel(r'/Users/ichigo34/Downloads/2.招生数据分析项目/回归分析/中学修改版.xlsx', index = False)"
   ]
  },
  {
   "cell_type": "code",
   "execution_count": 104,
   "metadata": {},
   "outputs": [],
   "source": [
    "import openpyxl"
   ]
  },
  {
   "cell_type": "code",
   "execution_count": 127,
   "metadata": {},
   "outputs": [],
   "source": [
    "file19 = \"/Users/ichigo34/Downloads/2.招生数据分析项目/回归分析/分年汇总/汇总版/合格汇总信息.xls\"\n",
    "hege_total = pd.read_excel(file19)"
   ]
  },
  {
   "cell_type": "code",
   "execution_count": 110,
   "metadata": {},
   "outputs": [
    {
     "data": {
      "text/plain": [
       "Index(['招生年度', '报名类型', '考生号', '性别', '毕业中学名称', '毕业中学所在省', '毕业中学类别', '专业成绩',\n",
       "       '专业名次', '准考证号', '分省排名', '高考所在省', '高考所在市', '高考所在县', '院系名称', '专业名称',\n",
       "       '专业方向名称', '出生日期', '户籍所在省', '户籍所在市', '户籍所在县', '高考类别', '考生类别', '政治面貌',\n",
       "       '民族', '考生性质', '文化程度', '考试科目'],\n",
       "      dtype='object')"
      ]
     },
     "execution_count": 110,
     "metadata": {},
     "output_type": "execute_result"
    }
   ],
   "source": [
    "hege_total.columns"
   ]
  },
  {
   "cell_type": "code",
   "execution_count": 136,
   "metadata": {},
   "outputs": [],
   "source": [
    "hege_total['分省排名'] = hege_total.groupby(['招生年度','专业方向名称','高考所在省'])['专业成绩'].rank(ascending=False,method='dense')"
   ]
  },
  {
   "cell_type": "code",
   "execution_count": 134,
   "metadata": {},
   "outputs": [],
   "source": [
    "hege_total['专业名次'] = hege_total.groupby(['招生年度','专业方向名称'])['专业成绩'].rank(ascending=False,method='dense')"
   ]
  },
  {
   "cell_type": "code",
   "execution_count": 135,
   "metadata": {},
   "outputs": [
    {
     "data": {
      "text/plain": [
       "0        1.0\n",
       "1        2.0\n",
       "2        3.0\n",
       "3        4.0\n",
       "4        5.0\n",
       "        ... \n",
       "3935    31.0\n",
       "3936    32.0\n",
       "3937    32.0\n",
       "3938    33.0\n",
       "3939    33.0\n",
       "Name: 专业名次, Length: 3940, dtype: float64"
      ]
     },
     "execution_count": 135,
     "metadata": {},
     "output_type": "execute_result"
    }
   ],
   "source": [
    "hege_total['专业名次']"
   ]
  },
  {
   "cell_type": "code",
   "execution_count": 137,
   "metadata": {},
   "outputs": [
    {
     "data": {
      "text/plain": [
       "0       1.0\n",
       "1       2.0\n",
       "2       1.0\n",
       "3       3.0\n",
       "4       1.0\n",
       "       ... \n",
       "3935    4.0\n",
       "3936    4.0\n",
       "3937    6.0\n",
       "3938    2.0\n",
       "3939    6.0\n",
       "Name: 分省排名, Length: 3940, dtype: float64"
      ]
     },
     "execution_count": 137,
     "metadata": {},
     "output_type": "execute_result"
    }
   ],
   "source": [
    "hege_total['分省排名']"
   ]
  },
  {
   "cell_type": "code",
   "execution_count": 138,
   "metadata": {},
   "outputs": [],
   "source": [
    "hege_total.to_excel(r'/Users/ichigo34/Downloads/2.招生数据分析项目/回归分析/合格修改版.xlsx', index = False)"
   ]
  },
  {
   "cell_type": "code",
   "execution_count": 142,
   "metadata": {},
   "outputs": [],
   "source": [
    "file20 = \"/Users/ichigo34/Downloads/2.招生数据分析项目/回归分析/分年汇总/汇总版/合格汇总信息.xls\"\n",
    "hege_total = pd.read_excel(file20)"
   ]
  },
  {
   "cell_type": "code",
   "execution_count": 141,
   "metadata": {},
   "outputs": [],
   "source": [
    "file21 = \"/Users/ichigo34/Downloads/2.招生数据分析项目/回归分析/无合格排名的数据.xlsx\"\n",
    "no_rank = pd.read_excel(file21)"
   ]
  },
  {
   "cell_type": "code",
   "execution_count": 143,
   "metadata": {
    "scrolled": true
   },
   "outputs": [
    {
     "data": {
      "text/plain": [
       "<bound method NDFrame.head of       招生年度  报名类型             考生号 性别          毕业中学名称 毕业中学所在省 毕业中学类别   专业成绩  \\\n",
       "0     2016  全国统招  16110102112985  女      北京师范大学附属中学     北京市   示范高中  90.41   \n",
       "1     2016  全国统招  16110108113215  女  北京舞蹈学院附属中等舞蹈学校     北京市   附属中学  76.89   \n",
       "2     2016  全国统招  16339916183075  女         宁波市外事学校     浙江省   职业高中  75.62   \n",
       "3     2016  全国统招  16110108113044  男  北京舞蹈学院附属中等舞蹈学校     北京市   附属中学  73.67   \n",
       "4     2016  全国统招  16420281170096  男         大冶市大冶一中     湖北省   普通高中  73.59   \n",
       "...    ...   ...             ... ..             ...     ...    ...    ...   \n",
       "3935  2018  全国统招  18500105131812  女       重庆市育才成功学校     重庆市   普通高中  71.60   \n",
       "3936  2018  全国统招  18339303130135  女            东沙中学     浙江省   普通高中  71.30   \n",
       "3937  2018  全国统招  18510101170047  女        成都市盐道街中学     四川省   示范高中  71.30   \n",
       "3938  2018  全国统招       304590080  女         红岭中学高中部     广东省   示范高中  71.00   \n",
       "3939  2018  全国统招  18411419159089  女         河南省淮阳中学     河南省   普通高中  71.00   \n",
       "\n",
       "      专业名次             准考证号  ...  户籍所在省 户籍所在市 户籍所在县  高考类别  考生类别         政治面貌  \\\n",
       "0        1   16110103040570  ...    北京市   市辖区   丰台区    文科  城市应届  中国共产主义青年团团员   \n",
       "1        2   16110103042798  ...    北京市   市辖区   海淀区    文科  城市应届  中国共产主义青年团团员   \n",
       "2        3   16110103042242  ...    浙江省   宁波市   鄞州区    文科  城市应届    中国共产党预备党员   \n",
       "3        4   16110103045420  ...    北京市   市辖区   海淀区    文科  城市应届  中国共产主义青年团团员   \n",
       "4        5   16110103042559  ...    湖北省   黄石市   大冶市    理科  城市往届  中国共产主义青年团团员   \n",
       "...    ...              ...  ...    ...   ...   ...   ...   ...          ...   \n",
       "3935    31  181101142300626  ...    重庆市   市辖区   渝北区    文科  城市应届  中国共产主义青年团团员   \n",
       "3936    32  181102142300026  ...    浙江省   舟山市   岱山县  不分文理  城市应届  中国共产主义青年团团员   \n",
       "3937    32  181104142300080  ...    四川省   成都市   青羊区    理科  城市应届  中国共产主义青年团团员   \n",
       "3938    33  181101142300029  ...    江西省   上饶市   信州区    理科  城市应届  中国共产主义青年团团员   \n",
       "3939    33  181101142300723  ...    河南省   周口市   淮阳县    理科  城市应届  中国共产主义青年团团员   \n",
       "\n",
       "        民族 考生性质 文化程度                    考试科目  \n",
       "0       满族   学生   高中  朗诵；朗诵与才艺展示；声乐、形体、台词与表演  \n",
       "1       汉族   学生   中专  朗诵；朗诵与才艺展示；声乐、形体、台词与表演  \n",
       "2     达斡尔族   学生   高中  朗诵；朗诵与才艺展示；声乐、形体、台词与表演  \n",
       "3       汉族   学生   高中  朗诵；朗诵与才艺展示；声乐、形体、台词与表演  \n",
       "4       汉族   学生   高中  朗诵；朗诵与才艺展示；声乐、形体、台词与表演  \n",
       "...    ...  ...  ...                     ...  \n",
       "3935    汉族   学生   高中                 初试:命题创作  \n",
       "3936    汉族   学生   高中                 初试:命题创作  \n",
       "3937    汉族   学生   高中                 初试:命题创作  \n",
       "3938    汉族   学生   高中                 初试:命题创作  \n",
       "3939    汉族   学生   高中                 初试:命题创作  \n",
       "\n",
       "[3940 rows x 28 columns]>"
      ]
     },
     "execution_count": 143,
     "metadata": {},
     "output_type": "execute_result"
    }
   ],
   "source": [
    "hege_total.head"
   ]
  },
  {
   "cell_type": "code",
   "execution_count": 144,
   "metadata": {
    "scrolled": true
   },
   "outputs": [
    {
     "data": {
      "text/plain": [
       "<bound method NDFrame.head of       招生年度  报名类型 性别      院系       专业             专业方向  考点             准考证号  \\\n",
       "0     2016  全国统招  男   影视技术系  影视摄影与制作  影视摄影与制作（数字电影技术）  北京   16110111220088   \n",
       "1     2016  全国统招  男     文学系   戏剧影视文学       戏剧影视文学（剧作）  北京   16110101020025   \n",
       "2     2016  全国统招  男   影视技术系  影视摄影与制作  影视摄影与制作（数字电影技术）  北京   16110111220517   \n",
       "3     2016  全国统招  女    动画学院       动画               动画  杭州   16110209190064   \n",
       "4     2016  全国统招  女    动画学院       动画               动画  北京   16110109190080   \n",
       "...    ...   ... ..     ...      ...              ...  ..              ...   \n",
       "3935  2018  全国统招  女    动画学院       漫画               漫画  北京  181101091700776   \n",
       "3936  2018  全国统招  女    管理学院      电影学       电影学（制片与市场）  北京  181101071400926   \n",
       "3937  2018  全国统招  女    摄影学院       摄影               摄影  北京  181101081501013   \n",
       "3938  2018  全国统招  女    表演学院       表演               表演  北京  181101030403221   \n",
       "3939  2018  全国统招  男  视听传媒学院   广播电视编导           广播电视编导  北京  181101132200754   \n",
       "\n",
       "     是否往报        出生日期  ...     数学     英语     文综     理综  附加分    总成绩  \\\n",
       "0       是  1998-03-18  ...    NaN    NaN    NaN    NaN  NaN    NaN   \n",
       "1       是  1997-02-14  ...   68.0   80.0  213.0    NaN  0.0  457.0   \n",
       "2       是  1997-05-11  ...    NaN    NaN    NaN    NaN  NaN    NaN   \n",
       "3       是  1998-03-21  ...   46.0  112.0  176.0    NaN  0.0  429.0   \n",
       "4       是  1997-10-10  ...    NaN    NaN    NaN    NaN  NaN    NaN   \n",
       "...   ...         ...  ...    ...    ...    ...    ...  ...    ...   \n",
       "3935    是  1999-11-13  ...    NaN    NaN    NaN    NaN  NaN    NaN   \n",
       "3936    是  1999-11-14  ...  137.0  128.0  231.0    NaN  0.0  608.0   \n",
       "3937    是  1999-02-04  ...  106.0  109.0    NaN  139.0  0.0  461.0   \n",
       "3938    是  1999-03-19  ...    NaN    NaN    NaN    NaN  NaN    NaN   \n",
       "3939    是  2000-10-13  ...    NaN    NaN    NaN    NaN  NaN    NaN   \n",
       "\n",
       "     文化课总成绩比值（含附加分）  各省一本线 各省艺术类本科线 志愿顺序  \n",
       "0               NaN    NaN      NaN  NaN  \n",
       "1          0.877159  521.0    338.0    1  \n",
       "2               NaN    NaN      NaN  NaN  \n",
       "3          0.834630  514.0    280.0    1  \n",
       "4               NaN    NaN      NaN  NaN  \n",
       "...             ...    ...      ...  ...  \n",
       "3935            NaN    NaN      NaN  NaN  \n",
       "3936       1.055556  576.0    340.0    1  \n",
       "3937       0.891683  517.0    239.0    1  \n",
       "3938            NaN    NaN      NaN  NaN  \n",
       "3939            NaN    NaN      NaN  NaN  \n",
       "\n",
       "[3940 rows x 45 columns]>"
      ]
     },
     "execution_count": 144,
     "metadata": {},
     "output_type": "execute_result"
    }
   ],
   "source": [
    "no_rank.head"
   ]
  },
  {
   "cell_type": "code",
   "execution_count": 145,
   "metadata": {},
   "outputs": [
    {
     "name": "stdout",
     "output_type": "stream",
     "text": [
      "Time cost = 334.486022s\n"
     ]
    }
   ],
   "source": [
    "time_start = time.time()\n",
    "for i in range(len(no_rank)):\n",
    "    for j in range(len(hege_total)):\n",
    "        if hege_total.iloc[j,0] == no_rank.iloc[i,0] and hege_total.iloc[j,9] == no_rank.iloc[i,7] and hege_total.iloc[j,16] == no_rank.iloc[i,5]: # 年份、准考号、报考方向一致\n",
    "            no_rank.iloc[i,30] = hege_total.iloc[j,8] # 原专业排名\n",
    "            no_rank.iloc[i,32] = hege_total.iloc[j,10] # 原专业省内排名\n",
    "                \n",
    "time_end = time.time()\n",
    "print('Time cost = %fs' % (time_end - time_start))"
   ]
  },
  {
   "cell_type": "code",
   "execution_count": 146,
   "metadata": {},
   "outputs": [],
   "source": [
    "no_rank.to_excel(r'/Users/ichigo34/Downloads/2.招生数据分析项目/回归分析/最终数据修改版.xlsx', index = False)"
   ]
  },
  {
   "cell_type": "code",
   "execution_count": 4,
   "metadata": {},
   "outputs": [],
   "source": [
    "file22 = \"/home/centos/Documents/admission_analysis/无中学类别的数据.xlsx\"\n",
    "combine = pd.read_excel(file22)"
   ]
  },
  {
   "cell_type": "code",
   "execution_count": 5,
   "metadata": {},
   "outputs": [
    {
     "data": {
      "text/html": [
       "<div>\n",
       "<style scoped>\n",
       "    .dataframe tbody tr th:only-of-type {\n",
       "        vertical-align: middle;\n",
       "    }\n",
       "\n",
       "    .dataframe tbody tr th {\n",
       "        vertical-align: top;\n",
       "    }\n",
       "\n",
       "    .dataframe thead th {\n",
       "        text-align: right;\n",
       "    }\n",
       "</style>\n",
       "<table border=\"1\" class=\"dataframe\">\n",
       "  <thead>\n",
       "    <tr style=\"text-align: right;\">\n",
       "      <th></th>\n",
       "      <th>1</th>\n",
       "      <th>招生年度</th>\n",
       "      <th>性别</th>\n",
       "      <th>院系</th>\n",
       "      <th>专业</th>\n",
       "      <th>专业方向</th>\n",
       "      <th>考点</th>\n",
       "      <th>准考证号</th>\n",
       "      <th>是否往报</th>\n",
       "      <th>出生日期</th>\n",
       "      <th>...</th>\n",
       "      <th>数学</th>\n",
       "      <th>英语</th>\n",
       "      <th>文综</th>\n",
       "      <th>理综</th>\n",
       "      <th>附加分</th>\n",
       "      <th>总成绩</th>\n",
       "      <th>文化课总成绩比值（含附加分）</th>\n",
       "      <th>各省一本线</th>\n",
       "      <th>各省艺术类本科线</th>\n",
       "      <th>志愿顺序</th>\n",
       "    </tr>\n",
       "  </thead>\n",
       "  <tbody>\n",
       "    <tr>\n",
       "      <th>0</th>\n",
       "      <td>4</td>\n",
       "      <td>2016</td>\n",
       "      <td>男</td>\n",
       "      <td>动画学院</td>\n",
       "      <td>动画</td>\n",
       "      <td>动画</td>\n",
       "      <td>北京</td>\n",
       "      <td>1.611011e+13</td>\n",
       "      <td>是</td>\n",
       "      <td>1998-07-14</td>\n",
       "      <td>...</td>\n",
       "      <td>NaN</td>\n",
       "      <td>NaN</td>\n",
       "      <td>NaN</td>\n",
       "      <td>NaN</td>\n",
       "      <td>NaN</td>\n",
       "      <td>NaN</td>\n",
       "      <td>NaN</td>\n",
       "      <td>NaN</td>\n",
       "      <td>NaN</td>\n",
       "      <td>NaN</td>\n",
       "    </tr>\n",
       "    <tr>\n",
       "      <th>1</th>\n",
       "      <td>5</td>\n",
       "      <td>2016</td>\n",
       "      <td>男</td>\n",
       "      <td>动画学院</td>\n",
       "      <td>戏剧影视文学</td>\n",
       "      <td>戏剧影视文学（动漫策划）</td>\n",
       "      <td>北京</td>\n",
       "      <td>1.611011e+13</td>\n",
       "      <td>是</td>\n",
       "      <td>1994-05-16</td>\n",
       "      <td>...</td>\n",
       "      <td>NaN</td>\n",
       "      <td>NaN</td>\n",
       "      <td>NaN</td>\n",
       "      <td>NaN</td>\n",
       "      <td>NaN</td>\n",
       "      <td>NaN</td>\n",
       "      <td>NaN</td>\n",
       "      <td>NaN</td>\n",
       "      <td>NaN</td>\n",
       "      <td>NaN</td>\n",
       "    </tr>\n",
       "    <tr>\n",
       "      <th>2</th>\n",
       "      <td>6</td>\n",
       "      <td>2016</td>\n",
       "      <td>男</td>\n",
       "      <td>管理学院</td>\n",
       "      <td>电影学</td>\n",
       "      <td>电影学（制片与市场）</td>\n",
       "      <td>北京</td>\n",
       "      <td>1.611011e+13</td>\n",
       "      <td>是</td>\n",
       "      <td>1994-05-16</td>\n",
       "      <td>...</td>\n",
       "      <td>NaN</td>\n",
       "      <td>NaN</td>\n",
       "      <td>NaN</td>\n",
       "      <td>NaN</td>\n",
       "      <td>NaN</td>\n",
       "      <td>NaN</td>\n",
       "      <td>NaN</td>\n",
       "      <td>NaN</td>\n",
       "      <td>NaN</td>\n",
       "      <td>NaN</td>\n",
       "    </tr>\n",
       "    <tr>\n",
       "      <th>3</th>\n",
       "      <td>9</td>\n",
       "      <td>2016</td>\n",
       "      <td>女</td>\n",
       "      <td>表演学院</td>\n",
       "      <td>表演</td>\n",
       "      <td>表演</td>\n",
       "      <td>杭州</td>\n",
       "      <td>1.611020e+13</td>\n",
       "      <td>是</td>\n",
       "      <td>1997-11-14</td>\n",
       "      <td>...</td>\n",
       "      <td>NaN</td>\n",
       "      <td>NaN</td>\n",
       "      <td>NaN</td>\n",
       "      <td>NaN</td>\n",
       "      <td>NaN</td>\n",
       "      <td>NaN</td>\n",
       "      <td>NaN</td>\n",
       "      <td>NaN</td>\n",
       "      <td>NaN</td>\n",
       "      <td>NaN</td>\n",
       "    </tr>\n",
       "    <tr>\n",
       "      <th>4</th>\n",
       "      <td>12</td>\n",
       "      <td>2016</td>\n",
       "      <td>男</td>\n",
       "      <td>美术学院</td>\n",
       "      <td>戏剧影视美术设计</td>\n",
       "      <td>戏剧影视美术设计（人物造型）</td>\n",
       "      <td>北京</td>\n",
       "      <td>1.611011e+13</td>\n",
       "      <td>是</td>\n",
       "      <td>1997-10-06</td>\n",
       "      <td>...</td>\n",
       "      <td>NaN</td>\n",
       "      <td>NaN</td>\n",
       "      <td>NaN</td>\n",
       "      <td>NaN</td>\n",
       "      <td>NaN</td>\n",
       "      <td>NaN</td>\n",
       "      <td>NaN</td>\n",
       "      <td>NaN</td>\n",
       "      <td>NaN</td>\n",
       "      <td>NaN</td>\n",
       "    </tr>\n",
       "  </tbody>\n",
       "</table>\n",
       "<p>5 rows × 43 columns</p>\n",
       "</div>"
      ],
      "text/plain": [
       "    1  招生年度 性别    院系        专业            专业方向  考点          准考证号 是否往报  \\\n",
       "0   4  2016  男  动画学院        动画              动画  北京  1.611011e+13    是   \n",
       "1   5  2016  男  动画学院    戏剧影视文学    戏剧影视文学（动漫策划）  北京  1.611011e+13    是   \n",
       "2   6  2016  男  管理学院       电影学      电影学（制片与市场）  北京  1.611011e+13    是   \n",
       "3   9  2016  女  表演学院        表演              表演  杭州  1.611020e+13    是   \n",
       "4  12  2016  男  美术学院  戏剧影视美术设计  戏剧影视美术设计（人物造型）  北京  1.611011e+13    是   \n",
       "\n",
       "         出生日期  ...  数学  英语  文综  理综  附加分 总成绩 文化课总成绩比值（含附加分）  各省一本线 各省艺术类本科线  \\\n",
       "0  1998-07-14  ... NaN NaN NaN NaN  NaN NaN            NaN    NaN      NaN   \n",
       "1  1994-05-16  ... NaN NaN NaN NaN  NaN NaN            NaN    NaN      NaN   \n",
       "2  1994-05-16  ... NaN NaN NaN NaN  NaN NaN            NaN    NaN      NaN   \n",
       "3  1997-11-14  ... NaN NaN NaN NaN  NaN NaN            NaN    NaN      NaN   \n",
       "4  1997-10-06  ... NaN NaN NaN NaN  NaN NaN            NaN    NaN      NaN   \n",
       "\n",
       "  志愿顺序  \n",
       "0  NaN  \n",
       "1  NaN  \n",
       "2  NaN  \n",
       "3  NaN  \n",
       "4  NaN  \n",
       "\n",
       "[5 rows x 43 columns]"
      ]
     },
     "execution_count": 5,
     "metadata": {},
     "output_type": "execute_result"
    }
   ],
   "source": [
    "combine.head()"
   ]
  },
  {
   "cell_type": "code",
   "execution_count": 6,
   "metadata": {},
   "outputs": [],
   "source": [
    "file23 = \"/home/centos/Documents/admission_analysis/毕业中学类别.xlsx\"\n",
    "shannxi_ms = pd.read_excel(file23,sheet_name = 'Sheet3')"
   ]
  },
  {
   "cell_type": "code",
   "execution_count": 7,
   "metadata": {},
   "outputs": [
    {
     "data": {
      "text/html": [
       "<div>\n",
       "<style scoped>\n",
       "    .dataframe tbody tr th:only-of-type {\n",
       "        vertical-align: middle;\n",
       "    }\n",
       "\n",
       "    .dataframe tbody tr th {\n",
       "        vertical-align: top;\n",
       "    }\n",
       "\n",
       "    .dataframe thead th {\n",
       "        text-align: right;\n",
       "    }\n",
       "</style>\n",
       "<table border=\"1\" class=\"dataframe\">\n",
       "  <thead>\n",
       "    <tr style=\"text-align: right;\">\n",
       "      <th></th>\n",
       "      <th>学校名称</th>\n",
       "    </tr>\n",
       "  </thead>\n",
       "  <tbody>\n",
       "    <tr>\n",
       "      <th>0</th>\n",
       "      <td>陕西省西安中学</td>\n",
       "    </tr>\n",
       "    <tr>\n",
       "      <th>1</th>\n",
       "      <td>西安市第八十三中学</td>\n",
       "    </tr>\n",
       "    <tr>\n",
       "      <th>2</th>\n",
       "      <td>西安高级中学</td>\n",
       "    </tr>\n",
       "    <tr>\n",
       "      <th>3</th>\n",
       "      <td>西安市育才中学</td>\n",
       "    </tr>\n",
       "    <tr>\n",
       "      <th>4</th>\n",
       "      <td>西安市第八十九中学</td>\n",
       "    </tr>\n",
       "  </tbody>\n",
       "</table>\n",
       "</div>"
      ],
      "text/plain": [
       "        学校名称\n",
       "0    陕西省西安中学\n",
       "1  西安市第八十三中学\n",
       "2     西安高级中学\n",
       "3    西安市育才中学\n",
       "4  西安市第八十九中学"
      ]
     },
     "execution_count": 7,
     "metadata": {},
     "output_type": "execute_result"
    }
   ],
   "source": [
    "shannxi_ms.head()"
   ]
  },
  {
   "cell_type": "code",
   "execution_count": 8,
   "metadata": {},
   "outputs": [],
   "source": [
    "ls = list(shannxi_ms['学校名称'])"
   ]
  },
  {
   "cell_type": "code",
   "execution_count": 9,
   "metadata": {},
   "outputs": [
    {
     "data": {
      "text/plain": [
       "'陕西省西安中学'"
      ]
     },
     "execution_count": 9,
     "metadata": {},
     "output_type": "execute_result"
    }
   ],
   "source": [
    "ls[0]"
   ]
  },
  {
   "cell_type": "code",
   "execution_count": 10,
   "metadata": {},
   "outputs": [],
   "source": [
    "# -*- coding: utf-8 -*-  "
   ]
  },
  {
   "cell_type": "code",
   "execution_count": 12,
   "metadata": {},
   "outputs": [],
   "source": [
    "ls1 = list(combine['毕业中学名称'])"
   ]
  },
  {
   "cell_type": "code",
   "execution_count": 15,
   "metadata": {},
   "outputs": [
    {
     "data": {
      "text/plain": [
       "86547"
      ]
     },
     "execution_count": 15,
     "metadata": {},
     "output_type": "execute_result"
    }
   ],
   "source": [
    "len(ls1)"
   ]
  },
  {
   "cell_type": "code",
   "execution_count": 16,
   "metadata": {},
   "outputs": [
    {
     "data": {
      "text/plain": [
       "'陕西省西安中学'"
      ]
     },
     "execution_count": 16,
     "metadata": {},
     "output_type": "execute_result"
    }
   ],
   "source": [
    "shannxi_ms.iloc[0,0]"
   ]
  },
  {
   "cell_type": "code",
   "execution_count": 17,
   "metadata": {},
   "outputs": [
    {
     "data": {
      "text/plain": [
       "'哈市八中'"
      ]
     },
     "execution_count": 17,
     "metadata": {},
     "output_type": "execute_result"
    }
   ],
   "source": [
    "combine.iloc[0,18]"
   ]
  },
  {
   "cell_type": "code",
   "execution_count": 18,
   "metadata": {},
   "outputs": [
    {
     "data": {
      "text/plain": [
       "0"
      ]
     },
     "execution_count": 18,
     "metadata": {},
     "output_type": "execute_result"
    }
   ],
   "source": [
    "combine.iloc[0,20]"
   ]
  },
  {
   "cell_type": "code",
   "execution_count": 21,
   "metadata": {},
   "outputs": [],
   "source": [
    "import time"
   ]
  },
  {
   "cell_type": "code",
   "execution_count": 49,
   "metadata": {},
   "outputs": [
    {
     "name": "stdout",
     "output_type": "stream",
     "text": [
      "Time cost = 415.431082s\n"
     ]
    }
   ],
   "source": [
    "time_start = time.time()\n",
    "for i in range(len(combine)):\n",
    "    for j in range(len(shannxi_ms)):\n",
    "        if shannxi_ms.iloc[j,0] == combine.iloc[i,18]:\n",
    "            combine.iloc[i,19] = \"陕西省\"\n",
    "            #combine.iloc[i,20] = \"示范高中\" # 中学类别\n",
    "                \n",
    "time_end = time.time()\n",
    "print('Time cost = %fs' % (time_end - time_start))"
   ]
  },
  {
   "cell_type": "code",
   "execution_count": 28,
   "metadata": {},
   "outputs": [
    {
     "data": {
      "text/plain": [
       "0       86185\n",
       "示范高中      362\n",
       "Name: 毕业中学类别, dtype: int64"
      ]
     },
     "execution_count": 28,
     "metadata": {},
     "output_type": "execute_result"
    }
   ],
   "source": [
    "combine['毕业中学类别'].value_counts()"
   ]
  },
  {
   "cell_type": "code",
   "execution_count": 29,
   "metadata": {},
   "outputs": [],
   "source": [
    "file24 = \"/home/centos/Documents/admission_analysis/毕业中学类别.xlsx\"\n",
    "beijing_ms = pd.read_excel(file24,sheet_name = '北京市')"
   ]
  },
  {
   "cell_type": "code",
   "execution_count": 48,
   "metadata": {},
   "outputs": [
    {
     "name": "stdout",
     "output_type": "stream",
     "text": [
      "Time cost = 302.359559s\n"
     ]
    }
   ],
   "source": [
    "time_start = time.time()\n",
    "for i in range(len(combine)):\n",
    "    for j in range(len(beijing_ms)):\n",
    "        if beijing_ms.iloc[j,0] == combine.iloc[i,18]:\n",
    "            combine.iloc[i,19] = \"北京市\"\n",
    "            #combine.iloc[i,20] = \"示范高中\" # 中学类别\n",
    "                \n",
    "time_end = time.time()\n",
    "print('Time cost = %fs' % (time_end - time_start))"
   ]
  },
  {
   "cell_type": "code",
   "execution_count": 32,
   "metadata": {},
   "outputs": [],
   "source": [
    "file25 = \"/home/centos/Documents/admission_analysis/毕业中学类别.xlsx\"\n",
    "tj_zz = pd.read_excel(file25,sheet_name = '天津中职')"
   ]
  },
  {
   "cell_type": "code",
   "execution_count": 47,
   "metadata": {},
   "outputs": [
    {
     "name": "stdout",
     "output_type": "stream",
     "text": [
      "Time cost = 307.964877s\n"
     ]
    }
   ],
   "source": [
    "time_start = time.time()\n",
    "for i in range(len(combine)):\n",
    "    for j in range(len(tj_zz)):\n",
    "        if tj_zz.iloc[j,0] == combine.iloc[i,18]:\n",
    "            combine.iloc[i,19] = \"天津市\"\n",
    "            #combine.iloc[i,20] = \"中职学校\" # 中学类别\n",
    "                \n",
    "time_end = time.time()\n",
    "print('Time cost = %fs' % (time_end - time_start))"
   ]
  },
  {
   "cell_type": "code",
   "execution_count": 34,
   "metadata": {},
   "outputs": [
    {
     "data": {
      "text/plain": [
       "0       85810\n",
       "示范高中      711\n",
       "中职学校       26\n",
       "Name: 毕业中学类别, dtype: int64"
      ]
     },
     "execution_count": 34,
     "metadata": {},
     "output_type": "execute_result"
    }
   ],
   "source": [
    "combine['毕业中学类别'].value_counts()"
   ]
  },
  {
   "cell_type": "code",
   "execution_count": 36,
   "metadata": {},
   "outputs": [],
   "source": [
    "file26 = \"/home/centos/Documents/admission_analysis/毕业中学类别.xlsx\"\n",
    "tj_sf = pd.read_excel(file26,sheet_name = '天津示范')"
   ]
  },
  {
   "cell_type": "code",
   "execution_count": 46,
   "metadata": {},
   "outputs": [
    {
     "name": "stdout",
     "output_type": "stream",
     "text": [
      "Time cost = 118.616512s\n"
     ]
    }
   ],
   "source": [
    "time_start = time.time()\n",
    "for i in range(len(combine)):\n",
    "    for j in range(len(tj_sf)):\n",
    "        if tj_sf.iloc[j,0] == combine.iloc[i,18]:\n",
    "            combine.iloc[i,19] = \"天津市\"\n",
    "            #combine.iloc[i,20] = \"示范高中\" # 中学类别\n",
    "                \n",
    "time_end = time.time()\n",
    "print('Time cost = %fs' % (time_end - time_start))"
   ]
  },
  {
   "cell_type": "code",
   "execution_count": 38,
   "metadata": {},
   "outputs": [
    {
     "data": {
      "text/plain": [
       "0       85670\n",
       "示范高中      851\n",
       "中职学校       26\n",
       "Name: 毕业中学类别, dtype: int64"
      ]
     },
     "execution_count": 38,
     "metadata": {},
     "output_type": "execute_result"
    }
   ],
   "source": [
    "combine['毕业中学类别'].value_counts()"
   ]
  },
  {
   "cell_type": "code",
   "execution_count": 39,
   "metadata": {},
   "outputs": [],
   "source": [
    "file27 = \"/home/centos/Documents/admission_analysis/毕业中学类别.xlsx\"\n",
    "sh_sf = pd.read_excel(file27,sheet_name = '上海示范')"
   ]
  },
  {
   "cell_type": "code",
   "execution_count": 45,
   "metadata": {},
   "outputs": [
    {
     "name": "stdout",
     "output_type": "stream",
     "text": [
      "Time cost = 277.103615s\n"
     ]
    }
   ],
   "source": [
    "time_start = time.time()\n",
    "for i in range(len(combine)):\n",
    "    for j in range(len(sh_sf)):\n",
    "        if sh_sf.iloc[j,0] == combine.iloc[i,18]:\n",
    "            combine.iloc[i,19] = \"上海市\"\n",
    "            #combine.iloc[i,20] = \"示范高中\" # 中学类别\n",
    "                \n",
    "time_end = time.time()\n",
    "print('Time cost = %fs' % (time_end - time_start))"
   ]
  },
  {
   "cell_type": "code",
   "execution_count": 41,
   "metadata": {},
   "outputs": [
    {
     "data": {
      "text/plain": [
       "0       85662\n",
       "示范高中      859\n",
       "中职学校       26\n",
       "Name: 毕业中学类别, dtype: int64"
      ]
     },
     "execution_count": 41,
     "metadata": {},
     "output_type": "execute_result"
    }
   ],
   "source": [
    "combine['毕业中学类别'].value_counts()"
   ]
  },
  {
   "cell_type": "code",
   "execution_count": 42,
   "metadata": {},
   "outputs": [],
   "source": [
    "file28 = \"/home/centos/Documents/admission_analysis/毕业中学类别.xlsx\"\n",
    "snx_pg = pd.read_excel(file28,sheet_name = '陕西普高')"
   ]
  },
  {
   "cell_type": "code",
   "execution_count": 43,
   "metadata": {},
   "outputs": [
    {
     "name": "stdout",
     "output_type": "stream",
     "text": [
      "Time cost = 1234.874190s\n"
     ]
    }
   ],
   "source": [
    "time_start = time.time()\n",
    "for i in range(len(combine)):\n",
    "    for j in range(len(snx_pg)):\n",
    "        if snx_pg.iloc[j,0] == combine.iloc[i,18]:\n",
    "            combine.iloc[i,19] = \"陕西省\"\n",
    "            combine.iloc[i,20] = \"普通高中\" # 中学类别\n",
    "                \n",
    "time_end = time.time()\n",
    "print('Time cost = %fs' % (time_end - time_start))"
   ]
  },
  {
   "cell_type": "code",
   "execution_count": 44,
   "metadata": {},
   "outputs": [
    {
     "data": {
      "text/plain": [
       "0       85203\n",
       "示范高中      859\n",
       "普通高中      459\n",
       "中职学校       26\n",
       "Name: 毕业中学类别, dtype: int64"
      ]
     },
     "execution_count": 44,
     "metadata": {},
     "output_type": "execute_result"
    }
   ],
   "source": [
    "combine['毕业中学类别'].value_counts()"
   ]
  },
  {
   "cell_type": "code",
   "execution_count": 57,
   "metadata": {},
   "outputs": [],
   "source": [
    "file29 = \"/home/centos/Documents/admission_analysis/陕西省职业高中名单.xlsx\"\n",
    "snx_zg = pd.read_excel(file29,sheet_name = '职高')"
   ]
  },
  {
   "cell_type": "code",
   "execution_count": 58,
   "metadata": {},
   "outputs": [
    {
     "data": {
      "text/html": [
       "<div>\n",
       "<style scoped>\n",
       "    .dataframe tbody tr th:only-of-type {\n",
       "        vertical-align: middle;\n",
       "    }\n",
       "\n",
       "    .dataframe tbody tr th {\n",
       "        vertical-align: top;\n",
       "    }\n",
       "\n",
       "    .dataframe thead th {\n",
       "        text-align: right;\n",
       "    }\n",
       "</style>\n",
       "<table border=\"1\" class=\"dataframe\">\n",
       "  <thead>\n",
       "    <tr style=\"text-align: right;\">\n",
       "      <th></th>\n",
       "      <th>学校名称</th>\n",
       "    </tr>\n",
       "  </thead>\n",
       "  <tbody>\n",
       "    <tr>\n",
       "      <th>0</th>\n",
       "      <td>西安综合职业中等专业学校</td>\n",
       "    </tr>\n",
       "    <tr>\n",
       "      <th>1</th>\n",
       "      <td>西安市导游礼仪职业学校</td>\n",
       "    </tr>\n",
       "    <tr>\n",
       "      <th>2</th>\n",
       "      <td>西安东方艺术职业学校</td>\n",
       "    </tr>\n",
       "    <tr>\n",
       "      <th>3</th>\n",
       "      <td>西安城市科技职业学校</td>\n",
       "    </tr>\n",
       "    <tr>\n",
       "      <th>4</th>\n",
       "      <td>西安实验职业中等专业学校</td>\n",
       "    </tr>\n",
       "    <tr>\n",
       "      <th>...</th>\n",
       "      <td>...</td>\n",
       "    </tr>\n",
       "    <tr>\n",
       "      <th>159</th>\n",
       "      <td>杨凌中等职业学校</td>\n",
       "    </tr>\n",
       "    <tr>\n",
       "      <th>160</th>\n",
       "      <td>韩城市职业中等专业学校</td>\n",
       "    </tr>\n",
       "    <tr>\n",
       "      <th>161</th>\n",
       "      <td>神木市职业技术教育中心</td>\n",
       "    </tr>\n",
       "    <tr>\n",
       "      <th>162</th>\n",
       "      <td>陕西省府谷职业中等专业学校</td>\n",
       "    </tr>\n",
       "    <tr>\n",
       "      <th>163</th>\n",
       "      <td>陕西国际商贸学院附属中等职业技术学校</td>\n",
       "    </tr>\n",
       "  </tbody>\n",
       "</table>\n",
       "<p>164 rows × 1 columns</p>\n",
       "</div>"
      ],
      "text/plain": [
       "                         学校名称\n",
       "0                西安综合职业中等专业学校\n",
       "1                 西安市导游礼仪职业学校\n",
       "2                  西安东方艺术职业学校\n",
       "3                  西安城市科技职业学校\n",
       "4                西安实验职业中等专业学校\n",
       "..                        ...\n",
       "159                  杨凌中等职业学校\n",
       "160               韩城市职业中等专业学校\n",
       "161               神木市职业技术教育中心\n",
       "162             陕西省府谷职业中等专业学校\n",
       "163        陕西国际商贸学院附属中等职业技术学校\n",
       "\n",
       "[164 rows x 1 columns]"
      ]
     },
     "execution_count": 58,
     "metadata": {},
     "output_type": "execute_result"
    }
   ],
   "source": [
    "snx_zg"
   ]
  },
  {
   "cell_type": "code",
   "execution_count": 59,
   "metadata": {},
   "outputs": [
    {
     "name": "stdout",
     "output_type": "stream",
     "text": [
      "Time cost = 681.248810s\n"
     ]
    }
   ],
   "source": [
    "time_start = time.time()\n",
    "for i in range(len(combine)):\n",
    "    for j in range(len(snx_zg)):\n",
    "        if snx_zg.iloc[j,0] == combine.iloc[i,18]:\n",
    "            combine.iloc[i,19] = \"陕西省\"\n",
    "            combine.iloc[i,20] = \"职业高中\" # 中学类别\n",
    "                \n",
    "time_end = time.time()\n",
    "print('Time cost = %fs' % (time_end - time_start))"
   ]
  },
  {
   "cell_type": "code",
   "execution_count": 60,
   "metadata": {},
   "outputs": [
    {
     "data": {
      "text/plain": [
       "0       85203\n",
       "示范高中      859\n",
       "普通高中      459\n",
       "中职学校       26\n",
       "Name: 毕业中学类别, dtype: int64"
      ]
     },
     "execution_count": 60,
     "metadata": {},
     "output_type": "execute_result"
    }
   ],
   "source": [
    "combine['毕业中学类别'].value_counts()"
   ]
  },
  {
   "cell_type": "code",
   "execution_count": 61,
   "metadata": {},
   "outputs": [],
   "source": [
    "file30 = \"/home/centos/Documents/admission_analysis/陕西省职业高中名单.xlsx\"\n",
    "snx_zz = pd.read_excel(file30,sheet_name = '中专')"
   ]
  },
  {
   "cell_type": "code",
   "execution_count": 62,
   "metadata": {},
   "outputs": [
    {
     "name": "stdout",
     "output_type": "stream",
     "text": [
      "Time cost = 108.701329s\n"
     ]
    }
   ],
   "source": [
    "time_start = time.time()\n",
    "for i in range(len(combine)):\n",
    "    for j in range(len(snx_zz)):\n",
    "        if snx_zz.iloc[j,0] == combine.iloc[i,18]:\n",
    "            combine.iloc[i,19] = \"陕西省\"\n",
    "            combine.iloc[i,20] = \"中职学校\" # 中学类别\n",
    "                \n",
    "time_end = time.time()\n",
    "print('Time cost = %fs' % (time_end - time_start))"
   ]
  },
  {
   "cell_type": "code",
   "execution_count": 63,
   "metadata": {},
   "outputs": [
    {
     "data": {
      "text/plain": [
       "0       85203\n",
       "示范高中      859\n",
       "普通高中      459\n",
       "中职学校       26\n",
       "Name: 毕业中学类别, dtype: int64"
      ]
     },
     "execution_count": 63,
     "metadata": {},
     "output_type": "execute_result"
    }
   ],
   "source": [
    "combine['毕业中学类别'].value_counts()"
   ]
  },
  {
   "cell_type": "code",
   "execution_count": 55,
   "metadata": {},
   "outputs": [
    {
     "data": {
      "text/plain": [
       "0       85203\n",
       "示范高中      859\n",
       "普通高中      459\n",
       "中职学校       26\n",
       "Name: 毕业中学类别, dtype: int64"
      ]
     },
     "execution_count": 55,
     "metadata": {},
     "output_type": "execute_result"
    }
   ],
   "source": [
    "combine['毕业中学类别'].value_counts()"
   ]
  },
  {
   "cell_type": "code",
   "execution_count": 66,
   "metadata": {},
   "outputs": [],
   "source": [
    "file31 = \"/home/centos/Documents/admission_analysis/毕业中学类别.xlsx\"\n",
    "tj_pg = pd.read_excel(file31,sheet_name = '天津普高')"
   ]
  },
  {
   "cell_type": "code",
   "execution_count": 67,
   "metadata": {},
   "outputs": [
    {
     "name": "stdout",
     "output_type": "stream",
     "text": [
      "Time cost = 668.199563s\n"
     ]
    }
   ],
   "source": [
    "time_start = time.time()\n",
    "for i in range(len(combine)):\n",
    "    for j in range(len(tj_pg)):\n",
    "        if tj_pg.iloc[j,0] == combine.iloc[i,18]:\n",
    "            combine.iloc[i,19] = \"天津市\"\n",
    "            combine.iloc[i,20] = \"普通高中\" # 中学类别\n",
    "                \n",
    "time_end = time.time()\n",
    "print('Time cost = %fs' % (time_end - time_start))"
   ]
  },
  {
   "cell_type": "code",
   "execution_count": 68,
   "metadata": {},
   "outputs": [
    {
     "data": {
      "text/plain": [
       "0       84862\n",
       "示范高中      859\n",
       "普通高中      800\n",
       "中职学校       26\n",
       "Name: 毕业中学类别, dtype: int64"
      ]
     },
     "execution_count": 68,
     "metadata": {},
     "output_type": "execute_result"
    }
   ],
   "source": [
    "combine['毕业中学类别'].value_counts()"
   ]
  },
  {
   "cell_type": "code",
   "execution_count": 69,
   "metadata": {},
   "outputs": [],
   "source": [
    "file32 = \"/home/centos/Documents/admission_analysis/毕业中学类别.xlsx\"\n",
    "bj_pg = pd.read_excel(file32,sheet_name = '北京普高')"
   ]
  },
  {
   "cell_type": "code",
   "execution_count": 70,
   "metadata": {},
   "outputs": [
    {
     "data": {
      "text/html": [
       "<div>\n",
       "<style scoped>\n",
       "    .dataframe tbody tr th:only-of-type {\n",
       "        vertical-align: middle;\n",
       "    }\n",
       "\n",
       "    .dataframe tbody tr th {\n",
       "        vertical-align: top;\n",
       "    }\n",
       "\n",
       "    .dataframe thead th {\n",
       "        text-align: right;\n",
       "    }\n",
       "</style>\n",
       "<table border=\"1\" class=\"dataframe\">\n",
       "  <thead>\n",
       "    <tr style=\"text-align: right;\">\n",
       "      <th></th>\n",
       "      <th>学校名称</th>\n",
       "    </tr>\n",
       "  </thead>\n",
       "  <tbody>\n",
       "    <tr>\n",
       "      <th>0</th>\n",
       "      <td>北京市第一中学</td>\n",
       "    </tr>\n",
       "    <tr>\n",
       "      <th>1</th>\n",
       "      <td>北京市第二十一中学</td>\n",
       "    </tr>\n",
       "    <tr>\n",
       "      <th>2</th>\n",
       "      <td>北京市第二十二中学</td>\n",
       "    </tr>\n",
       "    <tr>\n",
       "      <th>3</th>\n",
       "      <td>北京市第二十四中学</td>\n",
       "    </tr>\n",
       "    <tr>\n",
       "      <th>4</th>\n",
       "      <td>北京市第二十五中学</td>\n",
       "    </tr>\n",
       "    <tr>\n",
       "      <th>...</th>\n",
       "      <td>...</td>\n",
       "    </tr>\n",
       "    <tr>\n",
       "      <th>189</th>\n",
       "      <td>北京市平谷区育才中学</td>\n",
       "    </tr>\n",
       "    <tr>\n",
       "      <th>190</th>\n",
       "      <td>北京市延庆区第二中学</td>\n",
       "    </tr>\n",
       "    <tr>\n",
       "      <th>191</th>\n",
       "      <td>北京市延庆区第三中学</td>\n",
       "    </tr>\n",
       "    <tr>\n",
       "      <th>192</th>\n",
       "      <td>北京市延庆区第五中学</td>\n",
       "    </tr>\n",
       "    <tr>\n",
       "      <th>193</th>\n",
       "      <td>北京市密云区新农村中学</td>\n",
       "    </tr>\n",
       "  </tbody>\n",
       "</table>\n",
       "<p>194 rows × 1 columns</p>\n",
       "</div>"
      ],
      "text/plain": [
       "               学校名称\n",
       "0           北京市第一中学\n",
       "1         北京市第二十一中学\n",
       "2         北京市第二十二中学\n",
       "3         北京市第二十四中学\n",
       "4         北京市第二十五中学\n",
       "..              ...\n",
       "189      北京市平谷区育才中学\n",
       "190      北京市延庆区第二中学\n",
       "191  北京市延庆区第三中学    \n",
       "192      北京市延庆区第五中学\n",
       "193     北京市密云区新农村中学\n",
       "\n",
       "[194 rows x 1 columns]"
      ]
     },
     "execution_count": 70,
     "metadata": {},
     "output_type": "execute_result"
    }
   ],
   "source": [
    "bj_pg"
   ]
  },
  {
   "cell_type": "code",
   "execution_count": 72,
   "metadata": {},
   "outputs": [
    {
     "name": "stdout",
     "output_type": "stream",
     "text": [
      "Time cost = 1029.124033s\n"
     ]
    }
   ],
   "source": [
    "time_start = time.time()\n",
    "for i in range(len(combine)):\n",
    "    for j in range(len(bj_pg)):\n",
    "        if combine.iloc[i,20] == 0 and bj_pg.iloc[j,0] == combine.iloc[i,18]:\n",
    "            combine.iloc[i,19] = \"北京市\"\n",
    "            combine.iloc[i,20] = \"普通高中\" # 中学类别\n",
    "                \n",
    "time_end = time.time()\n",
    "print('Time cost = %fs' % (time_end - time_start))"
   ]
  },
  {
   "cell_type": "code",
   "execution_count": 73,
   "metadata": {},
   "outputs": [
    {
     "data": {
      "text/plain": [
       "0       83822\n",
       "普通高中     1840\n",
       "示范高中      859\n",
       "中职学校       26\n",
       "Name: 毕业中学类别, dtype: int64"
      ]
     },
     "execution_count": 73,
     "metadata": {},
     "output_type": "execute_result"
    }
   ],
   "source": [
    "combine['毕业中学类别'].value_counts()"
   ]
  },
  {
   "cell_type": "code",
   "execution_count": 75,
   "metadata": {},
   "outputs": [],
   "source": [
    "file33 = \"/home/centos/Documents/admission_analysis/北京中学类别名单.xlsx\"\n",
    "bj_zz = pd.read_excel(file33,sheet_name = '中专')\n",
    "bj_zg = pd.read_excel(file33,sheet_name = '职高')"
   ]
  },
  {
   "cell_type": "code",
   "execution_count": 76,
   "metadata": {
    "scrolled": true
   },
   "outputs": [
    {
     "data": {
      "text/html": [
       "<div>\n",
       "<style scoped>\n",
       "    .dataframe tbody tr th:only-of-type {\n",
       "        vertical-align: middle;\n",
       "    }\n",
       "\n",
       "    .dataframe tbody tr th {\n",
       "        vertical-align: top;\n",
       "    }\n",
       "\n",
       "    .dataframe thead th {\n",
       "        text-align: right;\n",
       "    }\n",
       "</style>\n",
       "<table border=\"1\" class=\"dataframe\">\n",
       "  <thead>\n",
       "    <tr style=\"text-align: right;\">\n",
       "      <th></th>\n",
       "      <th>学校名称</th>\n",
       "    </tr>\n",
       "  </thead>\n",
       "  <tbody>\n",
       "    <tr>\n",
       "      <th>0</th>\n",
       "      <td>北京水利水电学校</td>\n",
       "    </tr>\n",
       "    <tr>\n",
       "      <th>1</th>\n",
       "      <td>北京交通运输职业学院中专部</td>\n",
       "    </tr>\n",
       "    <tr>\n",
       "      <th>2</th>\n",
       "      <td>北京市自动化工程学校</td>\n",
       "    </tr>\n",
       "    <tr>\n",
       "      <th>3</th>\n",
       "      <td>北京市经济管理学校</td>\n",
       "    </tr>\n",
       "    <tr>\n",
       "      <th>4</th>\n",
       "      <td>北京市园林学校</td>\n",
       "    </tr>\n",
       "    <tr>\n",
       "      <th>5</th>\n",
       "      <td>北京金隅科技学校</td>\n",
       "    </tr>\n",
       "    <tr>\n",
       "      <th>6</th>\n",
       "      <td>北京市对外贸易学校</td>\n",
       "    </tr>\n",
       "    <tr>\n",
       "      <th>7</th>\n",
       "      <td>北京市商业学校</td>\n",
       "    </tr>\n",
       "    <tr>\n",
       "      <th>8</th>\n",
       "      <td>北京商贸学校</td>\n",
       "    </tr>\n",
       "    <tr>\n",
       "      <th>9</th>\n",
       "      <td>北京市供销学校</td>\n",
       "    </tr>\n",
       "    <tr>\n",
       "      <th>10</th>\n",
       "      <td>北京市振华旅游学校</td>\n",
       "    </tr>\n",
       "    <tr>\n",
       "      <th>11</th>\n",
       "      <td>北京铁路电气化学校</td>\n",
       "    </tr>\n",
       "    <tr>\n",
       "      <th>12</th>\n",
       "      <td>首都医科大学附属卫生学校</td>\n",
       "    </tr>\n",
       "    <tr>\n",
       "      <th>13</th>\n",
       "      <td>北京市海淀区卫生学校</td>\n",
       "    </tr>\n",
       "    <tr>\n",
       "      <th>14</th>\n",
       "      <td>北京市昌平卫生学校</td>\n",
       "    </tr>\n",
       "    <tr>\n",
       "      <th>15</th>\n",
       "      <td>北京体育职业学院中专部</td>\n",
       "    </tr>\n",
       "    <tr>\n",
       "      <th>16</th>\n",
       "      <td>北京市什刹海体育运动学校</td>\n",
       "    </tr>\n",
       "    <tr>\n",
       "      <th>17</th>\n",
       "      <td>北京市第三体育运动学校</td>\n",
       "    </tr>\n",
       "    <tr>\n",
       "      <th>18</th>\n",
       "      <td>首都体育学院附属竞技体育学校</td>\n",
       "    </tr>\n",
       "    <tr>\n",
       "      <th>19</th>\n",
       "      <td>北京市国际艺术学校</td>\n",
       "    </tr>\n",
       "    <tr>\n",
       "      <th>20</th>\n",
       "      <td>中国戏曲学院附属中等戏曲学校</td>\n",
       "    </tr>\n",
       "    <tr>\n",
       "      <th>21</th>\n",
       "      <td>北京舞蹈学院附属中等舞蹈学校</td>\n",
       "    </tr>\n",
       "    <tr>\n",
       "      <th>22</th>\n",
       "      <td>中国音乐学院附属中等音乐专科学校</td>\n",
       "    </tr>\n",
       "    <tr>\n",
       "      <th>23</th>\n",
       "      <td>北京戏曲艺术职业学院中专部</td>\n",
       "    </tr>\n",
       "    <tr>\n",
       "      <th>24</th>\n",
       "      <td>北京市爱莲舞蹈学校</td>\n",
       "    </tr>\n",
       "    <tr>\n",
       "      <th>25</th>\n",
       "      <td>中央音乐学院附属中等音乐学校</td>\n",
       "    </tr>\n",
       "    <tr>\n",
       "      <th>26</th>\n",
       "      <td>中央美术学院附属中等美术学校</td>\n",
       "    </tr>\n",
       "    <tr>\n",
       "      <th>27</th>\n",
       "      <td>北京体育大学附属竞技体育学校</td>\n",
       "    </tr>\n",
       "  </tbody>\n",
       "</table>\n",
       "</div>"
      ],
      "text/plain": [
       "                学校名称\n",
       "0           北京水利水电学校\n",
       "1      北京交通运输职业学院中专部\n",
       "2         北京市自动化工程学校\n",
       "3          北京市经济管理学校\n",
       "4            北京市园林学校\n",
       "5           北京金隅科技学校\n",
       "6          北京市对外贸易学校\n",
       "7            北京市商业学校\n",
       "8             北京商贸学校\n",
       "9            北京市供销学校\n",
       "10         北京市振华旅游学校\n",
       "11         北京铁路电气化学校\n",
       "12      首都医科大学附属卫生学校\n",
       "13        北京市海淀区卫生学校\n",
       "14         北京市昌平卫生学校\n",
       "15       北京体育职业学院中专部\n",
       "16      北京市什刹海体育运动学校\n",
       "17       北京市第三体育运动学校\n",
       "18    首都体育学院附属竞技体育学校\n",
       "19         北京市国际艺术学校\n",
       "20    中国戏曲学院附属中等戏曲学校\n",
       "21    北京舞蹈学院附属中等舞蹈学校\n",
       "22  中国音乐学院附属中等音乐专科学校\n",
       "23     北京戏曲艺术职业学院中专部\n",
       "24         北京市爱莲舞蹈学校\n",
       "25    中央音乐学院附属中等音乐学校\n",
       "26    中央美术学院附属中等美术学校\n",
       "27    北京体育大学附属竞技体育学校"
      ]
     },
     "execution_count": 76,
     "metadata": {},
     "output_type": "execute_result"
    }
   ],
   "source": [
    "bj_zz"
   ]
  },
  {
   "cell_type": "code",
   "execution_count": 77,
   "metadata": {
    "scrolled": true
   },
   "outputs": [
    {
     "data": {
      "text/html": [
       "<div>\n",
       "<style scoped>\n",
       "    .dataframe tbody tr th:only-of-type {\n",
       "        vertical-align: middle;\n",
       "    }\n",
       "\n",
       "    .dataframe tbody tr th {\n",
       "        vertical-align: top;\n",
       "    }\n",
       "\n",
       "    .dataframe thead th {\n",
       "        text-align: right;\n",
       "    }\n",
       "</style>\n",
       "<table border=\"1\" class=\"dataframe\">\n",
       "  <thead>\n",
       "    <tr style=\"text-align: right;\">\n",
       "      <th></th>\n",
       "      <th>学校名称</th>\n",
       "    </tr>\n",
       "  </thead>\n",
       "  <tbody>\n",
       "    <tr>\n",
       "      <th>0</th>\n",
       "      <td>北京市第一七九中学</td>\n",
       "    </tr>\n",
       "    <tr>\n",
       "      <th>1</th>\n",
       "      <td>北京现代职业教育学校</td>\n",
       "    </tr>\n",
       "    <tr>\n",
       "      <th>2</th>\n",
       "      <td>北京国际职业教育学校</td>\n",
       "    </tr>\n",
       "    <tr>\n",
       "      <th>3</th>\n",
       "      <td>北京市国际美术学校</td>\n",
       "    </tr>\n",
       "    <tr>\n",
       "      <th>4</th>\n",
       "      <td>北京市东城区古城职业高中</td>\n",
       "    </tr>\n",
       "    <tr>\n",
       "      <th>5</th>\n",
       "      <td>北京市东城区特殊教育学校</td>\n",
       "    </tr>\n",
       "    <tr>\n",
       "      <th>6</th>\n",
       "      <td>北京市东城区中央音乐学院鼎石实验学校</td>\n",
       "    </tr>\n",
       "    <tr>\n",
       "      <th>7</th>\n",
       "      <td>北京市育人中等职业学校</td>\n",
       "    </tr>\n",
       "    <tr>\n",
       "      <th>8</th>\n",
       "      <td>北京市实美职业学校</td>\n",
       "    </tr>\n",
       "    <tr>\n",
       "      <th>9</th>\n",
       "      <td>北京市外事学校</td>\n",
       "    </tr>\n",
       "    <tr>\n",
       "      <th>10</th>\n",
       "      <td>北京市财会学校</td>\n",
       "    </tr>\n",
       "    <tr>\n",
       "      <th>11</th>\n",
       "      <td>北京市实验职业学校</td>\n",
       "    </tr>\n",
       "    <tr>\n",
       "      <th>12</th>\n",
       "      <td>北京启喑实验学校</td>\n",
       "    </tr>\n",
       "    <tr>\n",
       "      <th>13</th>\n",
       "      <td>北京市求实职业学校</td>\n",
       "    </tr>\n",
       "    <tr>\n",
       "      <th>14</th>\n",
       "      <td>北京市劲松职业高中</td>\n",
       "    </tr>\n",
       "    <tr>\n",
       "      <th>15</th>\n",
       "      <td>北京市电气工程学校</td>\n",
       "    </tr>\n",
       "    <tr>\n",
       "      <th>16</th>\n",
       "      <td>北京市朝阳区职业技术学校</td>\n",
       "    </tr>\n",
       "    <tr>\n",
       "      <th>17</th>\n",
       "      <td>北京市信息管理学校</td>\n",
       "    </tr>\n",
       "    <tr>\n",
       "      <th>18</th>\n",
       "      <td>北京市盲人学校</td>\n",
       "    </tr>\n",
       "    <tr>\n",
       "      <th>19</th>\n",
       "      <td>北京市海淀寄读学校</td>\n",
       "    </tr>\n",
       "    <tr>\n",
       "      <th>20</th>\n",
       "      <td>北京市健翔学校</td>\n",
       "    </tr>\n",
       "    <tr>\n",
       "      <th>21</th>\n",
       "      <td>北京市丰台区职业教育中心学校</td>\n",
       "    </tr>\n",
       "    <tr>\n",
       "      <th>22</th>\n",
       "      <td>北京新桥外国语高中学校</td>\n",
       "    </tr>\n",
       "    <tr>\n",
       "      <th>23</th>\n",
       "      <td>北京市八一艺术学校</td>\n",
       "    </tr>\n",
       "    <tr>\n",
       "      <th>24</th>\n",
       "      <td>北京市文化艺术职业学校</td>\n",
       "    </tr>\n",
       "    <tr>\n",
       "      <th>25</th>\n",
       "      <td>北京市黄庄职业高中</td>\n",
       "    </tr>\n",
       "    <tr>\n",
       "      <th>26</th>\n",
       "      <td>北京市古城旅游职业学校</td>\n",
       "    </tr>\n",
       "    <tr>\n",
       "      <th>27</th>\n",
       "      <td>北京市门头沟区中等职业学校</td>\n",
       "    </tr>\n",
       "    <tr>\n",
       "      <th>28</th>\n",
       "      <td>北京市房山区第二职业高中</td>\n",
       "    </tr>\n",
       "    <tr>\n",
       "      <th>29</th>\n",
       "      <td>北京市房山区房山职业学校</td>\n",
       "    </tr>\n",
       "    <tr>\n",
       "      <th>30</th>\n",
       "      <td>北京市燕山职业学校</td>\n",
       "    </tr>\n",
       "    <tr>\n",
       "      <th>31</th>\n",
       "      <td>北京市昌平职业学校</td>\n",
       "    </tr>\n",
       "    <tr>\n",
       "      <th>32</th>\n",
       "      <td>北京少林武术学校</td>\n",
       "    </tr>\n",
       "    <tr>\n",
       "      <th>33</th>\n",
       "      <td>北京市大兴区第一职业学校</td>\n",
       "    </tr>\n",
       "    <tr>\n",
       "      <th>34</th>\n",
       "      <td>北京市大兴区第二职业学校</td>\n",
       "    </tr>\n",
       "    <tr>\n",
       "      <th>35</th>\n",
       "      <td>北京现代艺术学校</td>\n",
       "    </tr>\n",
       "    <tr>\n",
       "      <th>36</th>\n",
       "      <td>北京新城职业学校</td>\n",
       "    </tr>\n",
       "    <tr>\n",
       "      <th>37</th>\n",
       "      <td>北京市现代音乐学校</td>\n",
       "    </tr>\n",
       "    <tr>\n",
       "      <th>38</th>\n",
       "      <td>北京市顺义区新大方职业学校</td>\n",
       "    </tr>\n",
       "    <tr>\n",
       "      <th>39</th>\n",
       "      <td>北京市音乐舞蹈学校</td>\n",
       "    </tr>\n",
       "    <tr>\n",
       "      <th>40</th>\n",
       "      <td>北京市怀柔区职业学校</td>\n",
       "    </tr>\n",
       "    <tr>\n",
       "      <th>41</th>\n",
       "      <td>北京百汇演艺学校</td>\n",
       "    </tr>\n",
       "    <tr>\n",
       "      <th>42</th>\n",
       "      <td>北京市平谷区职业学校</td>\n",
       "    </tr>\n",
       "    <tr>\n",
       "      <th>43</th>\n",
       "      <td>北京市延庆区第一职业学校</td>\n",
       "    </tr>\n",
       "    <tr>\n",
       "      <th>44</th>\n",
       "      <td>北京市密云区职业学校</td>\n",
       "    </tr>\n",
       "  </tbody>\n",
       "</table>\n",
       "</div>"
      ],
      "text/plain": [
       "                      学校名称\n",
       "0                北京市第一七九中学\n",
       "1               北京现代职业教育学校\n",
       "2               北京国际职业教育学校\n",
       "3                北京市国际美术学校\n",
       "4             北京市东城区古城职业高中\n",
       "5             北京市东城区特殊教育学校\n",
       "6       北京市东城区中央音乐学院鼎石实验学校\n",
       "7              北京市育人中等职业学校\n",
       "8                北京市实美职业学校\n",
       "9                  北京市外事学校\n",
       "10                 北京市财会学校\n",
       "11               北京市实验职业学校\n",
       "12                北京启喑实验学校\n",
       "13               北京市求实职业学校\n",
       "14               北京市劲松职业高中\n",
       "15               北京市电气工程学校\n",
       "16            北京市朝阳区职业技术学校\n",
       "17  北京市信息管理学校             \n",
       "18                 北京市盲人学校\n",
       "19               北京市海淀寄读学校\n",
       "20                 北京市健翔学校\n",
       "21          北京市丰台区职业教育中心学校\n",
       "22             北京新桥外国语高中学校\n",
       "23               北京市八一艺术学校\n",
       "24             北京市文化艺术职业学校\n",
       "25               北京市黄庄职业高中\n",
       "26             北京市古城旅游职业学校\n",
       "27           北京市门头沟区中等职业学校\n",
       "28            北京市房山区第二职业高中\n",
       "29            北京市房山区房山职业学校\n",
       "30               北京市燕山职业学校\n",
       "31               北京市昌平职业学校\n",
       "32                北京少林武术学校\n",
       "33            北京市大兴区第一职业学校\n",
       "34            北京市大兴区第二职业学校\n",
       "35                北京现代艺术学校\n",
       "36                北京新城职业学校\n",
       "37               北京市现代音乐学校\n",
       "38           北京市顺义区新大方职业学校\n",
       "39               北京市音乐舞蹈学校\n",
       "40              北京市怀柔区职业学校\n",
       "41                北京百汇演艺学校\n",
       "42              北京市平谷区职业学校\n",
       "43            北京市延庆区第一职业学校\n",
       "44              北京市密云区职业学校"
      ]
     },
     "execution_count": 77,
     "metadata": {},
     "output_type": "execute_result"
    }
   ],
   "source": [
    "bj_zg"
   ]
  },
  {
   "cell_type": "code",
   "execution_count": 78,
   "metadata": {},
   "outputs": [
    {
     "name": "stdout",
     "output_type": "stream",
     "text": [
      "Time cost = 445.640621s\n"
     ]
    }
   ],
   "source": [
    "time_start = time.time()\n",
    "for i in range(len(combine)):\n",
    "    for j in range(len(bj_zz)):\n",
    "        if combine.iloc[i,20] == 0 and bj_zz.iloc[j,0] == combine.iloc[i,18]:\n",
    "            combine.iloc[i,19] = \"北京市\"\n",
    "            combine.iloc[i,20] = \"中职学校\" # 中学类别\n",
    "                \n",
    "for i in range(len(combine)):\n",
    "    for j in range(len(bj_zg)):\n",
    "        if combine.iloc[i,20] == 0 and bj_zg.iloc[j,0] == combine.iloc[i,18]:\n",
    "            combine.iloc[i,19] = \"北京市\"\n",
    "            combine.iloc[i,20] = \"职业高中\" # 中学类别           \n",
    "\n",
    "time_end = time.time()\n",
    "print('Time cost = %fs' % (time_end - time_start))"
   ]
  },
  {
   "cell_type": "code",
   "execution_count": 79,
   "metadata": {},
   "outputs": [
    {
     "data": {
      "text/plain": [
       "0       83584\n",
       "普通高中     1840\n",
       "示范高中      859\n",
       "职业高中      212\n",
       "中职学校       52\n",
       "Name: 毕业中学类别, dtype: int64"
      ]
     },
     "execution_count": 79,
     "metadata": {},
     "output_type": "execute_result"
    }
   ],
   "source": [
    "combine['毕业中学类别'].value_counts()"
   ]
  },
  {
   "cell_type": "code",
   "execution_count": 80,
   "metadata": {},
   "outputs": [],
   "source": [
    "file34 = \"/home/centos/Documents/admission_analysis/上海中学类别名单.xlsx\"\n",
    "sh_pt = pd.read_excel(file34,sheet_name = '普通')\n",
    "sh_zz = pd.read_excel(file34,sheet_name = '中专')\n",
    "sh_zg = pd.read_excel(file34,sheet_name = '高职')\n",
    "sh_jx = pd.read_excel(file34,sheet_name = '技校')"
   ]
  },
  {
   "cell_type": "code",
   "execution_count": 81,
   "metadata": {},
   "outputs": [
    {
     "name": "stdout",
     "output_type": "stream",
     "text": [
      "Time cost = 1021.272643s\n"
     ]
    }
   ],
   "source": [
    "time_start = time.time()\n",
    "for i in range(len(combine)):\n",
    "    for j in range(len(sh_pt)):\n",
    "        if combine.iloc[i,20] == 0 and sh_pt.iloc[j,0] == combine.iloc[i,18]:\n",
    "            combine.iloc[i,19] = \"上海市\"\n",
    "            combine.iloc[i,20] = \"普通高中\" # 中学类别\n",
    "                \n",
    "for i in range(len(combine)):\n",
    "    for j in range(len(sh_zz)):\n",
    "        if combine.iloc[i,20] == 0 and sh_zz.iloc[j,0] == combine.iloc[i,18]:\n",
    "            combine.iloc[i,19] = \"上海市\"\n",
    "            combine.iloc[i,20] = \"中职学校\" # 中学类别      \n",
    "            \n",
    "for i in range(len(combine)):\n",
    "    for j in range(len(sh_zg)):\n",
    "        if combine.iloc[i,20] == 0 and sh_zg.iloc[j,0] == combine.iloc[i,18]:\n",
    "            combine.iloc[i,19] = \"上海市\"\n",
    "            combine.iloc[i,20] = \"职业高中\" # 中学类别  \n",
    "            \n",
    "for i in range(len(combine)):\n",
    "    for j in range(len(sh_jx)):\n",
    "        if combine.iloc[i,20] == 0 and sh_jx.iloc[j,0] == combine.iloc[i,18]:\n",
    "            combine.iloc[i,19] = \"上海市\"\n",
    "            combine.iloc[i,20] = \"技工学校\" # 中学类别  \n",
    "\n",
    "time_end = time.time()\n",
    "print('Time cost = %fs' % (time_end - time_start))"
   ]
  },
  {
   "cell_type": "code",
   "execution_count": 82,
   "metadata": {},
   "outputs": [
    {
     "data": {
      "text/plain": [
       "0       83514\n",
       "普通高中     1899\n",
       "示范高中      859\n",
       "职业高中      218\n",
       "中职学校       56\n",
       "技工学校        1\n",
       "Name: 毕业中学类别, dtype: int64"
      ]
     },
     "execution_count": 82,
     "metadata": {},
     "output_type": "execute_result"
    }
   ],
   "source": [
    "combine['毕业中学类别'].value_counts()"
   ]
  },
  {
   "cell_type": "code",
   "execution_count": 83,
   "metadata": {
    "scrolled": false
   },
   "outputs": [
    {
     "data": {
      "text/plain": [
       "0       83505\n",
       "北京市      1627\n",
       "陕西省       821\n",
       "天津市       507\n",
       "上海市        78\n",
       "辽宁省         3\n",
       "河南省         3\n",
       "山东省         1\n",
       "安徽省         1\n",
       "黑龙江省        1\n",
       "Name: 毕业中学所在省, dtype: int64"
      ]
     },
     "execution_count": 83,
     "metadata": {},
     "output_type": "execute_result"
    }
   ],
   "source": [
    "combine['毕业中学所在省'].value_counts()"
   ]
  },
  {
   "cell_type": "code",
   "execution_count": 84,
   "metadata": {},
   "outputs": [],
   "source": [
    "file35 = \"/home/centos/Documents/admission_analysis/重庆中学类别名单.xlsx\"\n",
    "cq_zz = pd.read_excel(file35,sheet_name = '中专')\n",
    "cq_zg = pd.read_excel(file35,sheet_name = '职高')\n",
    "cq_jx = pd.read_excel(file35,sheet_name = '技校')"
   ]
  },
  {
   "cell_type": "code",
   "execution_count": 85,
   "metadata": {},
   "outputs": [
    {
     "name": "stdout",
     "output_type": "stream",
     "text": [
      "Time cost = 816.884565s\n"
     ]
    }
   ],
   "source": [
    "time_start = time.time()\n",
    "for i in range(len(combine)):\n",
    "    for j in range(len(cq_zz)):\n",
    "        if combine.iloc[i,20] == 0 and cq_zz.iloc[j,0] == combine.iloc[i,18]:\n",
    "            combine.iloc[i,19] = \"重庆市\"\n",
    "            combine.iloc[i,20] = \"中职学校\" # 中学类别      \n",
    "            \n",
    "for i in range(len(combine)):\n",
    "    for j in range(len(cq_zg)):\n",
    "        if combine.iloc[i,20] == 0 and cq_zg.iloc[j,0] == combine.iloc[i,18]:\n",
    "            combine.iloc[i,19] = \"重庆市\"\n",
    "            combine.iloc[i,20] = \"职业高中\" # 中学类别  \n",
    "            \n",
    "for i in range(len(combine)):\n",
    "    for j in range(len(cq_jx)):\n",
    "        if combine.iloc[i,20] == 0 and cq_jx.iloc[j,0] == combine.iloc[i,18]:\n",
    "            combine.iloc[i,19] = \"重庆市\"\n",
    "            combine.iloc[i,20] = \"技工学校\" # 中学类别  \n",
    "\n",
    "time_end = time.time()\n",
    "print('Time cost = %fs' % (time_end - time_start))"
   ]
  },
  {
   "cell_type": "code",
   "execution_count": 86,
   "metadata": {},
   "outputs": [
    {
     "data": {
      "text/plain": [
       "0       83482\n",
       "普通高中     1899\n",
       "示范高中      859\n",
       "职业高中      227\n",
       "中职学校       79\n",
       "技工学校        1\n",
       "Name: 毕业中学类别, dtype: int64"
      ]
     },
     "execution_count": 86,
     "metadata": {},
     "output_type": "execute_result"
    }
   ],
   "source": [
    "combine['毕业中学类别'].value_counts()"
   ]
  },
  {
   "cell_type": "code",
   "execution_count": 87,
   "metadata": {
    "scrolled": true
   },
   "outputs": [
    {
     "data": {
      "text/plain": [
       "0       83473\n",
       "北京市      1627\n",
       "陕西省       821\n",
       "天津市       507\n",
       "上海市        78\n",
       "重庆市        32\n",
       "辽宁省         3\n",
       "河南省         3\n",
       "山东省         1\n",
       "安徽省         1\n",
       "黑龙江省        1\n",
       "Name: 毕业中学所在省, dtype: int64"
      ]
     },
     "execution_count": 87,
     "metadata": {},
     "output_type": "execute_result"
    }
   ],
   "source": [
    "combine['毕业中学所在省'].value_counts()"
   ]
  },
  {
   "cell_type": "code",
   "execution_count": 88,
   "metadata": {},
   "outputs": [],
   "source": [
    "file36 = \"/home/centos/Documents/admission_analysis/重庆中学类别名单.xlsx\"\n",
    "cq_sf = pd.read_excel(file36,sheet_name = '示范')\n",
    "cq_pt = pd.read_excel(file36,sheet_name = '普通')"
   ]
  },
  {
   "cell_type": "code",
   "execution_count": 89,
   "metadata": {},
   "outputs": [
    {
     "name": "stdout",
     "output_type": "stream",
     "text": [
      "Time cost = 866.715678s\n"
     ]
    }
   ],
   "source": [
    "time_start = time.time()\n",
    "for i in range(len(combine)):\n",
    "    for j in range(len(cq_sf)):\n",
    "        if combine.iloc[i,20] == 0 and cq_sf.iloc[j,0] == combine.iloc[i,18]:\n",
    "            combine.iloc[i,19] = \"重庆市\"\n",
    "            combine.iloc[i,20] = \"示范高中\" # 中学类别      \n",
    "            \n",
    "for i in range(len(combine)):\n",
    "    for j in range(len(cq_pt)):\n",
    "        if combine.iloc[i,20] == 0 and cq_pt.iloc[j,0] == combine.iloc[i,18]:\n",
    "            combine.iloc[i,19] = \"重庆市\"\n",
    "            combine.iloc[i,20] = \"普通高中\" # 中学类别  \n",
    "\n",
    "time_end = time.time()\n",
    "print('Time cost = %fs' % (time_end - time_start))"
   ]
  },
  {
   "cell_type": "code",
   "execution_count": 90,
   "metadata": {},
   "outputs": [
    {
     "data": {
      "text/plain": [
       "0       83181\n",
       "普通高中     1912\n",
       "示范高中     1147\n",
       "职业高中      227\n",
       "中职学校       79\n",
       "技工学校        1\n",
       "Name: 毕业中学类别, dtype: int64"
      ]
     },
     "execution_count": 90,
     "metadata": {},
     "output_type": "execute_result"
    }
   ],
   "source": [
    "combine['毕业中学类别'].value_counts()"
   ]
  },
  {
   "cell_type": "code",
   "execution_count": 91,
   "metadata": {},
   "outputs": [
    {
     "data": {
      "text/plain": [
       "0       83172\n",
       "北京市      1627\n",
       "陕西省       821\n",
       "天津市       507\n",
       "重庆市       333\n",
       "上海市        78\n",
       "辽宁省         3\n",
       "河南省         3\n",
       "山东省         1\n",
       "安徽省         1\n",
       "黑龙江省        1\n",
       "Name: 毕业中学所在省, dtype: int64"
      ]
     },
     "execution_count": 91,
     "metadata": {},
     "output_type": "execute_result"
    }
   ],
   "source": [
    "combine['毕业中学所在省'].value_counts()"
   ]
  },
  {
   "cell_type": "code",
   "execution_count": 92,
   "metadata": {},
   "outputs": [],
   "source": [
    "combine.to_excel(r'/home/centos/Documents/admission_analysis/最终数据修改版.xlsx', index = False)"
   ]
  },
  {
   "cell_type": "code",
   "execution_count": 95,
   "metadata": {},
   "outputs": [],
   "source": [
    "file37 = \"/home/centos/Documents/admission_analysis/各省示范高中名单（维基百科版）.xlsx\"\n",
    "hebei_sf = pd.read_excel(file37,sheet_name = '河北省')"
   ]
  },
  {
   "cell_type": "code",
   "execution_count": 97,
   "metadata": {},
   "outputs": [
    {
     "name": "stdout",
     "output_type": "stream",
     "text": [
      "Time cost = 1078.188770s\n"
     ]
    }
   ],
   "source": [
    "time_start = time.time()\n",
    "for i in range(len(combine)):\n",
    "    for j in range(len(hebei_sf)):\n",
    "        if combine.iloc[i,20] == 0 and hebei_sf.iloc[j,0] == combine.iloc[i,18]:\n",
    "            combine.iloc[i,19] = \"河北省\"\n",
    "            combine.iloc[i,20] = \"示范高中\" # 中学类别      \n",
    "\n",
    "time_end = time.time()\n",
    "print('Time cost = %fs' % (time_end - time_start))"
   ]
  },
  {
   "cell_type": "code",
   "execution_count": 98,
   "metadata": {},
   "outputs": [
    {
     "data": {
      "text/plain": [
       "0       82022\n",
       "示范高中     2306\n",
       "普通高中     1912\n",
       "职业高中      227\n",
       "中职学校       79\n",
       "技工学校        1\n",
       "Name: 毕业中学类别, dtype: int64"
      ]
     },
     "execution_count": 98,
     "metadata": {},
     "output_type": "execute_result"
    }
   ],
   "source": [
    "combine['毕业中学类别'].value_counts()"
   ]
  },
  {
   "cell_type": "code",
   "execution_count": 99,
   "metadata": {},
   "outputs": [
    {
     "name": "stdout",
     "output_type": "stream",
     "text": [
      "Time cost = 698.853287s\n"
     ]
    }
   ],
   "source": [
    "shanxi_sf = pd.read_excel(file37,sheet_name = '山西省')\n",
    "\n",
    "time_start = time.time()\n",
    "for i in range(len(combine)):\n",
    "    for j in range(len(shanxi_sf)):\n",
    "        if combine.iloc[i,20] == 0 and shanxi_sf.iloc[j,0] == combine.iloc[i,18]:\n",
    "            combine.iloc[i,19] = \"山西省\"\n",
    "            combine.iloc[i,20] = \"示范高中\" # 中学类别      \n",
    "\n",
    "time_end = time.time()\n",
    "print('Time cost = %fs' % (time_end - time_start))"
   ]
  },
  {
   "cell_type": "code",
   "execution_count": 100,
   "metadata": {},
   "outputs": [
    {
     "data": {
      "text/plain": [
       "0       81862\n",
       "示范高中     2466\n",
       "普通高中     1912\n",
       "职业高中      227\n",
       "中职学校       79\n",
       "技工学校        1\n",
       "Name: 毕业中学类别, dtype: int64"
      ]
     },
     "execution_count": 100,
     "metadata": {},
     "output_type": "execute_result"
    }
   ],
   "source": [
    "combine['毕业中学类别'].value_counts()"
   ]
  },
  {
   "cell_type": "code",
   "execution_count": 101,
   "metadata": {},
   "outputs": [
    {
     "name": "stdout",
     "output_type": "stream",
     "text": [
      "Time cost = 700.142395s\n"
     ]
    }
   ],
   "source": [
    "guizhou_sf = pd.read_excel(file37,sheet_name = '贵州省')\n",
    "\n",
    "time_start = time.time()\n",
    "for i in range(len(combine)):\n",
    "    for j in range(len(guizhou_sf)):\n",
    "        if combine.iloc[i,20] == 0 and guizhou_sf.iloc[j,0] == combine.iloc[i,18]:\n",
    "            combine.iloc[i,19] = \"贵州省\"\n",
    "            combine.iloc[i,20] = \"示范高中\" # 中学类别      \n",
    "\n",
    "time_end = time.time()\n",
    "print('Time cost = %fs' % (time_end - time_start))"
   ]
  },
  {
   "cell_type": "code",
   "execution_count": 102,
   "metadata": {},
   "outputs": [
    {
     "data": {
      "text/plain": [
       "0       81628\n",
       "示范高中     2700\n",
       "普通高中     1912\n",
       "职业高中      227\n",
       "中职学校       79\n",
       "技工学校        1\n",
       "Name: 毕业中学类别, dtype: int64"
      ]
     },
     "execution_count": 102,
     "metadata": {},
     "output_type": "execute_result"
    }
   ],
   "source": [
    "combine['毕业中学类别'].value_counts()"
   ]
  },
  {
   "cell_type": "code",
   "execution_count": 103,
   "metadata": {},
   "outputs": [
    {
     "name": "stdout",
     "output_type": "stream",
     "text": [
      "Time cost = 942.286041s\n"
     ]
    }
   ],
   "source": [
    "guangxi_sf = pd.read_excel(file37,sheet_name = '广西省')\n",
    "\n",
    "time_start = time.time()\n",
    "for i in range(len(combine)):\n",
    "    for j in range(len(guangxi_sf)):\n",
    "        if combine.iloc[i,20] == 0 and guangxi_sf.iloc[j,0] == combine.iloc[i,18]:\n",
    "            combine.iloc[i,19] = \"广西省\"\n",
    "            combine.iloc[i,20] = \"示范高中\" # 中学类别      \n",
    "\n",
    "time_end = time.time()\n",
    "print('Time cost = %fs' % (time_end - time_start))"
   ]
  },
  {
   "cell_type": "code",
   "execution_count": 104,
   "metadata": {},
   "outputs": [
    {
     "data": {
      "text/plain": [
       "0       81442\n",
       "示范高中     2886\n",
       "普通高中     1912\n",
       "职业高中      227\n",
       "中职学校       79\n",
       "技工学校        1\n",
       "Name: 毕业中学类别, dtype: int64"
      ]
     },
     "execution_count": 104,
     "metadata": {},
     "output_type": "execute_result"
    }
   ],
   "source": [
    "combine['毕业中学类别'].value_counts()"
   ]
  },
  {
   "cell_type": "code",
   "execution_count": 105,
   "metadata": {},
   "outputs": [
    {
     "name": "stdout",
     "output_type": "stream",
     "text": [
      "Time cost = 1111.088396s\n"
     ]
    }
   ],
   "source": [
    "henan_sf = pd.read_excel(file37,sheet_name = '河南省')\n",
    "\n",
    "time_start = time.time()\n",
    "for i in range(len(combine)):\n",
    "    for j in range(len(henan_sf)):\n",
    "        if combine.iloc[i,20] == 0 and henan_sf.iloc[j,0] == combine.iloc[i,18]:\n",
    "            combine.iloc[i,19] = \"河南省\"\n",
    "            combine.iloc[i,20] = \"示范高中\" # 中学类别      \n",
    "\n",
    "time_end = time.time()\n",
    "print('Time cost = %fs' % (time_end - time_start))"
   ]
  },
  {
   "cell_type": "code",
   "execution_count": 106,
   "metadata": {},
   "outputs": [
    {
     "data": {
      "text/plain": [
       "0       80591\n",
       "示范高中     3737\n",
       "普通高中     1912\n",
       "职业高中      227\n",
       "中职学校       79\n",
       "技工学校        1\n",
       "Name: 毕业中学类别, dtype: int64"
      ]
     },
     "execution_count": 106,
     "metadata": {},
     "output_type": "execute_result"
    }
   ],
   "source": [
    "combine['毕业中学类别'].value_counts()"
   ]
  },
  {
   "cell_type": "code",
   "execution_count": 107,
   "metadata": {},
   "outputs": [
    {
     "name": "stdout",
     "output_type": "stream",
     "text": [
      "Time cost = 673.941657s\n"
     ]
    }
   ],
   "source": [
    "hubei_sf = pd.read_excel(file37,sheet_name = '湖北省')\n",
    "\n",
    "time_start = time.time()\n",
    "for i in range(len(combine)):\n",
    "    for j in range(len(hubei_sf)):\n",
    "        if combine.iloc[i,20] == 0 and hubei_sf.iloc[j,0] == combine.iloc[i,18]:\n",
    "            combine.iloc[i,19] = \"湖北省\"\n",
    "            combine.iloc[i,20] = \"示范高中\" # 中学类别      \n",
    "\n",
    "time_end = time.time()\n",
    "print('Time cost = %fs' % (time_end - time_start))"
   ]
  },
  {
   "cell_type": "code",
   "execution_count": 108,
   "metadata": {},
   "outputs": [
    {
     "data": {
      "text/plain": [
       "0       79924\n",
       "示范高中     4404\n",
       "普通高中     1912\n",
       "职业高中      227\n",
       "中职学校       79\n",
       "技工学校        1\n",
       "Name: 毕业中学类别, dtype: int64"
      ]
     },
     "execution_count": 108,
     "metadata": {},
     "output_type": "execute_result"
    }
   ],
   "source": [
    "combine['毕业中学类别'].value_counts()"
   ]
  },
  {
   "cell_type": "code",
   "execution_count": 109,
   "metadata": {},
   "outputs": [
    {
     "name": "stdout",
     "output_type": "stream",
     "text": [
      "Time cost = 135.649221s\n"
     ]
    }
   ],
   "source": [
    "hainan_sf = pd.read_excel(file37,sheet_name = '海南省')\n",
    "\n",
    "time_start = time.time()\n",
    "for i in range(len(combine)):\n",
    "    for j in range(len(hainan_sf)):\n",
    "        if combine.iloc[i,20] == 0 and hainan_sf.iloc[j,0] == combine.iloc[i,18]:\n",
    "            combine.iloc[i,19] = \"海南省\"\n",
    "            combine.iloc[i,20] = \"示范高中\" # 中学类别      \n",
    "\n",
    "time_end = time.time()\n",
    "print('Time cost = %fs' % (time_end - time_start))"
   ]
  },
  {
   "cell_type": "code",
   "execution_count": 110,
   "metadata": {},
   "outputs": [
    {
     "data": {
      "text/plain": [
       "0       79872\n",
       "示范高中     4456\n",
       "普通高中     1912\n",
       "职业高中      227\n",
       "中职学校       79\n",
       "技工学校        1\n",
       "Name: 毕业中学类别, dtype: int64"
      ]
     },
     "execution_count": 110,
     "metadata": {},
     "output_type": "execute_result"
    }
   ],
   "source": [
    "combine['毕业中学类别'].value_counts()"
   ]
  },
  {
   "cell_type": "code",
   "execution_count": 111,
   "metadata": {},
   "outputs": [
    {
     "name": "stdout",
     "output_type": "stream",
     "text": [
      "Time cost = 686.145157s\n"
     ]
    }
   ],
   "source": [
    "guangdong_sf = pd.read_excel(file37,sheet_name = '广东省')\n",
    "\n",
    "time_start = time.time()\n",
    "for i in range(len(combine)):\n",
    "    for j in range(len(guangdong_sf)):\n",
    "        if combine.iloc[i,20] == 0 and guangdong_sf.iloc[j,0] == combine.iloc[i,18]:\n",
    "            combine.iloc[i,19] = \"广东省\"\n",
    "            combine.iloc[i,20] = \"示范高中\" # 中学类别      \n",
    "\n",
    "time_end = time.time()\n",
    "print('Time cost = %fs' % (time_end - time_start))"
   ]
  },
  {
   "cell_type": "code",
   "execution_count": 112,
   "metadata": {},
   "outputs": [
    {
     "data": {
      "text/plain": [
       "0       79276\n",
       "示范高中     5052\n",
       "普通高中     1912\n",
       "职业高中      227\n",
       "中职学校       79\n",
       "技工学校        1\n",
       "Name: 毕业中学类别, dtype: int64"
      ]
     },
     "execution_count": 112,
     "metadata": {},
     "output_type": "execute_result"
    }
   ],
   "source": [
    "combine['毕业中学类别'].value_counts()"
   ]
  },
  {
   "cell_type": "code",
   "execution_count": 113,
   "metadata": {},
   "outputs": [
    {
     "name": "stdout",
     "output_type": "stream",
     "text": [
      "Time cost = 718.656734s\n"
     ]
    }
   ],
   "source": [
    "fujian_sf = pd.read_excel(file37,sheet_name = '福建省')\n",
    "\n",
    "time_start = time.time()\n",
    "for i in range(len(combine)):\n",
    "    for j in range(len(fujian_sf)):\n",
    "        if combine.iloc[i,20] == 0 and fujian_sf.iloc[j,0] == combine.iloc[i,18]:\n",
    "            combine.iloc[i,19] = \"福建省\"\n",
    "            combine.iloc[i,20] = \"示范高中\" # 中学类别      \n",
    "\n",
    "time_end = time.time()\n",
    "print('Time cost = %fs' % (time_end - time_start))"
   ]
  },
  {
   "cell_type": "code",
   "execution_count": 114,
   "metadata": {},
   "outputs": [
    {
     "data": {
      "text/plain": [
       "0       78889\n",
       "示范高中     5439\n",
       "普通高中     1912\n",
       "职业高中      227\n",
       "中职学校       79\n",
       "技工学校        1\n",
       "Name: 毕业中学类别, dtype: int64"
      ]
     },
     "execution_count": 114,
     "metadata": {},
     "output_type": "execute_result"
    }
   ],
   "source": [
    "combine['毕业中学类别'].value_counts()"
   ]
  },
  {
   "cell_type": "code",
   "execution_count": 115,
   "metadata": {},
   "outputs": [
    {
     "name": "stdout",
     "output_type": "stream",
     "text": [
      "Time cost = 88.807444s\n"
     ]
    }
   ],
   "source": [
    "jiangxi_sf = pd.read_excel(file37,sheet_name = '江西省')\n",
    "\n",
    "time_start = time.time()\n",
    "for i in range(len(combine)):\n",
    "    for j in range(len(jiangxi_sf)):\n",
    "        if combine.iloc[i,20] == 0 and jiangxi_sf.iloc[j,0] == combine.iloc[i,18]:\n",
    "            combine.iloc[i,19] = \"江西省\"\n",
    "            combine.iloc[i,20] = \"示范高中\" # 中学类别      \n",
    "\n",
    "time_end = time.time()\n",
    "print('Time cost = %fs' % (time_end - time_start))"
   ]
  },
  {
   "cell_type": "code",
   "execution_count": 116,
   "metadata": {},
   "outputs": [
    {
     "data": {
      "text/plain": [
       "0       78741\n",
       "示范高中     5587\n",
       "普通高中     1912\n",
       "职业高中      227\n",
       "中职学校       79\n",
       "技工学校        1\n",
       "Name: 毕业中学类别, dtype: int64"
      ]
     },
     "execution_count": 116,
     "metadata": {},
     "output_type": "execute_result"
    }
   ],
   "source": [
    "combine['毕业中学类别'].value_counts()"
   ]
  },
  {
   "cell_type": "code",
   "execution_count": 117,
   "metadata": {},
   "outputs": [
    {
     "name": "stdout",
     "output_type": "stream",
     "text": [
      "Time cost = 836.990923s\n"
     ]
    }
   ],
   "source": [
    "yunnan_sf = pd.read_excel(file37,sheet_name = '云南省')\n",
    "\n",
    "time_start = time.time()\n",
    "for i in range(len(combine)):\n",
    "    for j in range(len(yunnan_sf)):\n",
    "        if combine.iloc[i,20] == 0 and yunnan_sf.iloc[j,0] == combine.iloc[i,18]:\n",
    "            combine.iloc[i,19] = \"云南省\"\n",
    "            combine.iloc[i,20] = \"示范高中\" # 中学类别      \n",
    "\n",
    "time_end = time.time()\n",
    "print('Time cost = %fs' % (time_end - time_start))"
   ]
  },
  {
   "cell_type": "code",
   "execution_count": 118,
   "metadata": {},
   "outputs": [
    {
     "data": {
      "text/plain": [
       "0       78651\n",
       "示范高中     5677\n",
       "普通高中     1912\n",
       "职业高中      227\n",
       "中职学校       79\n",
       "技工学校        1\n",
       "Name: 毕业中学类别, dtype: int64"
      ]
     },
     "execution_count": 118,
     "metadata": {},
     "output_type": "execute_result"
    }
   ],
   "source": [
    "combine['毕业中学类别'].value_counts()"
   ]
  },
  {
   "cell_type": "code",
   "execution_count": 120,
   "metadata": {},
   "outputs": [
    {
     "name": "stdout",
     "output_type": "stream",
     "text": [
      "Time cost = 1250.402510s\n"
     ]
    }
   ],
   "source": [
    "file38 = \"/home/centos/Documents/admission_analysis/示范高中名单.xlsx\"\n",
    "sichuan_sf = pd.read_excel(file38,sheet_name = '四川省')\n",
    "\n",
    "time_start = time.time()\n",
    "for i in range(len(combine)):\n",
    "    for j in range(len(sichuan_sf)):\n",
    "        if combine.iloc[i,20] == 0 and sichuan_sf.iloc[j,0] == combine.iloc[i,18]:\n",
    "            combine.iloc[i,19] = \"四川省\"\n",
    "            combine.iloc[i,20] = \"示范高中\" # 中学类别      \n",
    "\n",
    "time_end = time.time()\n",
    "print('Time cost = %fs' % (time_end - time_start))"
   ]
  },
  {
   "cell_type": "code",
   "execution_count": 121,
   "metadata": {},
   "outputs": [
    {
     "data": {
      "text/plain": [
       "0       78169\n",
       "示范高中     6159\n",
       "普通高中     1912\n",
       "职业高中      227\n",
       "中职学校       79\n",
       "技工学校        1\n",
       "Name: 毕业中学类别, dtype: int64"
      ]
     },
     "execution_count": 121,
     "metadata": {},
     "output_type": "execute_result"
    }
   ],
   "source": [
    "combine['毕业中学类别'].value_counts()"
   ]
  },
  {
   "cell_type": "code",
   "execution_count": 122,
   "metadata": {},
   "outputs": [
    {
     "name": "stdout",
     "output_type": "stream",
     "text": [
      "Time cost = 861.527348s\n"
     ]
    }
   ],
   "source": [
    "hunan_sf = pd.read_excel(file38,sheet_name = '湖南省')\n",
    "\n",
    "time_start = time.time()\n",
    "for i in range(len(combine)):\n",
    "    for j in range(len(hunan_sf)):\n",
    "        if combine.iloc[i,20] == 0 and hunan_sf.iloc[j,0] == combine.iloc[i,18]:\n",
    "            combine.iloc[i,19] = \"湖南省\"\n",
    "            combine.iloc[i,20] = \"示范高中\" # 中学类别      \n",
    "\n",
    "time_end = time.time()\n",
    "print('Time cost = %fs' % (time_end - time_start))"
   ]
  },
  {
   "cell_type": "code",
   "execution_count": 123,
   "metadata": {},
   "outputs": [
    {
     "data": {
      "text/plain": [
       "0       77587\n",
       "示范高中     6741\n",
       "普通高中     1912\n",
       "职业高中      227\n",
       "中职学校       79\n",
       "技工学校        1\n",
       "Name: 毕业中学类别, dtype: int64"
      ]
     },
     "execution_count": 123,
     "metadata": {},
     "output_type": "execute_result"
    }
   ],
   "source": [
    "combine['毕业中学类别'].value_counts()"
   ]
  },
  {
   "cell_type": "code",
   "execution_count": 124,
   "metadata": {},
   "outputs": [
    {
     "name": "stdout",
     "output_type": "stream",
     "text": [
      "Time cost = 658.953485s\n"
     ]
    }
   ],
   "source": [
    "hubei_sf = pd.read_excel(file38,sheet_name = '湖北省')\n",
    "\n",
    "time_start = time.time()\n",
    "for i in range(len(combine)):\n",
    "    for j in range(len(hubei_sf)):\n",
    "        if combine.iloc[i,20] == 0 and hubei_sf.iloc[j,0] == combine.iloc[i,18]:\n",
    "            combine.iloc[i,19] = \"湖北省\"\n",
    "            combine.iloc[i,20] = \"示范高中\" # 中学类别      \n",
    "\n",
    "time_end = time.time()\n",
    "print('Time cost = %fs' % (time_end - time_start))"
   ]
  },
  {
   "cell_type": "code",
   "execution_count": 125,
   "metadata": {},
   "outputs": [
    {
     "data": {
      "text/plain": [
       "0       77287\n",
       "示范高中     7041\n",
       "普通高中     1912\n",
       "职业高中      227\n",
       "中职学校       79\n",
       "技工学校        1\n",
       "Name: 毕业中学类别, dtype: int64"
      ]
     },
     "execution_count": 125,
     "metadata": {},
     "output_type": "execute_result"
    }
   ],
   "source": [
    "combine['毕业中学类别'].value_counts()"
   ]
  },
  {
   "cell_type": "code",
   "execution_count": 126,
   "metadata": {},
   "outputs": [
    {
     "name": "stdout",
     "output_type": "stream",
     "text": [
      "Time cost = 1125.000866s\n"
     ]
    }
   ],
   "source": [
    "anhui_sf = pd.read_excel(file38,sheet_name = '安徽省')\n",
    "\n",
    "time_start = time.time()\n",
    "for i in range(len(combine)):\n",
    "    for j in range(len(anhui_sf)):\n",
    "        if combine.iloc[i,20] == 0 and anhui_sf.iloc[j,0] == combine.iloc[i,18]:\n",
    "            combine.iloc[i,19] = \"安徽省\"\n",
    "            combine.iloc[i,20] = \"示范高中\" # 中学类别      \n",
    "\n",
    "time_end = time.time()\n",
    "print('Time cost = %fs' % (time_end - time_start))"
   ]
  },
  {
   "cell_type": "code",
   "execution_count": 127,
   "metadata": {},
   "outputs": [
    {
     "data": {
      "text/plain": [
       "0       76481\n",
       "示范高中     7847\n",
       "普通高中     1912\n",
       "职业高中      227\n",
       "中职学校       79\n",
       "技工学校        1\n",
       "Name: 毕业中学类别, dtype: int64"
      ]
     },
     "execution_count": 127,
     "metadata": {},
     "output_type": "execute_result"
    }
   ],
   "source": [
    "combine['毕业中学类别'].value_counts()"
   ]
  },
  {
   "cell_type": "code",
   "execution_count": 128,
   "metadata": {},
   "outputs": [
    {
     "name": "stdout",
     "output_type": "stream",
     "text": [
      "Time cost = 1425.794979s\n"
     ]
    }
   ],
   "source": [
    "zhejiang_sf = pd.read_excel(file38,sheet_name = '浙江省')\n",
    "\n",
    "time_start = time.time()\n",
    "for i in range(len(combine)):\n",
    "    for j in range(len(zhejiang_sf)):\n",
    "        if combine.iloc[i,20] == 0 and zhejiang_sf.iloc[j,0] == combine.iloc[i,18]:\n",
    "            combine.iloc[i,19] = \"浙江省\"\n",
    "            combine.iloc[i,20] = \"示范高中\" # 中学类别      \n",
    "\n",
    "time_end = time.time()\n",
    "print('Time cost = %fs' % (time_end - time_start))"
   ]
  },
  {
   "cell_type": "code",
   "execution_count": 129,
   "metadata": {},
   "outputs": [
    {
     "data": {
      "text/plain": [
       "0       75514\n",
       "示范高中     8814\n",
       "普通高中     1912\n",
       "职业高中      227\n",
       "中职学校       79\n",
       "技工学校        1\n",
       "Name: 毕业中学类别, dtype: int64"
      ]
     },
     "execution_count": 129,
     "metadata": {},
     "output_type": "execute_result"
    }
   ],
   "source": [
    "combine['毕业中学类别'].value_counts()"
   ]
  },
  {
   "cell_type": "code",
   "execution_count": 130,
   "metadata": {},
   "outputs": [
    {
     "name": "stdout",
     "output_type": "stream",
     "text": [
      "Time cost = 1105.929987s\n"
     ]
    }
   ],
   "source": [
    "jiangsu_sf = pd.read_excel(file38,sheet_name = '江苏省')\n",
    "\n",
    "time_start = time.time()\n",
    "for i in range(len(combine)):\n",
    "    for j in range(len(jiangsu_sf)):\n",
    "        if combine.iloc[i,20] == 0 and jiangsu_sf.iloc[j,0] == combine.iloc[i,18]:\n",
    "            combine.iloc[i,19] = \"江苏省\"\n",
    "            combine.iloc[i,20] = \"示范高中\" # 中学类别      \n",
    "\n",
    "time_end = time.time()\n",
    "print('Time cost = %fs' % (time_end - time_start))"
   ]
  },
  {
   "cell_type": "code",
   "execution_count": 131,
   "metadata": {},
   "outputs": [
    {
     "data": {
      "text/plain": [
       "0       74510\n",
       "示范高中     9818\n",
       "普通高中     1912\n",
       "职业高中      227\n",
       "中职学校       79\n",
       "技工学校        1\n",
       "Name: 毕业中学类别, dtype: int64"
      ]
     },
     "execution_count": 131,
     "metadata": {},
     "output_type": "execute_result"
    }
   ],
   "source": [
    "combine['毕业中学类别'].value_counts()"
   ]
  },
  {
   "cell_type": "code",
   "execution_count": 132,
   "metadata": {},
   "outputs": [
    {
     "name": "stdout",
     "output_type": "stream",
     "text": [
      "Time cost = 505.257573s\n"
     ]
    }
   ],
   "source": [
    "heilongjiang_sf = pd.read_excel(file38,sheet_name = '黑龙江省')\n",
    "\n",
    "time_start = time.time()\n",
    "for i in range(len(combine)):\n",
    "    for j in range(len(heilongjiang_sf)):\n",
    "        if combine.iloc[i,20] == 0 and heilongjiang_sf.iloc[j,0] == combine.iloc[i,18]:\n",
    "            combine.iloc[i,19] = \"黑龙江省\"\n",
    "            combine.iloc[i,20] = \"示范高中\" # 中学类别      \n",
    "\n",
    "time_end = time.time()\n",
    "print('Time cost = %fs' % (time_end - time_start))"
   ]
  },
  {
   "cell_type": "code",
   "execution_count": 133,
   "metadata": {},
   "outputs": [
    {
     "name": "stdout",
     "output_type": "stream",
     "text": [
      "Time cost = 650.064104s\n"
     ]
    }
   ],
   "source": [
    "liaoning_sf = pd.read_excel(file38,sheet_name = '辽宁省')\n",
    "\n",
    "time_start = time.time()\n",
    "for i in range(len(combine)):\n",
    "    for j in range(len(liaoning_sf)):\n",
    "        if combine.iloc[i,20] == 0 and liaoning_sf.iloc[j,0] == combine.iloc[i,18]:\n",
    "            combine.iloc[i,19] = \"辽宁省\"\n",
    "            combine.iloc[i,20] = \"示范高中\" # 中学类别      \n",
    "\n",
    "time_end = time.time()\n",
    "print('Time cost = %fs' % (time_end - time_start))"
   ]
  },
  {
   "cell_type": "code",
   "execution_count": 134,
   "metadata": {},
   "outputs": [
    {
     "name": "stdout",
     "output_type": "stream",
     "text": [
      "Time cost = 228.049769s\n"
     ]
    }
   ],
   "source": [
    "jilin_sf = pd.read_excel(file38,sheet_name = '吉林省')\n",
    "\n",
    "time_start = time.time()\n",
    "for i in range(len(combine)):\n",
    "    for j in range(len(jilin_sf)):\n",
    "        if combine.iloc[i,20] == 0 and jilin_sf.iloc[j,0] == combine.iloc[i,18]:\n",
    "            combine.iloc[i,19] = \"吉林省\"\n",
    "            combine.iloc[i,20] = \"示范高中\" # 中学类别      \n",
    "\n",
    "time_end = time.time()\n",
    "print('Time cost = %fs' % (time_end - time_start))"
   ]
  },
  {
   "cell_type": "code",
   "execution_count": 135,
   "metadata": {},
   "outputs": [
    {
     "name": "stdout",
     "output_type": "stream",
     "text": [
      "Time cost = 635.919039s\n"
     ]
    }
   ],
   "source": [
    "shandong_sf = pd.read_excel(file38,sheet_name = '山东省')\n",
    "\n",
    "time_start = time.time()\n",
    "for i in range(len(combine)):\n",
    "    for j in range(len(shandong_sf)):\n",
    "        if combine.iloc[i,20] == 0 and sh andong_sf.iloc[j,0] == combine.iloc[i,18]:\n",
    "            combine.iloc[i,19] = \"山东省\"\n",
    "            combine.iloc[i,20] = \"示范高中\" # 中学类别      \n",
    "\n",
    "time_end = time.time()\n",
    "print('Time cost = %fs' % (time_end - time_start))"
   ]
  },
  {
   "cell_type": "code",
   "execution_count": 138,
   "metadata": {},
   "outputs": [],
   "source": [
    "file39 = \"/home/centos/Documents/admission_analysis/示范高中名单（剩下的几个省份）.xlsx\""
   ]
  },
  {
   "cell_type": "code",
   "execution_count": 139,
   "metadata": {},
   "outputs": [
    {
     "name": "stdout",
     "output_type": "stream",
     "text": [
      "Time cost = 326.445817s\n"
     ]
    }
   ],
   "source": [
    "neimenggu_sf = pd.read_excel(file39,sheet_name = '内蒙古')\n",
    "\n",
    "time_start = time.time()\n",
    "for i in range(len(combine)):\n",
    "    for j in range(len(neimenggu_sf)):\n",
    "        if combine.iloc[i,20] == 0 and neimenggu_sf.iloc[j,0] == combine.iloc[i,18]:\n",
    "            combine.iloc[i,19] = \"内蒙古自治区\"\n",
    "            combine.iloc[i,20] = \"示范高中\" # 中学类别      \n",
    "\n",
    "time_end = time.time()\n",
    "print('Time cost = %fs' % (time_end - time_start))"
   ]
  },
  {
   "cell_type": "code",
   "execution_count": 140,
   "metadata": {},
   "outputs": [
    {
     "name": "stdout",
     "output_type": "stream",
     "text": [
      "Time cost = 198.264478s\n"
     ]
    }
   ],
   "source": [
    "ningxia_sf = pd.read_excel(file39,sheet_name = '宁夏')\n",
    "\n",
    "time_start = time.time()\n",
    "for i in range(len(combine)):\n",
    "    for j in range(len(ningxia_sf)):\n",
    "        if combine.iloc[i,20] == 0 and ningxia_sf.iloc[j,0] == combine.iloc[i,18]:\n",
    "            combine.iloc[i,19] = \"宁夏自治区\"\n",
    "            combine.iloc[i,20] = \"示范高中\" # 中学类别      \n",
    "\n",
    "time_end = time.time()\n",
    "print('Time cost = %fs' % (time_end - time_start))"
   ]
  },
  {
   "cell_type": "code",
   "execution_count": 141,
   "metadata": {},
   "outputs": [
    {
     "name": "stdout",
     "output_type": "stream",
     "text": [
      "Time cost = 43.212316s\n"
     ]
    }
   ],
   "source": [
    "qinghai_sf = pd.read_excel(file39,sheet_name = '青海')\n",
    "\n",
    "time_start = time.time()\n",
    "for i in range(len(combine)):\n",
    "    for j in range(len(qinghai_sf)):\n",
    "        if combine.iloc[i,20] == 0 and qinghai_sf.iloc[j,0] == combine.iloc[i,18]:\n",
    "            combine.iloc[i,19] = \"青海省\"\n",
    "            combine.iloc[i,20] = \"示范高中\" # 中学类别      \n",
    "\n",
    "time_end = time.time()\n",
    "print('Time cost = %fs' % (time_end - time_start))"
   ]
  },
  {
   "cell_type": "code",
   "execution_count": 142,
   "metadata": {},
   "outputs": [
    {
     "name": "stdout",
     "output_type": "stream",
     "text": [
      "Time cost = 57.481219s\n"
     ]
    }
   ],
   "source": [
    "xizang_sf = pd.read_excel(file39,sheet_name = '西藏')\n",
    "\n",
    "time_start = time.time()\n",
    "for i in range(len(combine)):\n",
    "    for j in range(len(xizang_sf)):\n",
    "        if combine.iloc[i,20] == 0 and xizang_sf.iloc[j,0] == combine.iloc[i,18]:\n",
    "            combine.iloc[i,19] = \"西藏自治区\"\n",
    "            combine.iloc[i,20] = \"示范高中\" # 中学类别      \n",
    "\n",
    "time_end = time.time()\n",
    "print('Time cost = %fs' % (time_end - time_start))"
   ]
  },
  {
   "cell_type": "code",
   "execution_count": 143,
   "metadata": {},
   "outputs": [
    {
     "name": "stdout",
     "output_type": "stream",
     "text": [
      "Time cost = 265.117194s\n"
     ]
    }
   ],
   "source": [
    "xinjiang_sf = pd.read_excel(file39,sheet_name = '新疆')\n",
    "\n",
    "time_start = time.time()\n",
    "for i in range(len(combine)):\n",
    "    for j in range(len(xinjiang_sf)):\n",
    "        if combine.iloc[i,20] == 0 and xinjiang_sf.iloc[j,0] == combine.iloc[i,18]:\n",
    "            combine.iloc[i,19] = \"新疆自治区\"\n",
    "            combine.iloc[i,20] = \"示范高中\" # 中学类别      \n",
    "\n",
    "time_end = time.time()\n",
    "print('Time cost = %fs' % (time_end - time_start))"
   ]
  },
  {
   "cell_type": "code",
   "execution_count": 144,
   "metadata": {},
   "outputs": [
    {
     "name": "stdout",
     "output_type": "stream",
     "text": [
      "Time cost = 241.136047s\n"
     ]
    }
   ],
   "source": [
    "gansu_sf = pd.read_excel(file39,sheet_name = '甘肃')\n",
    "\n",
    "time_start = time.time()\n",
    "for i in range(len(combine)):\n",
    "    for j in range(len(gansu_sf)):\n",
    "        if combine.iloc[i,20] == 0 and gansu_sf.iloc[j,0] == combine.iloc[i,18]:\n",
    "            combine.iloc[i,19] = \"甘肃省\"\n",
    "            combine.iloc[i,20] = \"示范高中\" # 中学类别      \n",
    "\n",
    "time_end = time.time()\n",
    "print('Time cost = %fs' % (time_end - time_start))"
   ]
  },
  {
   "cell_type": "code",
   "execution_count": 145,
   "metadata": {},
   "outputs": [
    {
     "data": {
      "text/plain": [
       "0       71389\n",
       "示范高中    12939\n",
       "普通高中     1912\n",
       "职业高中      227\n",
       "中职学校       79\n",
       "技工学校        1\n",
       "Name: 毕业中学类别, dtype: int64"
      ]
     },
     "execution_count": 145,
     "metadata": {},
     "output_type": "execute_result"
    }
   ],
   "source": [
    "combine['毕业中学类别'].value_counts()"
   ]
  },
  {
   "cell_type": "code",
   "execution_count": 146,
   "metadata": {
    "scrolled": true
   },
   "outputs": [
    {
     "data": {
      "text/plain": [
       "0         71381\n",
       "北京市        1627\n",
       "河北省        1152\n",
       "江苏省        1004\n",
       "湖北省         967\n",
       "浙江省         967\n",
       "河南省         854\n",
       "陕西省         821\n",
       "安徽省         806\n",
       "山东省         769\n",
       "黑龙江省        692\n",
       "广东省         596\n",
       "湖南省         582\n",
       "天津市         507\n",
       "四川省         482\n",
       "辽宁省         455\n",
       "内蒙古自治区      418\n",
       "吉林省         404\n",
       "福建省         387\n",
       "重庆市         333\n",
       "贵州省         234\n",
       "广西省         186\n",
       "山西省         160\n",
       "新疆自治区       152\n",
       "江西省         148\n",
       "甘肃省         118\n",
       "宁夏自治区       115\n",
       "云南省          90\n",
       "上海市          78\n",
       "海南省          52\n",
       "重河北省          7\n",
       "青海省           2\n",
       "西藏自治区         1\n",
       "Name: 毕业中学所在省, dtype: int64"
      ]
     },
     "execution_count": 146,
     "metadata": {},
     "output_type": "execute_result"
    }
   ],
   "source": [
    "combine['毕业中学所在省'].value_counts()"
   ]
  },
  {
   "cell_type": "code",
   "execution_count": 147,
   "metadata": {},
   "outputs": [
    {
     "data": {
      "text/plain": [
       "'山东省'"
      ]
     },
     "execution_count": 147,
     "metadata": {},
     "output_type": "execute_result"
    }
   ],
   "source": [
    "combine.iloc[3,22]"
   ]
  },
  {
   "cell_type": "code",
   "execution_count": 149,
   "metadata": {},
   "outputs": [
    {
     "data": {
      "text/plain": [
       "'安徽省阜阳市阜南县实验中学'"
      ]
     },
     "execution_count": 149,
     "metadata": {},
     "output_type": "execute_result"
    }
   ],
   "source": [
    "combine.iloc[15,18]"
   ]
  },
  {
   "cell_type": "code",
   "execution_count": 151,
   "metadata": {},
   "outputs": [
    {
     "name": "stdout",
     "output_type": "stream",
     "text": [
      "Yes\n"
     ]
    }
   ],
   "source": [
    "if \"中学\" in combine.iloc[15,18]:\n",
    "    print(\"Yes\")"
   ]
  },
  {
   "cell_type": "code",
   "execution_count": null,
   "metadata": {},
   "outputs": [],
   "source": [
    "职业中学\n",
    "职业技术中学\n",
    "职业高级中学\n",
    "职业高中\n",
    "技术高级中学\n",
    "技术高中"
   ]
  },
  {
   "cell_type": "code",
   "execution_count": 155,
   "metadata": {},
   "outputs": [
    {
     "name": "stdout",
     "output_type": "stream",
     "text": [
      "Time cost = 12.853135s\n"
     ]
    }
   ],
   "source": [
    "#职业高中\n",
    "time_start = time.time()\n",
    "for i in range(len(combine)):\n",
    "    if (\"职业中学\" in combine.iloc[i,18] or \"职业技术中学\" in combine.iloc[i,18]\n",
    "                                or \"职业高级中学\" in combine.iloc[i,18] or \"职业高中\" in combine.iloc[i,18]\n",
    "                               or \"技术高级中学\" in combine.iloc[i,18] or \"技术高中\" in combine.iloc[i,18]):\n",
    "        combine.iloc[i,19] = combine.iloc[i,22] # 按高考所在省填充\n",
    "        combine.iloc[i,20] = \"职业高中\" # 中学类别      \n",
    "\n",
    "time_end = time.time()\n",
    "print('Time cost = %fs' % (time_end - time_start))"
   ]
  },
  {
   "cell_type": "code",
   "execution_count": 156,
   "metadata": {},
   "outputs": [
    {
     "data": {
      "text/plain": [
       "0       45290\n",
       "普通高中    27853\n",
       "示范高中    12939\n",
       "职业高中      385\n",
       "中职学校       79\n",
       "技工学校        1\n",
       "Name: 毕业中学类别, dtype: int64"
      ]
     },
     "execution_count": 156,
     "metadata": {},
     "output_type": "execute_result"
    }
   ],
   "source": [
    "combine['毕业中学类别'].value_counts()"
   ]
  },
  {
   "cell_type": "code",
   "execution_count": 157,
   "metadata": {},
   "outputs": [
    {
     "name": "stdout",
     "output_type": "stream",
     "text": [
      "Time cost = 23.503207s\n"
     ]
    }
   ],
   "source": [
    "#中专学校\n",
    "time_start = time.time()\n",
    "for i in range(len(combine)):\n",
    "    if combine.iloc[i,20] == 0 and (\"学校\" in combine.iloc[i,18] or \"学院\" in combine.iloc[i,18]):\n",
    "        combine.iloc[i,19] = combine.iloc[i,22] # 按高考所在省填充\n",
    "        combine.iloc[i,20] = \"中职学校\" # 中学类别      \n",
    "\n",
    "time_end = time.time()\n",
    "print('Time cost = %fs' % (time_end - time_start))"
   ]
  },
  {
   "cell_type": "code",
   "execution_count": 158,
   "metadata": {},
   "outputs": [
    {
     "data": {
      "text/plain": [
       "0       36024\n",
       "普通高中    27853\n",
       "示范高中    12939\n",
       "中职学校     9345\n",
       "职业高中      385\n",
       "技工学校        1\n",
       "Name: 毕业中学类别, dtype: int64"
      ]
     },
     "execution_count": 158,
     "metadata": {},
     "output_type": "execute_result"
    }
   ],
   "source": [
    "combine['毕业中学类别'].value_counts()"
   ]
  },
  {
   "cell_type": "code",
   "execution_count": 159,
   "metadata": {},
   "outputs": [
    {
     "name": "stdout",
     "output_type": "stream",
     "text": [
      "Time cost = 45.957755s\n"
     ]
    }
   ],
   "source": [
    "#普通高中\n",
    "time_start = time.time()\n",
    "for i in range(len(combine)):\n",
    "    if combine.iloc[i,20] == 0 and (\"中学\" in combine.iloc[i,18] or \"高中\" in combine.iloc[i,18]):\n",
    "        combine.iloc[i,19] = combine.iloc[i,22] # 按高考所在省填充\n",
    "        combine.iloc[i,20] = \"普通高中\" # 中学类别      \n",
    "\n",
    "time_end = time.time()\n",
    "print('Time cost = %fs' % (time_end - time_start))"
   ]
  },
  {
   "cell_type": "code",
   "execution_count": 160,
   "metadata": {},
   "outputs": [
    {
     "data": {
      "text/plain": [
       "普通高中    50167\n",
       "0       13710\n",
       "示范高中    12939\n",
       "中职学校     9345\n",
       "职业高中      385\n",
       "技工学校        1\n",
       "Name: 毕业中学类别, dtype: int64"
      ]
     },
     "execution_count": 160,
     "metadata": {},
     "output_type": "execute_result"
    }
   ],
   "source": [
    "combine['毕业中学类别'].value_counts()"
   ]
  },
  {
   "cell_type": "code",
   "execution_count": 164,
   "metadata": {},
   "outputs": [
    {
     "data": {
      "text/plain": [
       "True"
      ]
     },
     "execution_count": 164,
     "metadata": {},
     "output_type": "execute_result"
    }
   ],
   "source": [
    "combine.iloc[15,18].endswith(\"中学\")"
   ]
  },
  {
   "cell_type": "code",
   "execution_count": 165,
   "metadata": {},
   "outputs": [
    {
     "name": "stdout",
     "output_type": "stream",
     "text": [
      "Time cost = 21.541625s\n"
     ]
    }
   ],
   "source": [
    "#普通高中\n",
    "time_start = time.time()\n",
    "for i in range(len(combine)):\n",
    "    if combine.iloc[i,20] == 0 and combine.iloc[i,18].endswith(\"中\"):\n",
    "        combine.iloc[i,19] = combine.iloc[i,22] # 按高考所在省填充\n",
    "        combine.iloc[i,20] = \"普通高中\" # 中学类别      \n",
    "\n",
    "time_end = time.time()\n",
    "print('Time cost = %fs' % (time_end - time_start))"
   ]
  },
  {
   "cell_type": "code",
   "execution_count": 166,
   "metadata": {},
   "outputs": [
    {
     "data": {
      "text/plain": [
       "普通高中    60503\n",
       "示范高中    12939\n",
       "中职学校     9345\n",
       "0        3374\n",
       "职业高中      385\n",
       "技工学校        1\n",
       "Name: 毕业中学类别, dtype: int64"
      ]
     },
     "execution_count": 166,
     "metadata": {},
     "output_type": "execute_result"
    }
   ],
   "source": [
    "combine['毕业中学类别'].value_counts()"
   ]
  },
  {
   "cell_type": "code",
   "execution_count": 167,
   "metadata": {},
   "outputs": [],
   "source": [
    "combine.to_excel(r'/home/centos/Documents/admission_analysis/最终数据修改版.xlsx', index = False)"
   ]
  },
  {
   "cell_type": "code",
   "execution_count": 168,
   "metadata": {},
   "outputs": [],
   "source": [
    "file40 = \"/home/centos/Documents/admission_analysis/综合信息汇总（删减版）.xls\""
   ]
  },
  {
   "cell_type": "code",
   "execution_count": 169,
   "metadata": {},
   "outputs": [],
   "source": [
    "total = pd.read_excel(file40)"
   ]
  },
  {
   "cell_type": "code",
   "execution_count": 170,
   "metadata": {},
   "outputs": [
    {
     "name": "stdout",
     "output_type": "stream",
     "text": [
      "Time cost = 6.437364s\n"
     ]
    }
   ],
   "source": [
    "time_start = time.time()\n",
    "for i in range(len(total)):\n",
    "    if total.iloc[i,20] == 0:\n",
    "        total.iloc[i,19] = total.iloc[i,22] # 按高考所在省填充\n",
    "\n",
    "time_end = time.time()\n",
    "print('Time cost = %fs' % (time_end - time_start))"
   ]
  },
  {
   "cell_type": "code",
   "execution_count": 171,
   "metadata": {},
   "outputs": [
    {
     "name": "stdout",
     "output_type": "stream",
     "text": [
      "Time cost = 8.443573s\n"
     ]
    }
   ],
   "source": [
    "#中职学校\n",
    "time_start = time.time()\n",
    "for i in range(len(total)):\n",
    "    if (\"职专\" in total.iloc[i,18] or \"中专\" in total.iloc[i,18] or \"职业教育中心\" in total.iloc[i,18]):\n",
    "        #total.iloc[i,19] = total.iloc[i,22] # 按高考所在省填充\n",
    "        total.iloc[i,20] = \"中职学校\" # 中学类别      \n",
    "\n",
    "time_end = time.time()\n",
    "print('Time cost = %fs' % (time_end - time_start))"
   ]
  },
  {
   "cell_type": "code",
   "execution_count": 172,
   "metadata": {},
   "outputs": [
    {
     "name": "stdout",
     "output_type": "stream",
     "text": [
      "Time cost = 6.869179s\n"
     ]
    }
   ],
   "source": [
    "#普通高中\n",
    "time_start = time.time()\n",
    "for i in range(len(total)):\n",
    "    if total.iloc[i,20] == 0:\n",
    "        #total.iloc[i,19] = total.iloc[i,22] # 按高考所在省填充\n",
    "        total.iloc[i,20] = \"普通高中\" # 中学类别      \n",
    "\n",
    "time_end = time.time()\n",
    "print('Time cost = %fs' % (time_end - time_start))"
   ]
  },
  {
   "cell_type": "code",
   "execution_count": 173,
   "metadata": {},
   "outputs": [],
   "source": [
    "total.to_excel(r'/home/centos/Documents/admission_analysis/最终数据修改版（部分修改）.xlsx', index = False)"
   ]
  },
  {
   "cell_type": "code",
   "execution_count": 2,
   "metadata": {},
   "outputs": [],
   "source": [
    "import pandas as pd"
   ]
  },
  {
   "cell_type": "code",
   "execution_count": 3,
   "metadata": {},
   "outputs": [],
   "source": [
    "#data = pd.read_excel(\"/home/centos/Documents/admission_analysis/回归分析两独热+哈希编码版.xlsx\")\n",
    "data = pd.read_excel(\"/Users/ichigo34/Downloads/2.招生数据分析项目/回归分析/回归分析两独热+哈希编码版.xlsx\")"
   ]
  },
  {
   "cell_type": "code",
   "execution_count": 4,
   "metadata": {},
   "outputs": [],
   "source": [
    "import numpy as np"
   ]
  },
  {
   "cell_type": "code",
   "execution_count": 5,
   "metadata": {},
   "outputs": [],
   "source": [
    "from sklearn.model_selection import train_test_split"
   ]
  },
  {
   "cell_type": "code",
   "execution_count": 6,
   "metadata": {},
   "outputs": [],
   "source": [
    "X = data.iloc[:,1:98]"
   ]
  },
  {
   "cell_type": "code",
   "execution_count": 7,
   "metadata": {},
   "outputs": [
    {
     "data": {
      "text/html": [
       "<div>\n",
       "<style scoped>\n",
       "    .dataframe tbody tr th:only-of-type {\n",
       "        vertical-align: middle;\n",
       "    }\n",
       "\n",
       "    .dataframe tbody tr th {\n",
       "        vertical-align: top;\n",
       "    }\n",
       "\n",
       "    .dataframe thead th {\n",
       "        text-align: right;\n",
       "    }\n",
       "</style>\n",
       "<table border=\"1\" class=\"dataframe\">\n",
       "  <thead>\n",
       "    <tr style=\"text-align: right;\">\n",
       "      <th></th>\n",
       "      <th>col_0</th>\n",
       "      <th>col_1</th>\n",
       "      <th>col_2</th>\n",
       "      <th>col_3</th>\n",
       "      <th>col_4</th>\n",
       "      <th>col_5</th>\n",
       "      <th>col_6</th>\n",
       "      <th>col_7</th>\n",
       "      <th>招生年度</th>\n",
       "      <th>性别</th>\n",
       "      <th>...</th>\n",
       "      <th>户口所在地-贵州省</th>\n",
       "      <th>户口所在地-辽宁省</th>\n",
       "      <th>户口所在地-重庆市</th>\n",
       "      <th>户口所在地-陕西省</th>\n",
       "      <th>户口所在地-青海省</th>\n",
       "      <th>户口所在地-香港特别行政区</th>\n",
       "      <th>户口所在地-黑龙江省</th>\n",
       "      <th>考试科目数量</th>\n",
       "      <th>考试大致难度</th>\n",
       "      <th>计划录取人数</th>\n",
       "    </tr>\n",
       "  </thead>\n",
       "  <tbody>\n",
       "    <tr>\n",
       "      <th>0</th>\n",
       "      <td>0</td>\n",
       "      <td>0</td>\n",
       "      <td>1</td>\n",
       "      <td>0</td>\n",
       "      <td>0</td>\n",
       "      <td>1</td>\n",
       "      <td>0</td>\n",
       "      <td>1</td>\n",
       "      <td>2016</td>\n",
       "      <td>0</td>\n",
       "      <td>...</td>\n",
       "      <td>0</td>\n",
       "      <td>0</td>\n",
       "      <td>0</td>\n",
       "      <td>0</td>\n",
       "      <td>0</td>\n",
       "      <td>0</td>\n",
       "      <td>0</td>\n",
       "      <td>3</td>\n",
       "      <td>5</td>\n",
       "      <td>10</td>\n",
       "    </tr>\n",
       "    <tr>\n",
       "      <th>1</th>\n",
       "      <td>0</td>\n",
       "      <td>0</td>\n",
       "      <td>0</td>\n",
       "      <td>0</td>\n",
       "      <td>1</td>\n",
       "      <td>1</td>\n",
       "      <td>0</td>\n",
       "      <td>1</td>\n",
       "      <td>2016</td>\n",
       "      <td>0</td>\n",
       "      <td>...</td>\n",
       "      <td>0</td>\n",
       "      <td>0</td>\n",
       "      <td>0</td>\n",
       "      <td>0</td>\n",
       "      <td>0</td>\n",
       "      <td>0</td>\n",
       "      <td>0</td>\n",
       "      <td>3</td>\n",
       "      <td>5</td>\n",
       "      <td>10</td>\n",
       "    </tr>\n",
       "    <tr>\n",
       "      <th>2</th>\n",
       "      <td>0</td>\n",
       "      <td>0</td>\n",
       "      <td>0</td>\n",
       "      <td>0</td>\n",
       "      <td>0</td>\n",
       "      <td>0</td>\n",
       "      <td>1</td>\n",
       "      <td>2</td>\n",
       "      <td>2016</td>\n",
       "      <td>1</td>\n",
       "      <td>...</td>\n",
       "      <td>0</td>\n",
       "      <td>0</td>\n",
       "      <td>0</td>\n",
       "      <td>0</td>\n",
       "      <td>0</td>\n",
       "      <td>0</td>\n",
       "      <td>1</td>\n",
       "      <td>3</td>\n",
       "      <td>4</td>\n",
       "      <td>70</td>\n",
       "    </tr>\n",
       "    <tr>\n",
       "      <th>3</th>\n",
       "      <td>0</td>\n",
       "      <td>0</td>\n",
       "      <td>1</td>\n",
       "      <td>0</td>\n",
       "      <td>0</td>\n",
       "      <td>0</td>\n",
       "      <td>1</td>\n",
       "      <td>1</td>\n",
       "      <td>2016</td>\n",
       "      <td>1</td>\n",
       "      <td>...</td>\n",
       "      <td>0</td>\n",
       "      <td>0</td>\n",
       "      <td>0</td>\n",
       "      <td>0</td>\n",
       "      <td>0</td>\n",
       "      <td>0</td>\n",
       "      <td>0</td>\n",
       "      <td>2</td>\n",
       "      <td>3</td>\n",
       "      <td>20</td>\n",
       "    </tr>\n",
       "    <tr>\n",
       "      <th>4</th>\n",
       "      <td>0</td>\n",
       "      <td>0</td>\n",
       "      <td>1</td>\n",
       "      <td>1</td>\n",
       "      <td>0</td>\n",
       "      <td>1</td>\n",
       "      <td>0</td>\n",
       "      <td>0</td>\n",
       "      <td>2016</td>\n",
       "      <td>1</td>\n",
       "      <td>...</td>\n",
       "      <td>0</td>\n",
       "      <td>0</td>\n",
       "      <td>0</td>\n",
       "      <td>0</td>\n",
       "      <td>0</td>\n",
       "      <td>0</td>\n",
       "      <td>0</td>\n",
       "      <td>2</td>\n",
       "      <td>3</td>\n",
       "      <td>45</td>\n",
       "    </tr>\n",
       "    <tr>\n",
       "      <th>...</th>\n",
       "      <td>...</td>\n",
       "      <td>...</td>\n",
       "      <td>...</td>\n",
       "      <td>...</td>\n",
       "      <td>...</td>\n",
       "      <td>...</td>\n",
       "      <td>...</td>\n",
       "      <td>...</td>\n",
       "      <td>...</td>\n",
       "      <td>...</td>\n",
       "      <td>...</td>\n",
       "      <td>...</td>\n",
       "      <td>...</td>\n",
       "      <td>...</td>\n",
       "      <td>...</td>\n",
       "      <td>...</td>\n",
       "      <td>...</td>\n",
       "      <td>...</td>\n",
       "      <td>...</td>\n",
       "      <td>...</td>\n",
       "      <td>...</td>\n",
       "    </tr>\n",
       "    <tr>\n",
       "      <th>113676</th>\n",
       "      <td>2</td>\n",
       "      <td>0</td>\n",
       "      <td>0</td>\n",
       "      <td>0</td>\n",
       "      <td>0</td>\n",
       "      <td>0</td>\n",
       "      <td>1</td>\n",
       "      <td>0</td>\n",
       "      <td>2018</td>\n",
       "      <td>1</td>\n",
       "      <td>...</td>\n",
       "      <td>0</td>\n",
       "      <td>0</td>\n",
       "      <td>0</td>\n",
       "      <td>0</td>\n",
       "      <td>0</td>\n",
       "      <td>0</td>\n",
       "      <td>0</td>\n",
       "      <td>3</td>\n",
       "      <td>6</td>\n",
       "      <td>18</td>\n",
       "    </tr>\n",
       "    <tr>\n",
       "      <th>113677</th>\n",
       "      <td>0</td>\n",
       "      <td>0</td>\n",
       "      <td>0</td>\n",
       "      <td>2</td>\n",
       "      <td>0</td>\n",
       "      <td>0</td>\n",
       "      <td>0</td>\n",
       "      <td>1</td>\n",
       "      <td>2018</td>\n",
       "      <td>1</td>\n",
       "      <td>...</td>\n",
       "      <td>0</td>\n",
       "      <td>0</td>\n",
       "      <td>0</td>\n",
       "      <td>0</td>\n",
       "      <td>0</td>\n",
       "      <td>0</td>\n",
       "      <td>0</td>\n",
       "      <td>1</td>\n",
       "      <td>5</td>\n",
       "      <td>15</td>\n",
       "    </tr>\n",
       "    <tr>\n",
       "      <th>113678</th>\n",
       "      <td>1</td>\n",
       "      <td>1</td>\n",
       "      <td>0</td>\n",
       "      <td>0</td>\n",
       "      <td>1</td>\n",
       "      <td>0</td>\n",
       "      <td>0</td>\n",
       "      <td>0</td>\n",
       "      <td>2018</td>\n",
       "      <td>0</td>\n",
       "      <td>...</td>\n",
       "      <td>0</td>\n",
       "      <td>0</td>\n",
       "      <td>0</td>\n",
       "      <td>0</td>\n",
       "      <td>0</td>\n",
       "      <td>0</td>\n",
       "      <td>0</td>\n",
       "      <td>4</td>\n",
       "      <td>7</td>\n",
       "      <td>15</td>\n",
       "    </tr>\n",
       "    <tr>\n",
       "      <th>113679</th>\n",
       "      <td>0</td>\n",
       "      <td>1</td>\n",
       "      <td>0</td>\n",
       "      <td>0</td>\n",
       "      <td>0</td>\n",
       "      <td>0</td>\n",
       "      <td>2</td>\n",
       "      <td>0</td>\n",
       "      <td>2018</td>\n",
       "      <td>0</td>\n",
       "      <td>...</td>\n",
       "      <td>0</td>\n",
       "      <td>0</td>\n",
       "      <td>0</td>\n",
       "      <td>0</td>\n",
       "      <td>0</td>\n",
       "      <td>0</td>\n",
       "      <td>0</td>\n",
       "      <td>4</td>\n",
       "      <td>7</td>\n",
       "      <td>50</td>\n",
       "    </tr>\n",
       "    <tr>\n",
       "      <th>113680</th>\n",
       "      <td>1</td>\n",
       "      <td>0</td>\n",
       "      <td>0</td>\n",
       "      <td>0</td>\n",
       "      <td>0</td>\n",
       "      <td>0</td>\n",
       "      <td>1</td>\n",
       "      <td>1</td>\n",
       "      <td>2018</td>\n",
       "      <td>1</td>\n",
       "      <td>...</td>\n",
       "      <td>0</td>\n",
       "      <td>0</td>\n",
       "      <td>0</td>\n",
       "      <td>0</td>\n",
       "      <td>0</td>\n",
       "      <td>0</td>\n",
       "      <td>0</td>\n",
       "      <td>3</td>\n",
       "      <td>5</td>\n",
       "      <td>20</td>\n",
       "    </tr>\n",
       "  </tbody>\n",
       "</table>\n",
       "<p>113681 rows × 97 columns</p>\n",
       "</div>"
      ],
      "text/plain": [
       "        col_0  col_1  col_2  col_3  col_4  col_5  col_6  col_7  招生年度  性别  ...  \\\n",
       "0           0      0      1      0      0      1      0      1  2016   0  ...   \n",
       "1           0      0      0      0      1      1      0      1  2016   0  ...   \n",
       "2           0      0      0      0      0      0      1      2  2016   1  ...   \n",
       "3           0      0      1      0      0      0      1      1  2016   1  ...   \n",
       "4           0      0      1      1      0      1      0      0  2016   1  ...   \n",
       "...       ...    ...    ...    ...    ...    ...    ...    ...   ...  ..  ...   \n",
       "113676      2      0      0      0      0      0      1      0  2018   1  ...   \n",
       "113677      0      0      0      2      0      0      0      1  2018   1  ...   \n",
       "113678      1      1      0      0      1      0      0      0  2018   0  ...   \n",
       "113679      0      1      0      0      0      0      2      0  2018   0  ...   \n",
       "113680      1      0      0      0      0      0      1      1  2018   1  ...   \n",
       "\n",
       "        户口所在地-贵州省  户口所在地-辽宁省  户口所在地-重庆市  户口所在地-陕西省  户口所在地-青海省  户口所在地-香港特别行政区  \\\n",
       "0               0          0          0          0          0              0   \n",
       "1               0          0          0          0          0              0   \n",
       "2               0          0          0          0          0              0   \n",
       "3               0          0          0          0          0              0   \n",
       "4               0          0          0          0          0              0   \n",
       "...           ...        ...        ...        ...        ...            ...   \n",
       "113676          0          0          0          0          0              0   \n",
       "113677          0          0          0          0          0              0   \n",
       "113678          0          0          0          0          0              0   \n",
       "113679          0          0          0          0          0              0   \n",
       "113680          0          0          0          0          0              0   \n",
       "\n",
       "        户口所在地-黑龙江省  考试科目数量  考试大致难度  计划录取人数  \n",
       "0                0       3       5      10  \n",
       "1                0       3       5      10  \n",
       "2                1       3       4      70  \n",
       "3                0       2       3      20  \n",
       "4                0       2       3      45  \n",
       "...            ...     ...     ...     ...  \n",
       "113676           0       3       6      18  \n",
       "113677           0       1       5      15  \n",
       "113678           0       4       7      15  \n",
       "113679           0       4       7      50  \n",
       "113680           0       3       5      20  \n",
       "\n",
       "[113681 rows x 97 columns]"
      ]
     },
     "execution_count": 7,
     "metadata": {},
     "output_type": "execute_result"
    }
   ],
   "source": [
    "X"
   ]
  },
  {
   "cell_type": "code",
   "execution_count": 8,
   "metadata": {},
   "outputs": [],
   "source": [
    "y = data['是否发放合格证']"
   ]
  },
  {
   "cell_type": "code",
   "execution_count": 9,
   "metadata": {},
   "outputs": [],
   "source": [
    "x_train, x_test, y_train, y_test = train_test_split(X,y,train_size = 0.8 , test_size = 0.2 , stratify = y)"
   ]
  },
  {
   "cell_type": "code",
   "execution_count": 10,
   "metadata": {},
   "outputs": [],
   "source": [
    "from sklearn.linear_model import LogisticRegression"
   ]
  },
  {
   "cell_type": "code",
   "execution_count": 11,
   "metadata": {},
   "outputs": [
    {
     "name": "stderr",
     "output_type": "stream",
     "text": [
      "/Users/ichigo34/anaconda3/lib/python3.7/site-packages/sklearn/linear_model/_logistic.py:818: ConvergenceWarning: lbfgs failed to converge (status=1):\n",
      "STOP: TOTAL NO. of ITERATIONS REACHED LIMIT.\n",
      "\n",
      "Increase the number of iterations (max_iter) or scale the data as shown in:\n",
      "    https://scikit-learn.org/stable/modules/preprocessing.html\n",
      "Please also refer to the documentation for alternative solver options:\n",
      "    https://scikit-learn.org/stable/modules/linear_model.html#logistic-regression\n",
      "  extra_warning_msg=_LOGISTIC_SOLVER_CONVERGENCE_MSG,\n"
     ]
    },
    {
     "data": {
      "text/plain": [
       "LogisticRegression()"
      ]
     },
     "execution_count": 11,
     "metadata": {},
     "output_type": "execute_result"
    }
   ],
   "source": [
    "log_reg = LogisticRegression()\n",
    "log_reg.fit(x_train, y_train)\n",
    "\n",
    "#LogisticRegression(C=1.0, class_weight=None, dual=False, fit_intercept=True,\n",
    "#          intercept_scaling=1, max_iter=100, multi_class='ovr', n_jobs=1,\n",
    "#          penalty='l2', random_state=None, solver='liblinear', tol=0.0001,\n",
    "#          verbose=0, warm_start=False)"
   ]
  },
  {
   "cell_type": "code",
   "execution_count": 12,
   "metadata": {},
   "outputs": [
    {
     "data": {
      "text/plain": [
       "0.965341308937368"
      ]
     },
     "execution_count": 12,
     "metadata": {},
     "output_type": "execute_result"
    }
   ],
   "source": [
    "log_reg.score(x_train, y_train)"
   ]
  },
  {
   "cell_type": "code",
   "execution_count": 13,
   "metadata": {},
   "outputs": [],
   "source": [
    "y_predict = log_reg.predict(x_test)"
   ]
  },
  {
   "cell_type": "code",
   "execution_count": 14,
   "metadata": {},
   "outputs": [
    {
     "data": {
      "text/plain": [
       "1.0"
      ]
     },
     "execution_count": 14,
     "metadata": {},
     "output_type": "execute_result"
    }
   ],
   "source": [
    "log_reg.score(x_test, y_predict)"
   ]
  },
  {
   "cell_type": "code",
   "execution_count": 15,
   "metadata": {},
   "outputs": [
    {
     "data": {
      "text/plain": [
       "0.9653428332673616"
      ]
     },
     "execution_count": 15,
     "metadata": {},
     "output_type": "execute_result"
    }
   ],
   "source": [
    "log_reg.score(x_test, y_test)"
   ]
  },
  {
   "cell_type": "code",
   "execution_count": 16,
   "metadata": {},
   "outputs": [],
   "source": [
    "from sklearn.metrics import r2_score"
   ]
  },
  {
   "cell_type": "code",
   "execution_count": 18,
   "metadata": {},
   "outputs": [
    {
     "name": "stdout",
     "output_type": "stream",
     "text": [
      "训练集合上R^2 = 0.965\n",
      "测试集合上R^2 = 0.965 \n"
     ]
    }
   ],
   "source": [
    "print(\"训练集合上R^2 = {:.3f}\".format(log_reg.score(x_train, y_train)))\n",
    "print(\"测试集合上R^2 = {:.3f} \".format(log_reg.score(x_test, y_test)))"
   ]
  },
  {
   "cell_type": "code",
   "execution_count": 19,
   "metadata": {},
   "outputs": [
    {
     "name": "stdout",
     "output_type": "stream",
     "text": [
      "[[21949     0]\n",
      " [  788     0]]\n",
      "0.0\n",
      "0.0\n"
     ]
    },
    {
     "name": "stderr",
     "output_type": "stream",
     "text": [
      "/Users/ichigo34/anaconda3/lib/python3.7/site-packages/sklearn/metrics/_classification.py:1308: UndefinedMetricWarning: Precision is ill-defined and being set to 0.0 due to no predicted samples. Use `zero_division` parameter to control this behavior.\n",
      "  _warn_prf(average, modifier, msg_start, len(result))\n"
     ]
    }
   ],
   "source": [
    "from sklearn.metrics import confusion_matrix\n",
    "print(confusion_matrix(y_test,y_predict))\n",
    "\n",
    "from sklearn.metrics import precision_score\n",
    "print(precision_score(y_test,y_predict))\n",
    "\n",
    "from sklearn.metrics import  recall_score\n",
    "print(recall_score(y_test,y_predict))\n"
   ]
  },
  {
   "cell_type": "code",
   "execution_count": null,
   "metadata": {},
   "outputs": [],
   "source": []
  }
 ],
 "metadata": {
  "kernelspec": {
   "display_name": "Python 3",
   "language": "python",
   "name": "python3"
  },
  "language_info": {
   "codemirror_mode": {
    "name": "ipython",
    "version": 3
   },
   "file_extension": ".py",
   "mimetype": "text/x-python",
   "name": "python",
   "nbconvert_exporter": "python",
   "pygments_lexer": "ipython3",
   "version": "3.7.1"
  }
 },
 "nbformat": 4,
 "nbformat_minor": 4
}
