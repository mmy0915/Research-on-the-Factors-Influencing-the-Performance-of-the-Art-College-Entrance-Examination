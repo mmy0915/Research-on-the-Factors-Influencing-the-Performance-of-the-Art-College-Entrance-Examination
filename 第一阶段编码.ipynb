{
 "cells": [
  {
   "cell_type": "code",
   "execution_count": 2,
   "metadata": {},
   "outputs": [],
   "source": [
    "from sklearn import preprocessing"
   ]
  },
  {
   "cell_type": "code",
   "execution_count": 3,
   "metadata": {},
   "outputs": [],
   "source": [
    "import category_encoders as ce"
   ]
  },
  {
   "cell_type": "code",
   "execution_count": 1,
   "metadata": {},
   "outputs": [],
   "source": [
    "import pandas as pd"
   ]
  },
  {
   "cell_type": "code",
   "execution_count": 2,
   "metadata": {},
   "outputs": [],
   "source": [
    "df_combine = pd.read_excel('/Users/ichigo34/Downloads/2.招生数据分析项目/回归分析/综合信息汇总（第一阶段）.xls',sheet_name = 'combine')"
   ]
  },
  {
   "cell_type": "code",
   "execution_count": 3,
   "metadata": {},
   "outputs": [],
   "source": [
    "df_test = pd.read_excel('/Users/ichigo34/Downloads/2.招生数据分析项目/回归分析/综合信息汇总（第一阶段）.xls',sheet_name = '考试科目')"
   ]
  },
  {
   "cell_type": "code",
   "execution_count": 2,
   "metadata": {},
   "outputs": [],
   "source": [
    "import time"
   ]
  },
  {
   "cell_type": "code",
   "execution_count": 6,
   "metadata": {},
   "outputs": [
    {
     "name": "stdout",
     "output_type": "stream",
     "text": [
      "Time cost = 148.011855s\n"
     ]
    }
   ],
   "source": [
    "time_start = time.time()\n",
    "for i in range(len(df_combine)):\n",
    "    for j in range(len(df_test)):\n",
    "        if df_test.iloc[j,0] == df_combine.iloc[i,1] and df_test.iloc[j,1] == df_combine.iloc[i,5]: # 年份、报考方向一致\n",
    "            df_combine.iloc[i,19] = df_test.iloc[j,2] # 数目\n",
    "            df_combine.iloc[i,20] = df_test.iloc[j,3] # 难度\n",
    "                \n",
    "time_end = time.time()\n",
    "print('Time cost = %fs' % (time_end - time_start))"
   ]
  },
  {
   "cell_type": "code",
   "execution_count": 7,
   "metadata": {},
   "outputs": [],
   "source": [
    "df_combine.to_excel(r'/Users/ichigo34/Downloads/2.招生数据分析项目/回归分析/补全考试科目版.xlsx', index = False)"
   ]
  },
  {
   "cell_type": "code",
   "execution_count": 14,
   "metadata": {},
   "outputs": [],
   "source": [
    "df_combine = pd.read_excel('/Users/ichigo34/Downloads/2.招生数据分析项目/回归分析/综合信息汇总（第一阶段）.xls',\n",
    "                           sheet_name = 'combine')"
   ]
  },
  {
   "cell_type": "code",
   "execution_count": 15,
   "metadata": {},
   "outputs": [],
   "source": [
    "zs_plan = pd.read_excel('/Users/ichigo34/Downloads/2.招生数据分析项目/回归分析/招生计划.xlsx')"
   ]
  },
  {
   "cell_type": "code",
   "execution_count": 17,
   "metadata": {},
   "outputs": [
    {
     "name": "stdout",
     "output_type": "stream",
     "text": [
      "Time cost = 103.953475s\n"
     ]
    }
   ],
   "source": [
    "time_start = time.time()\n",
    "for i in range(len(df_combine)):\n",
    "    for j in range(len(zs_plan)):\n",
    "        if zs_plan.iloc[j,0] == df_combine.iloc[i,1] and zs_plan.iloc[j,1] == df_combine.iloc[i,5]: # 年份、报考方向一致\n",
    "            df_combine.iloc[i,23] = zs_plan.iloc[j,2] # 数目\n",
    "                \n",
    "time_end = time.time()\n",
    "print('Time cost = %fs' % (time_end - time_start))"
   ]
  },
  {
   "cell_type": "code",
   "execution_count": 18,
   "metadata": {},
   "outputs": [
    {
     "data": {
      "text/plain": [
       "0         10.0\n",
       "1          NaN\n",
       "2          NaN\n",
       "3          NaN\n",
       "4          NaN\n",
       "          ... \n",
       "113676     NaN\n",
       "113677     NaN\n",
       "113678     NaN\n",
       "113679     NaN\n",
       "113680     NaN\n",
       "Name: 计划录取人数, Length: 113681, dtype: float64"
      ]
     },
     "execution_count": 18,
     "metadata": {},
     "output_type": "execute_result"
    }
   ],
   "source": [
    "df_combine['计划录取人数']"
   ]
  },
  {
   "cell_type": "code",
   "execution_count": 20,
   "metadata": {},
   "outputs": [
    {
     "data": {
      "text/plain": [
       "2016"
      ]
     },
     "execution_count": 20,
     "metadata": {},
     "output_type": "execute_result"
    }
   ],
   "source": [
    "zs_plan.iloc[2,0]\n"
   ]
  },
  {
   "cell_type": "code",
   "execution_count": 21,
   "metadata": {},
   "outputs": [
    {
     "data": {
      "text/plain": [
       "2016"
      ]
     },
     "execution_count": 21,
     "metadata": {},
     "output_type": "execute_result"
    }
   ],
   "source": [
    "df_combine.iloc[2,1]\n"
   ]
  },
  {
   "cell_type": "code",
   "execution_count": 22,
   "metadata": {},
   "outputs": [
    {
     "data": {
      "text/plain": [
       "'电影学（制片与市场）'"
      ]
     },
     "execution_count": 22,
     "metadata": {},
     "output_type": "execute_result"
    }
   ],
   "source": [
    "zs_plan.iloc[2,1]\n"
   ]
  },
  {
   "cell_type": "code",
   "execution_count": 23,
   "metadata": {},
   "outputs": [
    {
     "data": {
      "text/plain": [
       "'动画'"
      ]
     },
     "execution_count": 23,
     "metadata": {},
     "output_type": "execute_result"
    }
   ],
   "source": [
    "df_combine.iloc[2,5]\n"
   ]
  },
  {
   "cell_type": "code",
   "execution_count": 24,
   "metadata": {},
   "outputs": [
    {
     "data": {
      "text/plain": [
       "70"
      ]
     },
     "execution_count": 24,
     "metadata": {},
     "output_type": "execute_result"
    }
   ],
   "source": [
    "df_combine.iloc[2,23]\n"
   ]
  },
  {
   "cell_type": "code",
   "execution_count": 25,
   "metadata": {},
   "outputs": [
    {
     "data": {
      "text/plain": [
       "45"
      ]
     },
     "execution_count": 25,
     "metadata": {},
     "output_type": "execute_result"
    }
   ],
   "source": [
    "zs_plan.iloc[2,2]"
   ]
  },
  {
   "cell_type": "code",
   "execution_count": 13,
   "metadata": {},
   "outputs": [],
   "source": [
    "df_combine.to_excel(r'/Users/ichigo34/Downloads/2.招生数据分析项目/回归分析/补全招生人数版.xlsx', index = False)"
   ]
  },
  {
   "cell_type": "code",
   "execution_count": 26,
   "metadata": {},
   "outputs": [],
   "source": [
    "from sklearn.preprocessing import OrdinalEncoder"
   ]
  },
  {
   "cell_type": "code",
   "execution_count": 27,
   "metadata": {},
   "outputs": [
    {
     "data": {
      "text/plain": [
       "OrdinalEncoder()"
      ]
     },
     "execution_count": 27,
     "metadata": {},
     "output_type": "execute_result"
    }
   ],
   "source": [
    "oe = OrdinalEncoder()\n",
    "oe.fit([ ['ac', 'ef'], \n",
    "         ['ef', 'bd'],\n",
    "         ['gg', 'bd'],\n",
    "         ['ef', 'ff']]) # 必须是二维"
   ]
  },
  {
   "cell_type": "code",
   "execution_count": 28,
   "metadata": {},
   "outputs": [
    {
     "name": "stdout",
     "output_type": "stream",
     "text": [
      "[array(['ac', 'ef', 'gg'], dtype=object), array(['bd', 'ef', 'ff'], dtype=object)]\n"
     ]
    }
   ],
   "source": [
    "print(oe.categories_)"
   ]
  },
  {
   "cell_type": "code",
   "execution_count": 29,
   "metadata": {},
   "outputs": [
    {
     "name": "stdout",
     "output_type": "stream",
     "text": [
      "[[1. 2.]\n",
      " [2. 0.]]\n"
     ]
    }
   ],
   "source": [
    "print(oe.transform([ ['ef', 'ff'],\n",
    "                     ['gg', 'bd'] ]))"
   ]
  },
  {
   "cell_type": "code",
   "execution_count": 30,
   "metadata": {},
   "outputs": [
    {
     "name": "stdout",
     "output_type": "stream",
     "text": [
      "[['ac' 'ef']\n",
      " ['gg' 'ef']\n",
      " ['ef' 'ff']]\n"
     ]
    }
   ],
   "source": [
    "print( oe.inverse_transform([ [0, 1], \n",
    "                              [2, 1],\n",
    "                              [1, 2] ]))"
   ]
  },
  {
   "cell_type": "code",
   "execution_count": 6,
   "metadata": {},
   "outputs": [],
   "source": [
    "coding_test = pd.read_excel('/Users/ichigo34/Downloads/2.招生数据分析项目/回归分析/综合信息汇总（第一阶段）.xls')"
   ]
  },
  {
   "cell_type": "code",
   "execution_count": 32,
   "metadata": {},
   "outputs": [],
   "source": [
    "from sklearn import preprocessing\n",
    "enc = preprocessing.OneHotEncoder()"
   ]
  },
  {
   "cell_type": "code",
   "execution_count": 34,
   "metadata": {},
   "outputs": [],
   "source": [
    "data_x = coding_test[['院系','专业','专业方向']]"
   ]
  },
  {
   "cell_type": "code",
   "execution_count": 35,
   "metadata": {},
   "outputs": [
    {
     "data": {
      "text/plain": [
       "OneHotEncoder()"
      ]
     },
     "execution_count": 35,
     "metadata": {},
     "output_type": "execute_result"
    }
   ],
   "source": [
    "enc.fit(data_x)"
   ]
  },
  {
   "cell_type": "code",
   "execution_count": 36,
   "metadata": {},
   "outputs": [
    {
     "data": {
      "text/plain": [
       "'auto'"
      ]
     },
     "execution_count": 36,
     "metadata": {},
     "output_type": "execute_result"
    }
   ],
   "source": [
    "enc.categories"
   ]
  },
  {
   "cell_type": "code",
   "execution_count": 38,
   "metadata": {},
   "outputs": [],
   "source": [
    "arr = enc.transform(coding_test[['院系','专业','专业方向']]).toarray()"
   ]
  },
  {
   "cell_type": "code",
   "execution_count": 39,
   "metadata": {},
   "outputs": [
    {
     "data": {
      "text/plain": [
       "array([[0., 0., 0., ..., 0., 0., 0.],\n",
       "       [0., 0., 0., ..., 0., 0., 0.],\n",
       "       [1., 0., 0., ..., 0., 0., 0.],\n",
       "       ...,\n",
       "       [0., 0., 1., ..., 0., 0., 0.],\n",
       "       [0., 0., 0., ..., 0., 0., 1.],\n",
       "       [0., 0., 0., ..., 0., 0., 0.]])"
      ]
     },
     "execution_count": 39,
     "metadata": {},
     "output_type": "execute_result"
    }
   ],
   "source": [
    "arr"
   ]
  },
  {
   "cell_type": "code",
   "execution_count": 40,
   "metadata": {},
   "outputs": [
    {
     "data": {
      "text/plain": [
       "(113681, 63)"
      ]
     },
     "execution_count": 40,
     "metadata": {},
     "output_type": "execute_result"
    }
   ],
   "source": [
    "arr.shape"
   ]
  },
  {
   "cell_type": "code",
   "execution_count": 41,
   "metadata": {},
   "outputs": [],
   "source": [
    "enc1 = preprocessing.OneHotEncoder()"
   ]
  },
  {
   "cell_type": "code",
   "execution_count": 43,
   "metadata": {},
   "outputs": [
    {
     "data": {
      "text/plain": [
       "OneHotEncoder()"
      ]
     },
     "execution_count": 43,
     "metadata": {},
     "output_type": "execute_result"
    }
   ],
   "source": [
    "enc1.fit(coding_test[['高考所在省']])"
   ]
  },
  {
   "cell_type": "code",
   "execution_count": 44,
   "metadata": {},
   "outputs": [],
   "source": [
    "arr1 = enc1.transform(coding_test[['高考所在省']]).toarray()"
   ]
  },
  {
   "cell_type": "code",
   "execution_count": 45,
   "metadata": {},
   "outputs": [
    {
     "data": {
      "text/plain": [
       "array([[0., 0., 0., ..., 0., 0., 0.],\n",
       "       [0., 0., 0., ..., 0., 0., 0.],\n",
       "       [0., 0., 0., ..., 0., 0., 1.],\n",
       "       ...,\n",
       "       [0., 0., 0., ..., 0., 0., 0.],\n",
       "       [0., 0., 0., ..., 0., 0., 0.],\n",
       "       [0., 0., 0., ..., 0., 0., 0.]])"
      ]
     },
     "execution_count": 45,
     "metadata": {},
     "output_type": "execute_result"
    }
   ],
   "source": [
    "arr1"
   ]
  },
  {
   "cell_type": "code",
   "execution_count": 46,
   "metadata": {},
   "outputs": [
    {
     "data": {
      "text/plain": [
       "(113681, 36)"
      ]
     },
     "execution_count": 46,
     "metadata": {},
     "output_type": "execute_result"
    }
   ],
   "source": [
    "arr1.shape"
   ]
  },
  {
   "cell_type": "code",
   "execution_count": 56,
   "metadata": {},
   "outputs": [
    {
     "data": {
      "text/plain": [
       "'auto'"
      ]
     },
     "execution_count": 56,
     "metadata": {},
     "output_type": "execute_result"
    }
   ],
   "source": [
    "enc1.categories"
   ]
  },
  {
   "cell_type": "code",
   "execution_count": 47,
   "metadata": {},
   "outputs": [
    {
     "data": {
      "text/plain": [
       "(113681, 36)"
      ]
     },
     "execution_count": 47,
     "metadata": {},
     "output_type": "execute_result"
    }
   ],
   "source": [
    "enc2 = preprocessing.OneHotEncoder()\n",
    "enc2.fit(coding_test[['户口所在地']])\n",
    "arr2 = enc2.transform(coding_test[['户口所在地']]).toarray()\n",
    "arr2.shape"
   ]
  },
  {
   "cell_type": "code",
   "execution_count": 48,
   "metadata": {},
   "outputs": [],
   "source": [
    "import numpy as np"
   ]
  },
  {
   "cell_type": "code",
   "execution_count": 51,
   "metadata": {},
   "outputs": [],
   "source": [
    "np.savetxt('001.csv',arr)"
   ]
  },
  {
   "cell_type": "code",
   "execution_count": 52,
   "metadata": {},
   "outputs": [],
   "source": [
    "np.savetxt('高考所在省.csv',arr1)"
   ]
  },
  {
   "cell_type": "code",
   "execution_count": 53,
   "metadata": {},
   "outputs": [],
   "source": [
    "np.savetxt('户口所在地.csv',arr2)"
   ]
  },
  {
   "cell_type": "code",
   "execution_count": 54,
   "metadata": {},
   "outputs": [],
   "source": [
    "enc3 = preprocessing.OneHotEncoder()\n",
    "enc3.fit(coding_test[['考生类别名称']])\n",
    "arr3 = enc3.transform(coding_test[['考生类别名称']]).toarray()\n",
    "arr3.shape\n",
    "np.savetxt('考生类别名称.csv',arr3)"
   ]
  },
  {
   "cell_type": "code",
   "execution_count": 5,
   "metadata": {},
   "outputs": [],
   "source": [
    "from category_encoders.hashing import HashingEncoder"
   ]
  },
  {
   "cell_type": "code",
   "execution_count": 7,
   "metadata": {},
   "outputs": [],
   "source": [
    "y = coding_test[['是否发放合格证']]"
   ]
  },
  {
   "cell_type": "code",
   "execution_count": 8,
   "metadata": {},
   "outputs": [],
   "source": [
    "he = HashingEncoder(cols=['院系', '专业','专业方向']).fit(coding_test, y)"
   ]
  },
  {
   "cell_type": "code",
   "execution_count": 9,
   "metadata": {},
   "outputs": [
    {
     "data": {
      "text/plain": [
       "['col_0',\n",
       " 'col_1',\n",
       " 'col_2',\n",
       " 'col_3',\n",
       " 'col_4',\n",
       " 'col_5',\n",
       " 'col_6',\n",
       " 'col_7',\n",
       " 1,\n",
       " '招生年度',\n",
       " '性别',\n",
       " '年龄',\n",
       " '政治面貌名称',\n",
       " '民族名称',\n",
       " '考生类别名称-农村应届',\n",
       " '考生类别名称-农村往届',\n",
       " '考生类别名称-城市应届',\n",
       " '考生类别名称-城市往届',\n",
       " '高考类别',\n",
       " '文化程度名称',\n",
       " '身高',\n",
       " '毕业中学类别',\n",
       " '高考所在省-上海市',\n",
       " '高考所在省-云南省',\n",
       " '高考所在省-内蒙古自治区',\n",
       " '高考所在省-北京市',\n",
       " '高考所在省-华侨',\n",
       " '高考所在省-台湾省',\n",
       " '高考所在省-吉林省',\n",
       " '高考所在省-四川省',\n",
       " '高考所在省-天津市',\n",
       " '高考所在省-宁夏回族自治区',\n",
       " '高考所在省-安徽省',\n",
       " '高考所在省-山东省',\n",
       " '高考所在省-山西省',\n",
       " '高考所在省-广东省',\n",
       " '高考所在省-广西壮族自治区',\n",
       " '高考所在省-新疆维吾尔自治区',\n",
       " '高考所在省-江苏省',\n",
       " '高考所在省-江西省',\n",
       " '高考所在省-河北省',\n",
       " '高考所在省-河南省',\n",
       " '高考所在省-浙江省',\n",
       " '高考所在省-海南省',\n",
       " '高考所在省-港澳台联招办',\n",
       " '高考所在省-湖北省',\n",
       " '高考所在省-湖南省',\n",
       " '高考所在省-澳门特别行政区',\n",
       " '高考所在省-甘肃省',\n",
       " '高考所在省-福建省',\n",
       " '高考所在省-西藏自治区',\n",
       " '高考所在省-贵州省',\n",
       " '高考所在省-辽宁省',\n",
       " '高考所在省-重庆市',\n",
       " '高考所在省-陕西省',\n",
       " '高考所在省-青海省',\n",
       " '高考所在省-香港特别行政区',\n",
       " '高考所在省-黑龙江省',\n",
       " '高考所在市',\n",
       " '户口所在地-上海市',\n",
       " '户口所在地-云南省',\n",
       " '户口所在地-内蒙古自治区',\n",
       " '户口所在地-北京市',\n",
       " '户口所在地-华侨',\n",
       " '户口所在地-台湾省',\n",
       " '户口所在地-吉林省',\n",
       " '户口所在地-四川省',\n",
       " '户口所在地-天津市',\n",
       " '户口所在地-宁夏回族自治区',\n",
       " '户口所在地-安徽省',\n",
       " '户口所在地-山东省',\n",
       " '户口所在地-山西省',\n",
       " '户口所在地-广东省',\n",
       " '户口所在地-广西壮族自治区',\n",
       " '户口所在地-新疆维吾尔自治区',\n",
       " '户口所在地-江苏省',\n",
       " '户口所在地-江西省',\n",
       " '户口所在地-河北省',\n",
       " '户口所在地-河南省',\n",
       " '户口所在地-浙江省',\n",
       " '户口所在地-海南省',\n",
       " '户口所在地-港澳台联招办',\n",
       " '户口所在地-湖北省',\n",
       " '户口所在地-湖南省',\n",
       " '户口所在地-澳门特别行政区',\n",
       " '户口所在地-甘肃省',\n",
       " '户口所在地-福建省',\n",
       " '户口所在地-西藏自治区',\n",
       " '户口所在地-贵州省',\n",
       " '户口所在地-辽宁省',\n",
       " '户口所在地-重庆市',\n",
       " '户口所在地-陕西省',\n",
       " '户口所在地-青海省',\n",
       " '户口所在地-香港特别行政区',\n",
       " '户口所在地-黑龙江省',\n",
       " '考试科目数量',\n",
       " '考试大致难度',\n",
       " '计划录取人数',\n",
       " '是否发放合格证']"
      ]
     },
     "execution_count": 9,
     "metadata": {},
     "output_type": "execute_result"
    }
   ],
   "source": [
    "he.get_feature_names()"
   ]
  },
  {
   "cell_type": "code",
   "execution_count": 63,
   "metadata": {
    "collapsed": true
   },
   "outputs": [
    {
     "name": "stdout",
     "output_type": "stream",
     "text": [
      "<class 'pandas.core.frame.DataFrame'>\n",
      "RangeIndex: 113681 entries, 0 to 113680\n",
      "Data columns (total 99 columns):\n",
      " #   Column          Non-Null Count   Dtype\n",
      "---  ------          --------------   -----\n",
      " 0   col_0           113681 non-null  int64\n",
      " 1   col_1           113681 non-null  int64\n",
      " 2   col_2           113681 non-null  int64\n",
      " 3   col_3           113681 non-null  int64\n",
      " 4   col_4           113681 non-null  int64\n",
      " 5   col_5           113681 non-null  int64\n",
      " 6   col_6           113681 non-null  int64\n",
      " 7   col_7           113681 non-null  int64\n",
      " 8   1               113681 non-null  int64\n",
      " 9   招生年度            113681 non-null  int64\n",
      " 10  性别              113681 non-null  int64\n",
      " 11  年龄              113681 non-null  int64\n",
      " 12  政治面貌名称          113681 non-null  int64\n",
      " 13  民族名称            113681 non-null  int64\n",
      " 14  考生类别名称-农村应届     113681 non-null  int64\n",
      " 15  考生类别名称-农村往届     113681 non-null  int64\n",
      " 16  考生类别名称-城市应届     113681 non-null  int64\n",
      " 17  考生类别名称-城市往届     113681 non-null  int64\n",
      " 18  高考类别            113681 non-null  int64\n",
      " 19  文化程度名称          113681 non-null  int64\n",
      " 20  身高              113681 non-null  int64\n",
      " 21  毕业中学类别          113681 non-null  int64\n",
      " 22  高考所在省-上海市       113681 non-null  int64\n",
      " 23  高考所在省-云南省       113681 non-null  int64\n",
      " 24  高考所在省-内蒙古自治区    113681 non-null  int64\n",
      " 25  高考所在省-北京市       113681 non-null  int64\n",
      " 26  高考所在省-华侨        113681 non-null  int64\n",
      " 27  高考所在省-台湾省       113681 non-null  int64\n",
      " 28  高考所在省-吉林省       113681 non-null  int64\n",
      " 29  高考所在省-四川省       113681 non-null  int64\n",
      " 30  高考所在省-天津市       113681 non-null  int64\n",
      " 31  高考所在省-宁夏回族自治区   113681 non-null  int64\n",
      " 32  高考所在省-安徽省       113681 non-null  int64\n",
      " 33  高考所在省-山东省       113681 non-null  int64\n",
      " 34  高考所在省-山西省       113681 non-null  int64\n",
      " 35  高考所在省-广东省       113681 non-null  int64\n",
      " 36  高考所在省-广西壮族自治区   113681 non-null  int64\n",
      " 37  高考所在省-新疆维吾尔自治区  113681 non-null  int64\n",
      " 38  高考所在省-江苏省       113681 non-null  int64\n",
      " 39  高考所在省-江西省       113681 non-null  int64\n",
      " 40  高考所在省-河北省       113681 non-null  int64\n",
      " 41  高考所在省-河南省       113681 non-null  int64\n",
      " 42  高考所在省-浙江省       113681 non-null  int64\n",
      " 43  高考所在省-海南省       113681 non-null  int64\n",
      " 44  高考所在省-港澳台联招办    113681 non-null  int64\n",
      " 45  高考所在省-湖北省       113681 non-null  int64\n",
      " 46  高考所在省-湖南省       113681 non-null  int64\n",
      " 47  高考所在省-澳门特别行政区   113681 non-null  int64\n",
      " 48  高考所在省-甘肃省       113681 non-null  int64\n",
      " 49  高考所在省-福建省       113681 non-null  int64\n",
      " 50  高考所在省-西藏自治区     113681 non-null  int64\n",
      " 51  高考所在省-贵州省       113681 non-null  int64\n",
      " 52  高考所在省-辽宁省       113681 non-null  int64\n",
      " 53  高考所在省-重庆市       113681 non-null  int64\n",
      " 54  高考所在省-陕西省       113681 non-null  int64\n",
      " 55  高考所在省-青海省       113681 non-null  int64\n",
      " 56  高考所在省-香港特别行政区   113681 non-null  int64\n",
      " 57  高考所在省-黑龙江省      113681 non-null  int64\n",
      " 58  高考所在市           113681 non-null  int64\n",
      " 59  户口所在地-上海市       113681 non-null  int64\n",
      " 60  户口所在地-云南省       113681 non-null  int64\n",
      " 61  户口所在地-内蒙古自治区    113681 non-null  int64\n",
      " 62  户口所在地-北京市       113681 non-null  int64\n",
      " 63  户口所在地-华侨        113681 non-null  int64\n",
      " 64  户口所在地-台湾省       113681 non-null  int64\n",
      " 65  户口所在地-吉林省       113681 non-null  int64\n",
      " 66  户口所在地-四川省       113681 non-null  int64\n",
      " 67  户口所在地-天津市       113681 non-null  int64\n",
      " 68  户口所在地-宁夏回族自治区   113681 non-null  int64\n",
      " 69  户口所在地-安徽省       113681 non-null  int64\n",
      " 70  户口所在地-山东省       113681 non-null  int64\n",
      " 71  户口所在地-山西省       113681 non-null  int64\n",
      " 72  户口所在地-广东省       113681 non-null  int64\n",
      " 73  户口所在地-广西壮族自治区   113681 non-null  int64\n",
      " 74  户口所在地-新疆维吾尔自治区  113681 non-null  int64\n",
      " 75  户口所在地-江苏省       113681 non-null  int64\n",
      " 76  户口所在地-江西省       113681 non-null  int64\n",
      " 77  户口所在地-河北省       113681 non-null  int64\n",
      " 78  户口所在地-河南省       113681 non-null  int64\n",
      " 79  户口所在地-浙江省       113681 non-null  int64\n",
      " 80  户口所在地-海南省       113681 non-null  int64\n",
      " 81  户口所在地-港澳台联招办    113681 non-null  int64\n",
      " 82  户口所在地-湖北省       113681 non-null  int64\n",
      " 83  户口所在地-湖南省       113681 non-null  int64\n",
      " 84  户口所在地-澳门特别行政区   113681 non-null  int64\n",
      " 85  户口所在地-甘肃省       113681 non-null  int64\n",
      " 86  户口所在地-福建省       113681 non-null  int64\n",
      " 87  户口所在地-西藏自治区     113681 non-null  int64\n",
      " 88  户口所在地-贵州省       113681 non-null  int64\n",
      " 89  户口所在地-辽宁省       113681 non-null  int64\n",
      " 90  户口所在地-重庆市       113681 non-null  int64\n",
      " 91  户口所在地-陕西省       113681 non-null  int64\n",
      " 92  户口所在地-青海省       113681 non-null  int64\n",
      " 93  户口所在地-香港特别行政区   113681 non-null  int64\n",
      " 94  户口所在地-黑龙江省      113681 non-null  int64\n",
      " 95  考试科目数量          113681 non-null  int64\n",
      " 96  考试大致难度          113681 non-null  int64\n",
      " 97  计划录取人数          113681 non-null  int64\n",
      " 98  是否发放合格证         113681 non-null  int64\n",
      "dtypes: int64(99)\n",
      "memory usage: 85.9 MB\n",
      "None\n"
     ]
    }
   ],
   "source": [
    "data = he.transform(coding_test)\n",
    "print(data.info())"
   ]
  },
  {
   "cell_type": "code",
   "execution_count": 64,
   "metadata": {},
   "outputs": [],
   "source": [
    "data.to_excel(r'/Users/ichigo34/Downloads/2.招生数据分析项目/回归分析/回归分析两独热+哈希编码版.xlsx', index = False)"
   ]
  },
  {
   "cell_type": "code",
   "execution_count": 65,
   "metadata": {},
   "outputs": [],
   "source": [
    "hash3 = pd.read_excel('/Users/ichigo34/Downloads/2.招生数据分析项目/回归分析/综合信息汇总（第一阶段）.xls',sheet_name = '原始')"
   ]
  },
  {
   "cell_type": "code",
   "execution_count": 66,
   "metadata": {},
   "outputs": [],
   "source": [
    "y1 = hash3[['是否发放合格证']]\n",
    "he1 = HashingEncoder(cols = ['院系', '专业','专业方向']).fit(hash3, y1)\n",
    "he2 = HashingEncoder(cols = ['高考所在省']).fit(hash3, y1)\n",
    "he3 = HashingEncoder(cols = ['户口所在地']).fit(hash3, y1)"
   ]
  },
  {
   "cell_type": "code",
   "execution_count": 68,
   "metadata": {
    "scrolled": false
   },
   "outputs": [
    {
     "name": "stdout",
     "output_type": "stream",
     "text": [
      "<class 'pandas.core.frame.DataFrame'>\n",
      "RangeIndex: 113681 entries, 0 to 113680\n",
      "Data columns (total 29 columns):\n",
      " #   Column       Non-Null Count   Dtype \n",
      "---  ------       --------------   ----- \n",
      " 0   col_0        113681 non-null  int64 \n",
      " 1   col_1        113681 non-null  int64 \n",
      " 2   col_2        113681 non-null  int64 \n",
      " 3   col_3        113681 non-null  int64 \n",
      " 4   col_4        113681 non-null  int64 \n",
      " 5   col_5        113681 non-null  int64 \n",
      " 6   col_6        113681 non-null  int64 \n",
      " 7   col_7        113681 non-null  int64 \n",
      " 8   1            113681 non-null  int64 \n",
      " 9   招生年度         113681 non-null  int64 \n",
      " 10  性别           113681 non-null  int64 \n",
      " 11  年龄           113681 non-null  int64 \n",
      " 12  政治面貌名称       113681 non-null  int64 \n",
      " 13  民族名称         113681 non-null  int64 \n",
      " 14  考生类别名称-农村应届  113681 non-null  int64 \n",
      " 15  考生类别名称-农村往届  113681 non-null  int64 \n",
      " 16  考生类别名称-城市应届  113681 non-null  int64 \n",
      " 17  考生类别名称-城市往届  113681 non-null  int64 \n",
      " 18  高考类别         113681 non-null  int64 \n",
      " 19  文化程度名称       113681 non-null  int64 \n",
      " 20  身高           113681 non-null  int64 \n",
      " 21  毕业中学类别       113681 non-null  int64 \n",
      " 22  高考所在省        113681 non-null  object\n",
      " 23  高考所在市        113681 non-null  int64 \n",
      " 24  户口所在地        113681 non-null  object\n",
      " 25  考试科目数量       113681 non-null  int64 \n",
      " 26  考试大致难度       113681 non-null  int64 \n",
      " 27  计划录取人数       113681 non-null  int64 \n",
      " 28  是否发放合格证      113681 non-null  int64 \n",
      "dtypes: int64(27), object(2)\n",
      "memory usage: 25.2+ MB\n",
      "None\n",
      "<class 'pandas.core.frame.DataFrame'>\n",
      "RangeIndex: 113681 entries, 0 to 113680\n",
      "Data columns (total 31 columns):\n",
      " #   Column       Non-Null Count   Dtype \n",
      "---  ------       --------------   ----- \n",
      " 0   col_0        113681 non-null  int64 \n",
      " 1   col_1        113681 non-null  int64 \n",
      " 2   col_2        113681 non-null  int64 \n",
      " 3   col_3        113681 non-null  int64 \n",
      " 4   col_4        113681 non-null  int64 \n",
      " 5   col_5        113681 non-null  int64 \n",
      " 6   col_6        113681 non-null  int64 \n",
      " 7   col_7        113681 non-null  int64 \n",
      " 8   1            113681 non-null  int64 \n",
      " 9   招生年度         113681 non-null  int64 \n",
      " 10  性别           113681 non-null  int64 \n",
      " 11  院系           113681 non-null  object\n",
      " 12  专业           113681 non-null  object\n",
      " 13  专业方向         113681 non-null  object\n",
      " 14  年龄           113681 non-null  int64 \n",
      " 15  政治面貌名称       113681 non-null  int64 \n",
      " 16  民族名称         113681 non-null  int64 \n",
      " 17  考生类别名称-农村应届  113681 non-null  int64 \n",
      " 18  考生类别名称-农村往届  113681 non-null  int64 \n",
      " 19  考生类别名称-城市应届  113681 non-null  int64 \n",
      " 20  考生类别名称-城市往届  113681 non-null  int64 \n",
      " 21  高考类别         113681 non-null  int64 \n",
      " 22  文化程度名称       113681 non-null  int64 \n",
      " 23  身高           113681 non-null  int64 \n",
      " 24  毕业中学类别       113681 non-null  int64 \n",
      " 25  高考所在市        113681 non-null  int64 \n",
      " 26  户口所在地        113681 non-null  object\n",
      " 27  考试科目数量       113681 non-null  int64 \n",
      " 28  考试大致难度       113681 non-null  int64 \n",
      " 29  计划录取人数       113681 non-null  int64 \n",
      " 30  是否发放合格证      113681 non-null  int64 \n",
      "dtypes: int64(27), object(4)\n",
      "memory usage: 26.9+ MB\n",
      "None\n",
      "<class 'pandas.core.frame.DataFrame'>\n",
      "RangeIndex: 113681 entries, 0 to 113680\n",
      "Data columns (total 31 columns):\n",
      " #   Column       Non-Null Count   Dtype \n",
      "---  ------       --------------   ----- \n",
      " 0   col_0        113681 non-null  int64 \n",
      " 1   col_1        113681 non-null  int64 \n",
      " 2   col_2        113681 non-null  int64 \n",
      " 3   col_3        113681 non-null  int64 \n",
      " 4   col_4        113681 non-null  int64 \n",
      " 5   col_5        113681 non-null  int64 \n",
      " 6   col_6        113681 non-null  int64 \n",
      " 7   col_7        113681 non-null  int64 \n",
      " 8   1            113681 non-null  int64 \n",
      " 9   招生年度         113681 non-null  int64 \n",
      " 10  性别           113681 non-null  int64 \n",
      " 11  院系           113681 non-null  object\n",
      " 12  专业           113681 non-null  object\n",
      " 13  专业方向         113681 non-null  object\n",
      " 14  年龄           113681 non-null  int64 \n",
      " 15  政治面貌名称       113681 non-null  int64 \n",
      " 16  民族名称         113681 non-null  int64 \n",
      " 17  考生类别名称-农村应届  113681 non-null  int64 \n",
      " 18  考生类别名称-农村往届  113681 non-null  int64 \n",
      " 19  考生类别名称-城市应届  113681 non-null  int64 \n",
      " 20  考生类别名称-城市往届  113681 non-null  int64 \n",
      " 21  高考类别         113681 non-null  int64 \n",
      " 22  文化程度名称       113681 non-null  int64 \n",
      " 23  身高           113681 non-null  int64 \n",
      " 24  毕业中学类别       113681 non-null  int64 \n",
      " 25  高考所在省        113681 non-null  object\n",
      " 26  高考所在市        113681 non-null  int64 \n",
      " 27  考试科目数量       113681 non-null  int64 \n",
      " 28  考试大致难度       113681 non-null  int64 \n",
      " 29  计划录取人数       113681 non-null  int64 \n",
      " 30  是否发放合格证      113681 non-null  int64 \n",
      "dtypes: int64(27), object(4)\n",
      "memory usage: 26.9+ MB\n",
      "None\n"
     ]
    }
   ],
   "source": [
    "data1 = he1.transform(hash3)\n",
    "data2 = he2.transform(hash3)\n",
    "data3 = he3.transform(hash3)\n",
    "print(data1.info())\n",
    "print(data2.info())\n",
    "print(data3.info())"
   ]
  },
  {
   "cell_type": "code",
   "execution_count": 3,
   "metadata": {},
   "outputs": [],
   "source": [
    "df_1226 = pd.read_excel('/Users/ichigo34/Downloads/2.招生数据分析项目/回归分析/综合信息汇总（处理版）的副本.xls')"
   ]
  },
  {
   "cell_type": "code",
   "execution_count": 6,
   "metadata": {},
   "outputs": [
    {
     "data": {
      "text/plain": [
       "'三河一中'"
      ]
     },
     "execution_count": 6,
     "metadata": {},
     "output_type": "execute_result"
    }
   ],
   "source": [
    "df_1226.iloc[20,16]"
   ]
  },
  {
   "cell_type": "code",
   "execution_count": 7,
   "metadata": {},
   "outputs": [
    {
     "name": "stdout",
     "output_type": "stream",
     "text": [
      "Time cost = 2.035773s\n"
     ]
    }
   ],
   "source": [
    "time_start = time.time()\n",
    "for i in range(len(df_1226)):\n",
    "    if '美术' in df_1226.iloc[i,16]:\n",
    "        df_1226.iloc[i,17] = 1\n",
    "                \n",
    "time_end = time.time()\n",
    "print('Time cost = %fs' % (time_end - time_start))"
   ]
  },
  {
   "cell_type": "code",
   "execution_count": 8,
   "metadata": {},
   "outputs": [
    {
     "name": "stdout",
     "output_type": "stream",
     "text": [
      "Time cost = 2.137846s\n"
     ]
    }
   ],
   "source": [
    "time_start = time.time()\n",
    "for i in range(len(df_1226)):\n",
    "    if '艺术' in df_1226.iloc[i,16]:\n",
    "        df_1226.iloc[i,17] = 1\n",
    "                \n",
    "time_end = time.time()\n",
    "print('Time cost = %fs' % (time_end - time_start))"
   ]
  },
  {
   "cell_type": "code",
   "execution_count": 9,
   "metadata": {},
   "outputs": [
    {
     "name": "stdout",
     "output_type": "stream",
     "text": [
      "Time cost = 1.786021s\n"
     ]
    }
   ],
   "source": [
    "time_start = time.time()\n",
    "for i in range(len(df_1226)):\n",
    "    if '演艺' in df_1226.iloc[i,16]:\n",
    "        df_1226.iloc[i,17] = 1\n",
    "                \n",
    "time_end = time.time()\n",
    "print('Time cost = %fs' % (time_end - time_start))"
   ]
  },
  {
   "cell_type": "code",
   "execution_count": 10,
   "metadata": {},
   "outputs": [
    {
     "name": "stdout",
     "output_type": "stream",
     "text": [
      "Time cost = 1.790414s\n"
     ]
    }
   ],
   "source": [
    "time_start = time.time()\n",
    "for i in range(len(df_1226)):\n",
    "    if '美附中' in df_1226.iloc[i,16]:\n",
    "        df_1226.iloc[i,17] = 1\n",
    "                \n",
    "time_end = time.time()\n",
    "print('Time cost = %fs' % (time_end - time_start))"
   ]
  },
  {
   "cell_type": "code",
   "execution_count": 12,
   "metadata": {},
   "outputs": [
    {
     "name": "stdout",
     "output_type": "stream",
     "text": [
      "Time cost = 1.781997s\n"
     ]
    }
   ],
   "source": [
    "time_start = time.time()\n",
    "for i in range(len(df_1226)):\n",
    "    if '绘画' in df_1226.iloc[i,16]:\n",
    "        df_1226.iloc[i,17] = 1\n",
    "                \n",
    "time_end = time.time()\n",
    "print('Time cost = %fs' % (time_end - time_start))"
   ]
  },
  {
   "cell_type": "code",
   "execution_count": 13,
   "metadata": {},
   "outputs": [
    {
     "name": "stdout",
     "output_type": "stream",
     "text": [
      "Time cost = 1.840432s\n"
     ]
    }
   ],
   "source": [
    "time_start = time.time()\n",
    "for i in range(len(df_1226)):\n",
    "    if '音乐' in df_1226.iloc[i,16]:\n",
    "        df_1226.iloc[i,17] = 1\n",
    "                \n",
    "time_end = time.time()\n",
    "print('Time cost = %fs' % (time_end - time_start))"
   ]
  },
  {
   "cell_type": "code",
   "execution_count": 14,
   "metadata": {},
   "outputs": [
    {
     "name": "stdout",
     "output_type": "stream",
     "text": [
      "Time cost = 1.845650s\n"
     ]
    }
   ],
   "source": [
    "time_start = time.time()\n",
    "for i in range(len(df_1226)):\n",
    "    if '戏曲' in df_1226.iloc[i,16]:\n",
    "        df_1226.iloc[i,17] = 1\n",
    "                \n",
    "time_end = time.time()\n",
    "print('Time cost = %fs' % (time_end - time_start))"
   ]
  },
  {
   "cell_type": "code",
   "execution_count": 15,
   "metadata": {},
   "outputs": [
    {
     "name": "stdout",
     "output_type": "stream",
     "text": [
      "Time cost = 1.836421s\n"
     ]
    }
   ],
   "source": [
    "time_start = time.time()\n",
    "for i in range(len(df_1226)):\n",
    "    if '戏剧' in df_1226.iloc[i,16]:\n",
    "        df_1226.iloc[i,17] = 1\n",
    "                \n",
    "time_end = time.time()\n",
    "print('Time cost = %fs' % (time_end - time_start))"
   ]
  },
  {
   "cell_type": "code",
   "execution_count": 16,
   "metadata": {},
   "outputs": [
    {
     "name": "stdout",
     "output_type": "stream",
     "text": [
      "Time cost = 1.756530s\n"
     ]
    }
   ],
   "source": [
    "time_start = time.time()\n",
    "for i in range(len(df_1226)):\n",
    "    if '电影' in df_1226.iloc[i,16]:\n",
    "        df_1226.iloc[i,17] = 1\n",
    "                \n",
    "time_end = time.time()\n",
    "print('Time cost = %fs' % (time_end - time_start))"
   ]
  },
  {
   "cell_type": "code",
   "execution_count": 18,
   "metadata": {},
   "outputs": [
    {
     "name": "stdout",
     "output_type": "stream",
     "text": [
      "Time cost = 1.894178s\n"
     ]
    }
   ],
   "source": [
    "time_start = time.time()\n",
    "for i in range(len(df_1226)):\n",
    "    if '舞蹈' in df_1226.iloc[i,16]:\n",
    "        df_1226.iloc[i,17] = 1\n",
    "                \n",
    "time_end = time.time()\n",
    "print('Time cost = %fs' % (time_end - time_start))"
   ]
  },
  {
   "cell_type": "code",
   "execution_count": 19,
   "metadata": {},
   "outputs": [
    {
     "name": "stdout",
     "output_type": "stream",
     "text": [
      "Time cost = 1.766686s\n"
     ]
    }
   ],
   "source": [
    "time_start = time.time()\n",
    "for i in range(len(df_1226)):\n",
    "    if '影视' in df_1226.iloc[i,16]:\n",
    "        df_1226.iloc[i,17] = 1\n",
    "                \n",
    "time_end = time.time()\n",
    "print('Time cost = %fs' % (time_end - time_start))"
   ]
  },
  {
   "cell_type": "code",
   "execution_count": 21,
   "metadata": {},
   "outputs": [
    {
     "name": "stdout",
     "output_type": "stream",
     "text": [
      "Time cost = 1.780995s\n"
     ]
    }
   ],
   "source": [
    "time_start = time.time()\n",
    "for i in range(len(df_1226)):\n",
    "    if '艺校' in df_1226.iloc[i,16]:\n",
    "        df_1226.iloc[i,17] = 1\n",
    "                \n",
    "time_end = time.time()\n",
    "print('Time cost = %fs' % (time_end - time_start))"
   ]
  },
  {
   "cell_type": "code",
   "execution_count": 22,
   "metadata": {},
   "outputs": [
    {
     "name": "stdout",
     "output_type": "stream",
     "text": [
      "Time cost = 1.774608s\n"
     ]
    }
   ],
   "source": [
    "time_start = time.time()\n",
    "for i in range(len(df_1226)):\n",
    "    if '上戏' in df_1226.iloc[i,16]:\n",
    "        df_1226.iloc[i,17] = 1\n",
    "                \n",
    "time_end = time.time()\n",
    "print('Time cost = %fs' % (time_end - time_start))"
   ]
  },
  {
   "cell_type": "code",
   "execution_count": 23,
   "metadata": {},
   "outputs": [
    {
     "name": "stdout",
     "output_type": "stream",
     "text": [
      "Time cost = 1.764140s\n"
     ]
    }
   ],
   "source": [
    "time_start = time.time()\n",
    "for i in range(len(df_1226)):\n",
    "    if '中戏' in df_1226.iloc[i,16]:\n",
    "        df_1226.iloc[i,17] = 1\n",
    "                \n",
    "time_end = time.time()\n",
    "print('Time cost = %fs' % (time_end - time_start))"
   ]
  },
  {
   "cell_type": "code",
   "execution_count": 24,
   "metadata": {},
   "outputs": [
    {
     "name": "stdout",
     "output_type": "stream",
     "text": [
      "Time cost = 1.763059s\n"
     ]
    }
   ],
   "source": [
    "time_start = time.time()\n",
    "for i in range(len(df_1226)):\n",
    "    if '中传' in df_1226.iloc[i,16]:\n",
    "        df_1226.iloc[i,17] = 1\n",
    "                \n",
    "time_end = time.time()\n",
    "print('Time cost = %fs' % (time_end - time_start))"
   ]
  },
  {
   "cell_type": "code",
   "execution_count": 25,
   "metadata": {},
   "outputs": [
    {
     "name": "stdout",
     "output_type": "stream",
     "text": [
      "Time cost = 1.762273s\n"
     ]
    }
   ],
   "source": [
    "time_start = time.time()\n",
    "for i in range(len(df_1226)):\n",
    "    if '北影' in df_1226.iloc[i,16]:\n",
    "        df_1226.iloc[i,17] = 1\n",
    "                \n",
    "time_end = time.time()\n",
    "print('Time cost = %fs' % (time_end - time_start))"
   ]
  },
  {
   "cell_type": "code",
   "execution_count": 26,
   "metadata": {},
   "outputs": [
    {
     "name": "stdout",
     "output_type": "stream",
     "text": [
      "Time cost = 1.786829s\n"
     ]
    }
   ],
   "source": [
    "time_start = time.time()\n",
    "for i in range(len(df_1226)):\n",
    "    if '北电' in df_1226.iloc[i,16]:\n",
    "        df_1226.iloc[i,17] = 1\n",
    "                \n",
    "time_end = time.time()\n",
    "print('Time cost = %fs' % (time_end - time_start))"
   ]
  },
  {
   "cell_type": "code",
   "execution_count": 28,
   "metadata": {},
   "outputs": [
    {
     "name": "stdout",
     "output_type": "stream",
     "text": [
      "Time cost = 1.790943s\n"
     ]
    }
   ],
   "source": [
    "time_start = time.time()\n",
    "for i in range(len(df_1226)):\n",
    "    if '美院' in df_1226.iloc[i,16]:\n",
    "        df_1226.iloc[i,17] = 1\n",
    "                \n",
    "time_end = time.time()\n",
    "print('Time cost = %fs' % (time_end - time_start))"
   ]
  },
  {
   "cell_type": "code",
   "execution_count": 30,
   "metadata": {},
   "outputs": [
    {
     "data": {
      "text/plain": [
       "0    108020\n",
       "1      5661\n",
       "Name: 是否是美术类/艺术类学校毕业, dtype: int64"
      ]
     },
     "execution_count": 30,
     "metadata": {},
     "output_type": "execute_result"
    }
   ],
   "source": [
    "df_1226['是否是美术类/艺术类学校毕业'].value_counts()"
   ]
  },
  {
   "cell_type": "code",
   "execution_count": 31,
   "metadata": {},
   "outputs": [],
   "source": [
    "df_1226['是否是美术类/艺术类学校毕业'].to_excel(r'/Users/ichigo34/Downloads/2.招生数据分析项目/回归分析/是否是艺术学校毕业的.xlsx', index = False)"
   ]
  },
  {
   "cell_type": "code",
   "execution_count": null,
   "metadata": {},
   "outputs": [],
   "source": []
  }
 ],
 "metadata": {
  "kernelspec": {
   "display_name": "Python 3",
   "language": "python",
   "name": "python3"
  },
  "language_info": {
   "codemirror_mode": {
    "name": "ipython",
    "version": 3
   },
   "file_extension": ".py",
   "mimetype": "text/x-python",
   "name": "python",
   "nbconvert_exporter": "python",
   "pygments_lexer": "ipython3",
   "version": "3.7.1"
  }
 },
 "nbformat": 4,
 "nbformat_minor": 4
}
